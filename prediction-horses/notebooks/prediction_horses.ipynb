{
 "cells": [
  {
   "cell_type": "markdown",
   "id": "39b85461",
   "metadata": {},
   "source": [
    "## Predicción en datos de caballos"
   ]
  },
  {
   "cell_type": "markdown",
   "id": "1987f77b",
   "metadata": {},
   "source": [
    "La información relevante sobre la tabla se encuentra en este [link](https://archive-beta.ics.uci.edu/ml/datasets/horse+colic)."
   ]
  },
  {
   "cell_type": "code",
   "execution_count": 2,
   "id": "e338eb14",
   "metadata": {},
   "outputs": [],
   "source": [
    "import numpy as np\n",
    "import pandas as pd\n",
    "\n",
    "import matplotlib.pyplot as plt\n",
    "import seaborn as sns"
   ]
  },
  {
   "cell_type": "code",
   "execution_count": 3,
   "id": "49afe5bd",
   "metadata": {},
   "outputs": [
    {
     "data": {
      "text/html": [
       "<div>\n",
       "<style scoped>\n",
       "    .dataframe tbody tr th:only-of-type {\n",
       "        vertical-align: middle;\n",
       "    }\n",
       "\n",
       "    .dataframe tbody tr th {\n",
       "        vertical-align: top;\n",
       "    }\n",
       "\n",
       "    .dataframe thead th {\n",
       "        text-align: right;\n",
       "    }\n",
       "</style>\n",
       "<table border=\"1\" class=\"dataframe\">\n",
       "  <thead>\n",
       "    <tr style=\"text-align: right;\">\n",
       "      <th></th>\n",
       "      <th>surgery</th>\n",
       "      <th>age</th>\n",
       "      <th>hospital_number</th>\n",
       "      <th>r_temperature</th>\n",
       "      <th>pulse</th>\n",
       "      <th>resp_rate</th>\n",
       "      <th>ext_temperature</th>\n",
       "      <th>per_pulse</th>\n",
       "      <th>muc_membraes</th>\n",
       "      <th>cap_ref_time</th>\n",
       "      <th>...</th>\n",
       "      <th>protein</th>\n",
       "      <th>abd_appearance</th>\n",
       "      <th>abd_protein</th>\n",
       "      <th>outcome</th>\n",
       "      <th>surgical_lesion</th>\n",
       "      <th>type_lesion_1</th>\n",
       "      <th>type_lesion_2</th>\n",
       "      <th>type_lesion_3</th>\n",
       "      <th>cp_data</th>\n",
       "      <th>extra</th>\n",
       "    </tr>\n",
       "  </thead>\n",
       "  <tbody>\n",
       "    <tr>\n",
       "      <th>0</th>\n",
       "      <td>2.0</td>\n",
       "      <td>1</td>\n",
       "      <td>530101</td>\n",
       "      <td>38.5</td>\n",
       "      <td>66.0</td>\n",
       "      <td>28.0</td>\n",
       "      <td>3.0</td>\n",
       "      <td>3.0</td>\n",
       "      <td>NaN</td>\n",
       "      <td>2.0</td>\n",
       "      <td>...</td>\n",
       "      <td>8.4</td>\n",
       "      <td>NaN</td>\n",
       "      <td>NaN</td>\n",
       "      <td>2.0</td>\n",
       "      <td>2</td>\n",
       "      <td>11300</td>\n",
       "      <td>0</td>\n",
       "      <td>0</td>\n",
       "      <td>2</td>\n",
       "      <td>NaN</td>\n",
       "    </tr>\n",
       "    <tr>\n",
       "      <th>1</th>\n",
       "      <td>1.0</td>\n",
       "      <td>1</td>\n",
       "      <td>534817</td>\n",
       "      <td>39.2</td>\n",
       "      <td>88.0</td>\n",
       "      <td>20.0</td>\n",
       "      <td>NaN</td>\n",
       "      <td>NaN</td>\n",
       "      <td>4.0</td>\n",
       "      <td>1.0</td>\n",
       "      <td>...</td>\n",
       "      <td>85.0</td>\n",
       "      <td>2.0</td>\n",
       "      <td>2.0</td>\n",
       "      <td>3.0</td>\n",
       "      <td>2</td>\n",
       "      <td>2208</td>\n",
       "      <td>0</td>\n",
       "      <td>0</td>\n",
       "      <td>2</td>\n",
       "      <td>NaN</td>\n",
       "    </tr>\n",
       "    <tr>\n",
       "      <th>2</th>\n",
       "      <td>2.0</td>\n",
       "      <td>1</td>\n",
       "      <td>530334</td>\n",
       "      <td>38.3</td>\n",
       "      <td>40.0</td>\n",
       "      <td>24.0</td>\n",
       "      <td>1.0</td>\n",
       "      <td>1.0</td>\n",
       "      <td>3.0</td>\n",
       "      <td>1.0</td>\n",
       "      <td>...</td>\n",
       "      <td>6.7</td>\n",
       "      <td>NaN</td>\n",
       "      <td>NaN</td>\n",
       "      <td>1.0</td>\n",
       "      <td>2</td>\n",
       "      <td>0</td>\n",
       "      <td>0</td>\n",
       "      <td>0</td>\n",
       "      <td>1</td>\n",
       "      <td>NaN</td>\n",
       "    </tr>\n",
       "    <tr>\n",
       "      <th>3</th>\n",
       "      <td>1.0</td>\n",
       "      <td>9</td>\n",
       "      <td>5290409</td>\n",
       "      <td>39.1</td>\n",
       "      <td>164.0</td>\n",
       "      <td>84.0</td>\n",
       "      <td>4.0</td>\n",
       "      <td>1.0</td>\n",
       "      <td>6.0</td>\n",
       "      <td>2.0</td>\n",
       "      <td>...</td>\n",
       "      <td>7.2</td>\n",
       "      <td>3.0</td>\n",
       "      <td>5.3</td>\n",
       "      <td>2.0</td>\n",
       "      <td>1</td>\n",
       "      <td>2208</td>\n",
       "      <td>0</td>\n",
       "      <td>0</td>\n",
       "      <td>1</td>\n",
       "      <td>NaN</td>\n",
       "    </tr>\n",
       "    <tr>\n",
       "      <th>4</th>\n",
       "      <td>2.0</td>\n",
       "      <td>1</td>\n",
       "      <td>530255</td>\n",
       "      <td>37.3</td>\n",
       "      <td>104.0</td>\n",
       "      <td>35.0</td>\n",
       "      <td>NaN</td>\n",
       "      <td>NaN</td>\n",
       "      <td>6.0</td>\n",
       "      <td>2.0</td>\n",
       "      <td>...</td>\n",
       "      <td>7.4</td>\n",
       "      <td>NaN</td>\n",
       "      <td>NaN</td>\n",
       "      <td>2.0</td>\n",
       "      <td>2</td>\n",
       "      <td>4300</td>\n",
       "      <td>0</td>\n",
       "      <td>0</td>\n",
       "      <td>2</td>\n",
       "      <td>NaN</td>\n",
       "    </tr>\n",
       "  </tbody>\n",
       "</table>\n",
       "<p>5 rows × 29 columns</p>\n",
       "</div>"
      ],
      "text/plain": [
       "   surgery  age  hospital_number  r_temperature  pulse  resp_rate  \\\n",
       "0      2.0    1           530101           38.5   66.0       28.0   \n",
       "1      1.0    1           534817           39.2   88.0       20.0   \n",
       "2      2.0    1           530334           38.3   40.0       24.0   \n",
       "3      1.0    9          5290409           39.1  164.0       84.0   \n",
       "4      2.0    1           530255           37.3  104.0       35.0   \n",
       "\n",
       "   ext_temperature  per_pulse  muc_membraes  cap_ref_time  ...  protein  \\\n",
       "0              3.0        3.0           NaN           2.0  ...      8.4   \n",
       "1              NaN        NaN           4.0           1.0  ...     85.0   \n",
       "2              1.0        1.0           3.0           1.0  ...      6.7   \n",
       "3              4.0        1.0           6.0           2.0  ...      7.2   \n",
       "4              NaN        NaN           6.0           2.0  ...      7.4   \n",
       "\n",
       "   abd_appearance  abd_protein  outcome  surgical_lesion  type_lesion_1  \\\n",
       "0             NaN          NaN      2.0                2          11300   \n",
       "1             2.0          2.0      3.0                2           2208   \n",
       "2             NaN          NaN      1.0                2              0   \n",
       "3             3.0          5.3      2.0                1           2208   \n",
       "4             NaN          NaN      2.0                2           4300   \n",
       "\n",
       "   type_lesion_2  type_lesion_3  cp_data  extra  \n",
       "0              0              0        2    NaN  \n",
       "1              0              0        2    NaN  \n",
       "2              0              0        1    NaN  \n",
       "3              0              0        1    NaN  \n",
       "4              0              0        2    NaN  \n",
       "\n",
       "[5 rows x 29 columns]"
      ]
     },
     "execution_count": 3,
     "metadata": {},
     "output_type": "execute_result"
    }
   ],
   "source": [
    "PROJECT_DIR = \"../data/raw/\"\n",
    "col_names = [\n",
    "    'surgery', 'age', 'hospital_number',\n",
    "    'r_temperature', 'pulse', 'resp_rate',\n",
    "    'ext_temperature', 'per_pulse', 'muc_membraes',\n",
    "    'cap_ref_time', 'pain', 'peristalsis', 'abd_distension',\n",
    "    'naso_tub', 'naso_reflux', 'naso_reflux_ph', 'rect_exam', 'abdomen',\n",
    "    'pack_cell_vol', 'protein', 'abd_appearance', 'abd_protein', 'outcome',\n",
    "    'surgical_lesion', 'type_lesion_1', 'type_lesion_2', 'type_lesion_3', 'cp_data', 'extra'\n",
    "]\n",
    "df = pd.read_csv(PROJECT_DIR + 'horse-colic.data', sep= ' ', names=col_names, na_values = ['?'])\n",
    "df.head()"
   ]
  },
  {
   "cell_type": "code",
   "execution_count": 4,
   "id": "f5d3e872",
   "metadata": {},
   "outputs": [
    {
     "data": {
      "text/plain": [
       "(300, 29)"
      ]
     },
     "execution_count": 4,
     "metadata": {},
     "output_type": "execute_result"
    }
   ],
   "source": [
    "df.shape"
   ]
  },
  {
   "cell_type": "code",
   "execution_count": 5,
   "id": "7f22b656",
   "metadata": {},
   "outputs": [
    {
     "data": {
      "text/html": [
       "<div>\n",
       "<style scoped>\n",
       "    .dataframe tbody tr th:only-of-type {\n",
       "        vertical-align: middle;\n",
       "    }\n",
       "\n",
       "    .dataframe tbody tr th {\n",
       "        vertical-align: top;\n",
       "    }\n",
       "\n",
       "    .dataframe thead th {\n",
       "        text-align: right;\n",
       "    }\n",
       "</style>\n",
       "<table border=\"1\" class=\"dataframe\">\n",
       "  <thead>\n",
       "    <tr style=\"text-align: right;\">\n",
       "      <th></th>\n",
       "      <th>surgery</th>\n",
       "      <th>age</th>\n",
       "      <th>hospital_number</th>\n",
       "      <th>r_temperature</th>\n",
       "      <th>pulse</th>\n",
       "      <th>resp_rate</th>\n",
       "      <th>ext_temperature</th>\n",
       "      <th>per_pulse</th>\n",
       "      <th>muc_membraes</th>\n",
       "      <th>cap_ref_time</th>\n",
       "      <th>...</th>\n",
       "      <th>protein</th>\n",
       "      <th>abd_appearance</th>\n",
       "      <th>abd_protein</th>\n",
       "      <th>outcome</th>\n",
       "      <th>surgical_lesion</th>\n",
       "      <th>type_lesion_1</th>\n",
       "      <th>type_lesion_2</th>\n",
       "      <th>type_lesion_3</th>\n",
       "      <th>cp_data</th>\n",
       "      <th>extra</th>\n",
       "    </tr>\n",
       "  </thead>\n",
       "  <tbody>\n",
       "    <tr>\n",
       "      <th>count</th>\n",
       "      <td>299.000000</td>\n",
       "      <td>300.000000</td>\n",
       "      <td>3.000000e+02</td>\n",
       "      <td>240.000000</td>\n",
       "      <td>276.000000</td>\n",
       "      <td>242.000000</td>\n",
       "      <td>244.000000</td>\n",
       "      <td>231.000000</td>\n",
       "      <td>253.000000</td>\n",
       "      <td>268.000000</td>\n",
       "      <td>...</td>\n",
       "      <td>267.000000</td>\n",
       "      <td>135.000000</td>\n",
       "      <td>102.000000</td>\n",
       "      <td>299.000000</td>\n",
       "      <td>300.000000</td>\n",
       "      <td>300.000000</td>\n",
       "      <td>300.000000</td>\n",
       "      <td>300.000000</td>\n",
       "      <td>300.000000</td>\n",
       "      <td>0.0</td>\n",
       "    </tr>\n",
       "    <tr>\n",
       "      <th>mean</th>\n",
       "      <td>1.397993</td>\n",
       "      <td>1.640000</td>\n",
       "      <td>1.085889e+06</td>\n",
       "      <td>38.167917</td>\n",
       "      <td>71.913043</td>\n",
       "      <td>30.417355</td>\n",
       "      <td>2.348361</td>\n",
       "      <td>2.017316</td>\n",
       "      <td>2.853755</td>\n",
       "      <td>1.305970</td>\n",
       "      <td>...</td>\n",
       "      <td>24.456929</td>\n",
       "      <td>2.037037</td>\n",
       "      <td>3.019608</td>\n",
       "      <td>1.551839</td>\n",
       "      <td>1.363333</td>\n",
       "      <td>3657.880000</td>\n",
       "      <td>90.226667</td>\n",
       "      <td>7.363333</td>\n",
       "      <td>1.670000</td>\n",
       "      <td>NaN</td>\n",
       "    </tr>\n",
       "    <tr>\n",
       "      <th>std</th>\n",
       "      <td>0.490305</td>\n",
       "      <td>2.173972</td>\n",
       "      <td>1.529801e+06</td>\n",
       "      <td>0.732289</td>\n",
       "      <td>28.630557</td>\n",
       "      <td>17.642231</td>\n",
       "      <td>1.045054</td>\n",
       "      <td>1.042428</td>\n",
       "      <td>1.620294</td>\n",
       "      <td>0.477629</td>\n",
       "      <td>...</td>\n",
       "      <td>27.475009</td>\n",
       "      <td>0.804905</td>\n",
       "      <td>1.968567</td>\n",
       "      <td>0.737187</td>\n",
       "      <td>0.481763</td>\n",
       "      <td>5399.513513</td>\n",
       "      <td>649.569234</td>\n",
       "      <td>127.536674</td>\n",
       "      <td>0.470998</td>\n",
       "      <td>NaN</td>\n",
       "    </tr>\n",
       "    <tr>\n",
       "      <th>min</th>\n",
       "      <td>1.000000</td>\n",
       "      <td>1.000000</td>\n",
       "      <td>5.184760e+05</td>\n",
       "      <td>35.400000</td>\n",
       "      <td>30.000000</td>\n",
       "      <td>8.000000</td>\n",
       "      <td>1.000000</td>\n",
       "      <td>1.000000</td>\n",
       "      <td>1.000000</td>\n",
       "      <td>1.000000</td>\n",
       "      <td>...</td>\n",
       "      <td>3.300000</td>\n",
       "      <td>1.000000</td>\n",
       "      <td>0.100000</td>\n",
       "      <td>1.000000</td>\n",
       "      <td>1.000000</td>\n",
       "      <td>0.000000</td>\n",
       "      <td>0.000000</td>\n",
       "      <td>0.000000</td>\n",
       "      <td>1.000000</td>\n",
       "      <td>NaN</td>\n",
       "    </tr>\n",
       "    <tr>\n",
       "      <th>25%</th>\n",
       "      <td>1.000000</td>\n",
       "      <td>1.000000</td>\n",
       "      <td>5.289040e+05</td>\n",
       "      <td>37.800000</td>\n",
       "      <td>48.000000</td>\n",
       "      <td>18.500000</td>\n",
       "      <td>1.000000</td>\n",
       "      <td>1.000000</td>\n",
       "      <td>1.000000</td>\n",
       "      <td>1.000000</td>\n",
       "      <td>...</td>\n",
       "      <td>6.500000</td>\n",
       "      <td>1.000000</td>\n",
       "      <td>2.000000</td>\n",
       "      <td>1.000000</td>\n",
       "      <td>1.000000</td>\n",
       "      <td>2111.750000</td>\n",
       "      <td>0.000000</td>\n",
       "      <td>0.000000</td>\n",
       "      <td>1.000000</td>\n",
       "      <td>NaN</td>\n",
       "    </tr>\n",
       "    <tr>\n",
       "      <th>50%</th>\n",
       "      <td>1.000000</td>\n",
       "      <td>1.000000</td>\n",
       "      <td>5.303055e+05</td>\n",
       "      <td>38.200000</td>\n",
       "      <td>64.000000</td>\n",
       "      <td>24.500000</td>\n",
       "      <td>3.000000</td>\n",
       "      <td>2.000000</td>\n",
       "      <td>3.000000</td>\n",
       "      <td>1.000000</td>\n",
       "      <td>...</td>\n",
       "      <td>7.500000</td>\n",
       "      <td>2.000000</td>\n",
       "      <td>2.250000</td>\n",
       "      <td>1.000000</td>\n",
       "      <td>1.000000</td>\n",
       "      <td>2673.500000</td>\n",
       "      <td>0.000000</td>\n",
       "      <td>0.000000</td>\n",
       "      <td>2.000000</td>\n",
       "      <td>NaN</td>\n",
       "    </tr>\n",
       "    <tr>\n",
       "      <th>75%</th>\n",
       "      <td>2.000000</td>\n",
       "      <td>1.000000</td>\n",
       "      <td>5.347275e+05</td>\n",
       "      <td>38.500000</td>\n",
       "      <td>88.000000</td>\n",
       "      <td>36.000000</td>\n",
       "      <td>3.000000</td>\n",
       "      <td>3.000000</td>\n",
       "      <td>4.000000</td>\n",
       "      <td>2.000000</td>\n",
       "      <td>...</td>\n",
       "      <td>57.000000</td>\n",
       "      <td>3.000000</td>\n",
       "      <td>3.900000</td>\n",
       "      <td>2.000000</td>\n",
       "      <td>2.000000</td>\n",
       "      <td>3209.000000</td>\n",
       "      <td>0.000000</td>\n",
       "      <td>0.000000</td>\n",
       "      <td>2.000000</td>\n",
       "      <td>NaN</td>\n",
       "    </tr>\n",
       "    <tr>\n",
       "      <th>max</th>\n",
       "      <td>2.000000</td>\n",
       "      <td>9.000000</td>\n",
       "      <td>5.305629e+06</td>\n",
       "      <td>40.800000</td>\n",
       "      <td>184.000000</td>\n",
       "      <td>96.000000</td>\n",
       "      <td>4.000000</td>\n",
       "      <td>4.000000</td>\n",
       "      <td>6.000000</td>\n",
       "      <td>3.000000</td>\n",
       "      <td>...</td>\n",
       "      <td>89.000000</td>\n",
       "      <td>3.000000</td>\n",
       "      <td>10.100000</td>\n",
       "      <td>3.000000</td>\n",
       "      <td>2.000000</td>\n",
       "      <td>41110.000000</td>\n",
       "      <td>7111.000000</td>\n",
       "      <td>2209.000000</td>\n",
       "      <td>2.000000</td>\n",
       "      <td>NaN</td>\n",
       "    </tr>\n",
       "  </tbody>\n",
       "</table>\n",
       "<p>8 rows × 29 columns</p>\n",
       "</div>"
      ],
      "text/plain": [
       "          surgery         age  hospital_number  r_temperature       pulse  \\\n",
       "count  299.000000  300.000000     3.000000e+02     240.000000  276.000000   \n",
       "mean     1.397993    1.640000     1.085889e+06      38.167917   71.913043   \n",
       "std      0.490305    2.173972     1.529801e+06       0.732289   28.630557   \n",
       "min      1.000000    1.000000     5.184760e+05      35.400000   30.000000   \n",
       "25%      1.000000    1.000000     5.289040e+05      37.800000   48.000000   \n",
       "50%      1.000000    1.000000     5.303055e+05      38.200000   64.000000   \n",
       "75%      2.000000    1.000000     5.347275e+05      38.500000   88.000000   \n",
       "max      2.000000    9.000000     5.305629e+06      40.800000  184.000000   \n",
       "\n",
       "        resp_rate  ext_temperature   per_pulse  muc_membraes  cap_ref_time  \\\n",
       "count  242.000000       244.000000  231.000000    253.000000    268.000000   \n",
       "mean    30.417355         2.348361    2.017316      2.853755      1.305970   \n",
       "std     17.642231         1.045054    1.042428      1.620294      0.477629   \n",
       "min      8.000000         1.000000    1.000000      1.000000      1.000000   \n",
       "25%     18.500000         1.000000    1.000000      1.000000      1.000000   \n",
       "50%     24.500000         3.000000    2.000000      3.000000      1.000000   \n",
       "75%     36.000000         3.000000    3.000000      4.000000      2.000000   \n",
       "max     96.000000         4.000000    4.000000      6.000000      3.000000   \n",
       "\n",
       "       ...     protein  abd_appearance  abd_protein     outcome  \\\n",
       "count  ...  267.000000      135.000000   102.000000  299.000000   \n",
       "mean   ...   24.456929        2.037037     3.019608    1.551839   \n",
       "std    ...   27.475009        0.804905     1.968567    0.737187   \n",
       "min    ...    3.300000        1.000000     0.100000    1.000000   \n",
       "25%    ...    6.500000        1.000000     2.000000    1.000000   \n",
       "50%    ...    7.500000        2.000000     2.250000    1.000000   \n",
       "75%    ...   57.000000        3.000000     3.900000    2.000000   \n",
       "max    ...   89.000000        3.000000    10.100000    3.000000   \n",
       "\n",
       "       surgical_lesion  type_lesion_1  type_lesion_2  type_lesion_3  \\\n",
       "count       300.000000     300.000000     300.000000     300.000000   \n",
       "mean          1.363333    3657.880000      90.226667       7.363333   \n",
       "std           0.481763    5399.513513     649.569234     127.536674   \n",
       "min           1.000000       0.000000       0.000000       0.000000   \n",
       "25%           1.000000    2111.750000       0.000000       0.000000   \n",
       "50%           1.000000    2673.500000       0.000000       0.000000   \n",
       "75%           2.000000    3209.000000       0.000000       0.000000   \n",
       "max           2.000000   41110.000000    7111.000000    2209.000000   \n",
       "\n",
       "          cp_data  extra  \n",
       "count  300.000000    0.0  \n",
       "mean     1.670000    NaN  \n",
       "std      0.470998    NaN  \n",
       "min      1.000000    NaN  \n",
       "25%      1.000000    NaN  \n",
       "50%      2.000000    NaN  \n",
       "75%      2.000000    NaN  \n",
       "max      2.000000    NaN  \n",
       "\n",
       "[8 rows x 29 columns]"
      ]
     },
     "execution_count": 5,
     "metadata": {},
     "output_type": "execute_result"
    }
   ],
   "source": [
    "df.describe()"
   ]
  },
  {
   "cell_type": "code",
   "execution_count": 6,
   "id": "8ac10a5c-24f8-47bb-8989-9ed16360116b",
   "metadata": {},
   "outputs": [
    {
     "data": {
      "text/plain": [
       "surgery            float64\n",
       "age                  int64\n",
       "hospital_number      int64\n",
       "r_temperature      float64\n",
       "pulse              float64\n",
       "resp_rate          float64\n",
       "ext_temperature    float64\n",
       "per_pulse          float64\n",
       "muc_membraes       float64\n",
       "cap_ref_time       float64\n",
       "pain               float64\n",
       "peristalsis        float64\n",
       "abd_distension     float64\n",
       "naso_tub           float64\n",
       "naso_reflux        float64\n",
       "naso_reflux_ph     float64\n",
       "rect_exam          float64\n",
       "abdomen            float64\n",
       "pack_cell_vol      float64\n",
       "protein            float64\n",
       "abd_appearance     float64\n",
       "abd_protein        float64\n",
       "outcome            float64\n",
       "surgical_lesion      int64\n",
       "type_lesion_1        int64\n",
       "type_lesion_2        int64\n",
       "type_lesion_3        int64\n",
       "cp_data              int64\n",
       "extra              float64\n",
       "dtype: object"
      ]
     },
     "execution_count": 6,
     "metadata": {},
     "output_type": "execute_result"
    }
   ],
   "source": [
    "df.dtypes"
   ]
  },
  {
   "cell_type": "code",
   "execution_count": 7,
   "id": "2f4d8b01-95db-4092-9b83-dac9a8ba739a",
   "metadata": {},
   "outputs": [
    {
     "data": {
      "text/plain": [
       "array([ 2.,  1., nan])"
      ]
     },
     "execution_count": 7,
     "metadata": {},
     "output_type": "execute_result"
    }
   ],
   "source": [
    "df['surgery'].unique()"
   ]
  },
  {
   "cell_type": "code",
   "execution_count": 8,
   "id": "df946c50-02d6-4b5d-aaed-76531e1a2a68",
   "metadata": {},
   "outputs": [
    {
     "data": {
      "text/plain": [
       "surgery\n",
       "1.0        180\n",
       "2.0        119\n",
       "dtype: int64"
      ]
     },
     "execution_count": 8,
     "metadata": {},
     "output_type": "execute_result"
    }
   ],
   "source": [
    "df[['surgery']].value_counts()"
   ]
  },
  {
   "cell_type": "code",
   "execution_count": 9,
   "id": "a23b6488-8bc4-44cc-a306-2f51e78ae440",
   "metadata": {},
   "outputs": [],
   "source": [
    "df['surgery'] = df['surgery'].where(df['surgery'] != '?', other = np.nan)"
   ]
  },
  {
   "cell_type": "code",
   "execution_count": 10,
   "id": "2b5fceaa-6e46-4e5f-b6fb-e7929fc63100",
   "metadata": {},
   "outputs": [
    {
     "data": {
      "text/plain": [
       "array([ 2.,  1., nan])"
      ]
     },
     "execution_count": 10,
     "metadata": {},
     "output_type": "execute_result"
    }
   ],
   "source": [
    "df['surgery'].unique()"
   ]
  },
  {
   "cell_type": "code",
   "execution_count": 11,
   "id": "7314c526-93f5-43f7-b849-79f926bc993c",
   "metadata": {},
   "outputs": [
    {
     "data": {
      "text/plain": [
       "array([1, 9])"
      ]
     },
     "execution_count": 11,
     "metadata": {},
     "output_type": "execute_result"
    }
   ],
   "source": [
    "df['age'].unique()"
   ]
  },
  {
   "cell_type": "code",
   "execution_count": 12,
   "id": "79832d9d-7807-4428-8b76-b3de43bc5ae7",
   "metadata": {},
   "outputs": [
    {
     "data": {
      "text/plain": [
       "age\n",
       "1      276\n",
       "9       24\n",
       "dtype: int64"
      ]
     },
     "execution_count": 12,
     "metadata": {},
     "output_type": "execute_result"
    }
   ],
   "source": [
    "df[['age']].value_counts()"
   ]
  },
  {
   "cell_type": "code",
   "execution_count": 13,
   "id": "49bd027f-771d-4f91-b4a7-fa94b64b8728",
   "metadata": {},
   "outputs": [],
   "source": [
    "df['age'] = df[['age']].applymap(lambda x: 'Adult' if x== 1 else 'Young')"
   ]
  },
  {
   "cell_type": "code",
   "execution_count": 14,
   "id": "e7dd1ba2-5eb1-4851-80a4-43e90a55985a",
   "metadata": {},
   "outputs": [
    {
     "data": {
      "text/plain": [
       "age  \n",
       "Adult    0.92\n",
       "Young    0.08\n",
       "dtype: float64"
      ]
     },
     "execution_count": 14,
     "metadata": {},
     "output_type": "execute_result"
    }
   ],
   "source": [
    "df[['age']].value_counts(normalize = True)"
   ]
  },
  {
   "cell_type": "code",
   "execution_count": 15,
   "id": "6090e881-faa1-4ad4-92b5-7f3a383e01d1",
   "metadata": {},
   "outputs": [
    {
     "data": {
      "text/plain": [
       "<AxesSubplot:xlabel='age', ylabel='Percent'>"
      ]
     },
     "execution_count": 15,
     "metadata": {},
     "output_type": "execute_result"
    },
    {
     "data": {
      "image/png": "[encoded data removed]",
      "text/plain": [
       "<Figure size 432x288 with 1 Axes>"
      ]
     },
     "metadata": {
      "needs_background": "light"
     },
     "output_type": "display_data"
    }
   ],
   "source": [
    "sns.histplot(data = df, x = 'age', stat = 'percent', hue = 'surgery', multiple = 'stack')\n",
    "#element = 'poly'"
   ]
  },
  {
   "cell_type": "code",
   "execution_count": null,
   "id": "d114f5c9-eaf4-4bd0-ae64-c733218a7414",
   "metadata": {},
   "outputs": [],
   "source": []
  },
  {
   "cell_type": "code",
   "execution_count": 16,
   "id": "cc33e476-5a08-4edc-ac5c-d0ea1499b544",
   "metadata": {},
   "outputs": [
    {
     "data": {
      "text/plain": [
       "surgery            float64\n",
       "age                 object\n",
       "hospital_number      int64\n",
       "r_temperature      float64\n",
       "pulse              float64\n",
       "resp_rate          float64\n",
       "ext_temperature    float64\n",
       "per_pulse          float64\n",
       "muc_membraes       float64\n",
       "cap_ref_time       float64\n",
       "pain               float64\n",
       "peristalsis        float64\n",
       "abd_distension     float64\n",
       "naso_tub           float64\n",
       "naso_reflux        float64\n",
       "naso_reflux_ph     float64\n",
       "rect_exam          float64\n",
       "abdomen            float64\n",
       "pack_cell_vol      float64\n",
       "protein            float64\n",
       "abd_appearance     float64\n",
       "abd_protein        float64\n",
       "outcome            float64\n",
       "surgical_lesion      int64\n",
       "type_lesion_1        int64\n",
       "type_lesion_2        int64\n",
       "type_lesion_3        int64\n",
       "cp_data              int64\n",
       "extra              float64\n",
       "dtype: object"
      ]
     },
     "execution_count": 16,
     "metadata": {},
     "output_type": "execute_result"
    }
   ],
   "source": [
    "df.dtypes"
   ]
  },
  {
   "cell_type": "code",
   "execution_count": 17,
   "id": "7333babd-6ea0-4a8c-8f09-06db597c84a2",
   "metadata": {},
   "outputs": [
    {
     "data": {
      "text/plain": [
       "array([38.5, 39.2, 38.3, 39.1, 37.3,  nan, 37.9, 38.1, 37.2, 38. , 38.2,\n",
       "       37.6, 37.5, 39.4, 39.9, 38.4, 38.6, 37.8, 37.7, 39. , 35.4, 38.9,\n",
       "       37.4, 40.3, 37. , 39.7, 38.7, 36.4, 38.8, 39.6, 36.8, 39.5, 36.5,\n",
       "       36. , 37.1, 39.3, 36.1, 36.6, 40.8, 36.9, 40. ])"
      ]
     },
     "execution_count": 17,
     "metadata": {},
     "output_type": "execute_result"
    }
   ],
   "source": [
    "df['r_temperature'].unique()"
   ]
  },
  {
   "cell_type": "code",
   "execution_count": 18,
   "id": "ae019345-d044-4150-9ede-d02d837aee1e",
   "metadata": {},
   "outputs": [],
   "source": [
    "df['r_temperature'] = df['r_temperature'].where(df['r_temperature'] != '?', other = np.nan)"
   ]
  },
  {
   "cell_type": "code",
   "execution_count": 19,
   "id": "67969d25-8673-41cf-8483-e8f383a3c4bc",
   "metadata": {},
   "outputs": [
    {
     "data": {
      "text/plain": [
       "array([38.5, 39.2, 38.3, 39.1, 37.3,  nan, 37.9, 38.1, 37.2, 38. , 38.2,\n",
       "       37.6, 37.5, 39.4, 39.9, 38.4, 38.6, 37.8, 37.7, 39. , 35.4, 38.9,\n",
       "       37.4, 40.3, 37. , 39.7, 38.7, 36.4, 38.8, 39.6, 36.8, 39.5, 36.5,\n",
       "       36. , 37.1, 39.3, 36.1, 36.6, 40.8, 36.9, 40. ])"
      ]
     },
     "execution_count": 19,
     "metadata": {},
     "output_type": "execute_result"
    }
   ],
   "source": [
    "df['r_temperature'].unique()"
   ]
  },
  {
   "cell_type": "code",
   "execution_count": 20,
   "id": "aaab7867-87fb-4eba-9086-b186b8c09df1",
   "metadata": {},
   "outputs": [
    {
     "data": {
      "text/plain": [
       "r_temperature\n",
       "38.0             26\n",
       "38.5             19\n",
       "38.3             18\n",
       "37.8             17\n",
       "38.2             16\n",
       "38.6             12\n",
       "37.5             12\n",
       "38.1             12\n",
       "38.4             11\n",
       "37.9              7\n",
       "38.7              7\n",
       "37.6              7\n",
       "37.7              7\n",
       "37.2              7\n",
       "37.3              6\n",
       "38.8              6\n",
       "39.2              5\n",
       "39.0              4\n",
       "39.5              4\n",
       "38.9              4\n",
       "39.3              4\n",
       "37.4              3\n",
       "39.4              3\n",
       "37.1              3\n",
       "39.1              2\n",
       "36.5              2\n",
       "40.3              2\n",
       "37.0              2\n",
       "40.0              1\n",
       "39.7              1\n",
       "39.6              1\n",
       "39.9              1\n",
       "35.4              1\n",
       "36.0              1\n",
       "36.9              1\n",
       "36.8              1\n",
       "36.6              1\n",
       "36.4              1\n",
       "36.1              1\n",
       "40.8              1\n",
       "dtype: int64"
      ]
     },
     "execution_count": 20,
     "metadata": {},
     "output_type": "execute_result"
    }
   ],
   "source": [
    "df[['r_temperature']].value_counts()"
   ]
  },
  {
   "cell_type": "code",
   "execution_count": 21,
   "id": "e2b584b1-b300-494e-9603-979f9bc4ca76",
   "metadata": {},
   "outputs": [],
   "source": [
    "typos_col = {\n",
    "    'r_temperature': 'float64'\n",
    "}"
   ]
  },
  {
   "cell_type": "code",
   "execution_count": 22,
   "id": "39650de3-2ed5-4ba0-978a-3090ee88b191",
   "metadata": {},
   "outputs": [],
   "source": [
    "df = df.astype(typos_col)"
   ]
  },
  {
   "cell_type": "code",
   "execution_count": 23,
   "id": "3fed0c25-6527-4fcb-8288-0ac600fc35b0",
   "metadata": {},
   "outputs": [
    {
     "data": {
      "text/plain": [
       "<AxesSubplot:ylabel='Frequency'>"
      ]
     },
     "execution_count": 23,
     "metadata": {},
     "output_type": "execute_result"
    },
    {
     "data": {
      "image/png": "[encoded data removed]",
      "text/plain": [
       "<Figure size 432x288 with 1 Axes>"
      ]
     },
     "metadata": {
      "needs_background": "light"
     },
     "output_type": "display_data"
    }
   ],
   "source": [
    "df['r_temperature'].plot(kind = 'hist')"
   ]
  },
  {
   "cell_type": "code",
   "execution_count": 24,
   "id": "ba541d8c-d541-4558-bf05-5dde6d1584eb",
   "metadata": {},
   "outputs": [
    {
     "data": {
      "text/plain": [
       "<AxesSubplot:xlabel='r_temperature', ylabel='Percent'>"
      ]
     },
     "execution_count": 24,
     "metadata": {},
     "output_type": "execute_result"
    },
    {
     "data": {
      "image/png": "[encoded data removed]",
      "text/plain": [
       "<Figure size 432x288 with 1 Axes>"
      ]
     },
     "metadata": {
      "needs_background": "light"
     },
     "output_type": "display_data"
    }
   ],
   "source": [
    "sns.histplot(data = df, x = 'r_temperature', stat = 'percent', element = 'step')"
   ]
  },
  {
   "cell_type": "code",
   "execution_count": 25,
   "id": "a366690a-94ad-47fd-8166-b8532a51569f",
   "metadata": {},
   "outputs": [
    {
     "data": {
      "text/plain": [
       "<AxesSubplot:>"
      ]
     },
     "execution_count": 25,
     "metadata": {},
     "output_type": "execute_result"
    },
    {
     "data": {
      "image/png": "[encoded data removed]",
      "text/plain": [
       "<Figure size 432x288 with 1 Axes>"
      ]
     },
     "metadata": {
      "needs_background": "light"
     },
     "output_type": "display_data"
    }
   ],
   "source": [
    "df['r_temperature'].plot(kind = 'box')"
   ]
  },
  {
   "cell_type": "code",
   "execution_count": 26,
   "id": "f1091030-a60e-4cf8-a3b8-0bb53ea6a576",
   "metadata": {},
   "outputs": [
    {
     "data": {
      "text/plain": [
       "<AxesSubplot:xlabel='r_temperature', ylabel='age'>"
      ]
     },
     "execution_count": 26,
     "metadata": {},
     "output_type": "execute_result"
    },
    {
     "data": {
      "image/png": "[encoded data removed]",
      "text/plain": [
       "<Figure size 432x288 with 1 Axes>"
      ]
     },
     "metadata": {
      "needs_background": "light"
     },
     "output_type": "display_data"
    }
   ],
   "source": [
    "sns.boxplot(data = df, x = 'r_temperature', y = 'age')"
   ]
  },
  {
   "cell_type": "code",
   "execution_count": 27,
   "id": "e0075850-79f8-49b8-a960-05102464df24",
   "metadata": {},
   "outputs": [
    {
     "data": {
      "text/plain": [
       "array([ 66.,  88.,  40., 164., 104.,  nan,  48.,  60.,  80.,  90.,  72.,\n",
       "        42.,  92.,  76.,  96., 128.,  64., 110., 130., 108., 100., 112.,\n",
       "        52., 146., 150., 120., 140.,  84.,  46., 114., 160.,  54.,  56.,\n",
       "        38.,  98.,  50.,  44.,  70.,  78.,  49.,  30., 136., 132.,  65.,\n",
       "        86., 129.,  68.,  36.,  45., 124., 184.,  75.,  82.])"
      ]
     },
     "execution_count": 27,
     "metadata": {},
     "output_type": "execute_result"
    }
   ],
   "source": [
    "df['pulse'].unique()"
   ]
  },
  {
   "cell_type": "code",
   "execution_count": 28,
   "id": "8dfd2758-7c3f-4802-aac7-984332c2fd92",
   "metadata": {},
   "outputs": [],
   "source": [
    "df['pulse'] = df['pulse'].where(df['pulse'] != '?', other = np.nan)"
   ]
  },
  {
   "cell_type": "code",
   "execution_count": 29,
   "id": "7ab40559-3644-4462-8813-1331233d1d85",
   "metadata": {},
   "outputs": [],
   "source": [
    "#aquí no lo puedo poner en int64 porque cuando entra a Nan no le gusta.\n",
    "typos_col = {\n",
    "    'pulse': 'float64'\n",
    "}"
   ]
  },
  {
   "cell_type": "code",
   "execution_count": 30,
   "id": "51789aa7-a1a3-4daf-95b2-08ec43c9885a",
   "metadata": {},
   "outputs": [],
   "source": [
    "df = df.astype(typos_col)"
   ]
  },
  {
   "cell_type": "code",
   "execution_count": 31,
   "id": "a1c60133-7629-470a-83bd-42f8b256c994",
   "metadata": {},
   "outputs": [
    {
     "data": {
      "text/plain": [
       "surgery            float64\n",
       "age                 object\n",
       "hospital_number      int64\n",
       "r_temperature      float64\n",
       "pulse              float64\n",
       "resp_rate          float64\n",
       "ext_temperature    float64\n",
       "per_pulse          float64\n",
       "muc_membraes       float64\n",
       "cap_ref_time       float64\n",
       "pain               float64\n",
       "peristalsis        float64\n",
       "abd_distension     float64\n",
       "naso_tub           float64\n",
       "naso_reflux        float64\n",
       "naso_reflux_ph     float64\n",
       "rect_exam          float64\n",
       "abdomen            float64\n",
       "pack_cell_vol      float64\n",
       "protein            float64\n",
       "abd_appearance     float64\n",
       "abd_protein        float64\n",
       "outcome            float64\n",
       "surgical_lesion      int64\n",
       "type_lesion_1        int64\n",
       "type_lesion_2        int64\n",
       "type_lesion_3        int64\n",
       "cp_data              int64\n",
       "extra              float64\n",
       "dtype: object"
      ]
     },
     "execution_count": 31,
     "metadata": {},
     "output_type": "execute_result"
    }
   ],
   "source": [
    "df.dtypes"
   ]
  },
  {
   "cell_type": "code",
   "execution_count": 32,
   "id": "e8fa5a79-e184-4d4b-b1a4-b4c14c58712a",
   "metadata": {},
   "outputs": [
    {
     "data": {
      "text/plain": [
       "<AxesSubplot:ylabel='Frequency'>"
      ]
     },
     "execution_count": 32,
     "metadata": {},
     "output_type": "execute_result"
    },
    {
     "data": {
      "image/png": "[encoded data removed]",
      "text/plain": [
       "<Figure size 432x288 with 1 Axes>"
      ]
     },
     "metadata": {
      "needs_background": "light"
     },
     "output_type": "display_data"
    }
   ],
   "source": [
    "#yo creo que ese 180 es un dato atípico aunque dice que el caballo podría tener lesiones\n",
    "df['pulse'].plot(kind = 'hist', bins = 40)"
   ]
  },
  {
   "cell_type": "code",
   "execution_count": 33,
   "id": "af78d165-3d36-465d-8435-6327c9b5ad05",
   "metadata": {},
   "outputs": [
    {
     "data": {
      "text/plain": [
       "<AxesSubplot:xlabel='pulse', ylabel='Percent'>"
      ]
     },
     "execution_count": 33,
     "metadata": {},
     "output_type": "execute_result"
    },
    {
     "data": {
      "image/png": "[encoded data removed]",
      "text/plain": [
       "<Figure size 432x288 with 1 Axes>"
      ]
     },
     "metadata": {
      "needs_background": "light"
     },
     "output_type": "display_data"
    }
   ],
   "source": [
    "sns.histplot(data = df, x = 'pulse', stat = 'percent', hue = 'age', multiple = 'stack')"
   ]
  },
  {
   "cell_type": "code",
   "execution_count": 34,
   "id": "dba73dea-696b-4171-bcc9-559223e297d6",
   "metadata": {},
   "outputs": [
    {
     "data": {
      "text/plain": [
       "<AxesSubplot:>"
      ]
     },
     "execution_count": 34,
     "metadata": {},
     "output_type": "execute_result"
    },
    {
     "data": {
      "image/png": "[encoded data removed]",
      "text/plain": [
       "<Figure size 432x288 with 1 Axes>"
      ]
     },
     "metadata": {
      "needs_background": "light"
     },
     "output_type": "display_data"
    }
   ],
   "source": [
    "df['pulse'].plot(kind = 'box')"
   ]
  },
  {
   "cell_type": "code",
   "execution_count": 35,
   "id": "b462722e-217f-4a09-bec1-e7fa3094ac5a",
   "metadata": {},
   "outputs": [
    {
     "data": {
      "text/plain": [
       "<AxesSubplot:xlabel='pulse', ylabel='age'>"
      ]
     },
     "execution_count": 35,
     "metadata": {},
     "output_type": "execute_result"
    },
    {
     "data": {
      "image/png": "[encoded data removed]",
      "text/plain": [
       "<Figure size 432x288 with 1 Axes>"
      ]
     },
     "metadata": {
      "needs_background": "light"
     },
     "output_type": "display_data"
    }
   ],
   "source": [
    "sns.boxplot(data = df, x = 'pulse', y = 'age')"
   ]
  },
  {
   "cell_type": "code",
   "execution_count": 36,
   "id": "fbcdec71-b780-4086-81ed-7fe0dd96adea",
   "metadata": {},
   "outputs": [
    {
     "data": {
      "text/plain": [
       "array([28., 20., 24., 84., 35., nan, 16., 36., 12., 52., 48., 21., 60.,\n",
       "       34., 42., 30., 96., 72., 15., 44., 32., 22., 18., 80., 40., 10.,\n",
       "       51., 68., 66.,  9., 14., 90.,  8., 23., 58., 13., 70., 26., 88.,\n",
       "       25., 50.])"
      ]
     },
     "execution_count": 36,
     "metadata": {},
     "output_type": "execute_result"
    }
   ],
   "source": [
    "df['resp_rate'].unique()"
   ]
  },
  {
   "cell_type": "code",
   "execution_count": 37,
   "id": "2d26c388-a56f-48d4-b8b7-262184978327",
   "metadata": {},
   "outputs": [],
   "source": [
    "df['resp_rate'] = df['resp_rate'].where(df['resp_rate'] != '?', other = np.nan)"
   ]
  },
  {
   "cell_type": "code",
   "execution_count": 38,
   "id": "6eb200c7-9d87-4c7d-b243-24c7e70e3f3e",
   "metadata": {},
   "outputs": [
    {
     "data": {
      "text/plain": [
       "resp_rate\n",
       "20.0         28\n",
       "24.0         27\n",
       "16.0         22\n",
       "12.0         19\n",
       "30.0         19\n",
       "40.0         17\n",
       "36.0         16\n",
       "28.0         13\n",
       "32.0         11\n",
       "18.0          8\n",
       "48.0          6\n",
       "60.0          4\n",
       "14.0          4\n",
       "35.0          3\n",
       "68.0          3\n",
       "44.0          3\n",
       "80.0          3\n",
       "10.0          3\n",
       "42.0          3\n",
       "51.0          2\n",
       "70.0          2\n",
       "50.0          2\n",
       "84.0          2\n",
       "90.0          2\n",
       "96.0          2\n",
       "9.0           2\n",
       "22.0          2\n",
       "21.0          2\n",
       "34.0          1\n",
       "26.0          1\n",
       "52.0          1\n",
       "58.0          1\n",
       "25.0          1\n",
       "66.0          1\n",
       "23.0          1\n",
       "72.0          1\n",
       "15.0          1\n",
       "88.0          1\n",
       "13.0          1\n",
       "8.0           1\n",
       "dtype: int64"
      ]
     },
     "execution_count": 38,
     "metadata": {},
     "output_type": "execute_result"
    }
   ],
   "source": [
    "df[['resp_rate']].value_counts()"
   ]
  },
  {
   "cell_type": "code",
   "execution_count": 39,
   "id": "5ac461a8-b571-44f6-805b-4abdf001d1db",
   "metadata": {},
   "outputs": [],
   "source": [
    "typos_col = {\n",
    "    'resp_rate': 'float64'\n",
    "}"
   ]
  },
  {
   "cell_type": "code",
   "execution_count": 40,
   "id": "4a56c632-8162-41ef-84fb-aefd828a2d01",
   "metadata": {},
   "outputs": [],
   "source": [
    "df = df.astype(typos_col)"
   ]
  },
  {
   "cell_type": "code",
   "execution_count": 41,
   "id": "d8c86c6c-6703-4e81-a471-236345269ee8",
   "metadata": {},
   "outputs": [
    {
     "data": {
      "text/plain": [
       "resp_rate\n",
       "20.0         28\n",
       "24.0         27\n",
       "16.0         22\n",
       "12.0         19\n",
       "30.0         19\n",
       "40.0         17\n",
       "36.0         16\n",
       "28.0         13\n",
       "32.0         11\n",
       "18.0          8\n",
       "48.0          6\n",
       "60.0          4\n",
       "14.0          4\n",
       "35.0          3\n",
       "68.0          3\n",
       "44.0          3\n",
       "80.0          3\n",
       "10.0          3\n",
       "42.0          3\n",
       "51.0          2\n",
       "70.0          2\n",
       "50.0          2\n",
       "84.0          2\n",
       "90.0          2\n",
       "96.0          2\n",
       "9.0           2\n",
       "22.0          2\n",
       "21.0          2\n",
       "34.0          1\n",
       "26.0          1\n",
       "52.0          1\n",
       "58.0          1\n",
       "25.0          1\n",
       "66.0          1\n",
       "23.0          1\n",
       "72.0          1\n",
       "15.0          1\n",
       "88.0          1\n",
       "13.0          1\n",
       "8.0           1\n",
       "dtype: int64"
      ]
     },
     "execution_count": 41,
     "metadata": {},
     "output_type": "execute_result"
    }
   ],
   "source": [
    "df[['resp_rate']].value_counts()"
   ]
  },
  {
   "cell_type": "code",
   "execution_count": 42,
   "id": "42d97fa5-cc59-4962-aca9-3e94cb3ce749",
   "metadata": {},
   "outputs": [
    {
     "data": {
      "text/plain": [
       "<AxesSubplot:ylabel='Frequency'>"
      ]
     },
     "execution_count": 42,
     "metadata": {},
     "output_type": "execute_result"
    },
    {
     "data": {
      "image/png": "[encoded data removed]",
      "text/plain": [
       "<Figure size 432x288 with 1 Axes>"
      ]
     },
     "metadata": {
      "needs_background": "light"
     },
     "output_type": "display_data"
    }
   ],
   "source": [
    "#y aquí que putas, si lo normal es entre 8 a 10 ????\n",
    "df['resp_rate'].plot(kind = 'hist', bins = 40)"
   ]
  },
  {
   "cell_type": "code",
   "execution_count": 43,
   "id": "2af26937-a6bd-43ec-b62f-0f97ebac1322",
   "metadata": {},
   "outputs": [
    {
     "data": {
      "text/plain": [
       "<AxesSubplot:>"
      ]
     },
     "execution_count": 43,
     "metadata": {},
     "output_type": "execute_result"
    },
    {
     "data": {
      "image/png": "[encoded data removed]",
      "text/plain": [
       "<Figure size 432x288 with 1 Axes>"
      ]
     },
     "metadata": {
      "needs_background": "light"
     },
     "output_type": "display_data"
    }
   ],
   "source": [
    "df['resp_rate'].plot(kind = 'box')"
   ]
  },
  {
   "cell_type": "code",
   "execution_count": 44,
   "id": "a1e112c1-cd96-49eb-8a96-8d71183fd464",
   "metadata": {},
   "outputs": [
    {
     "data": {
      "text/plain": [
       "array([ 3., nan,  1.,  4.,  2.])"
      ]
     },
     "execution_count": 44,
     "metadata": {},
     "output_type": "execute_result"
    }
   ],
   "source": [
    "df['ext_temperature'].unique()"
   ]
  },
  {
   "cell_type": "code",
   "execution_count": 45,
   "id": "4e0ac686-8970-4fea-be67-3ae4d6663ca3",
   "metadata": {},
   "outputs": [
    {
     "data": {
      "text/plain": [
       "ext_temperature\n",
       "3.0                109\n",
       "1.0                 78\n",
       "2.0                 30\n",
       "4.0                 27\n",
       "dtype: int64"
      ]
     },
     "execution_count": 45,
     "metadata": {},
     "output_type": "execute_result"
    }
   ],
   "source": [
    "df[['ext_temperature']].value_counts()"
   ]
  },
  {
   "cell_type": "code",
   "execution_count": 46,
   "id": "afba2c61-fa07-4838-ba76-3833f864b246",
   "metadata": {},
   "outputs": [],
   "source": [
    "ext_temp_dict = {\n",
    "    '1': 'normal',\n",
    "    '2': 'warm',\n",
    "    '3': 'cool',\n",
    "    '4': 'cold',\n",
    "}"
   ]
  },
  {
   "cell_type": "code",
   "execution_count": 47,
   "id": "ddd234cf-7c71-4601-a6f2-56fdb972ec04",
   "metadata": {},
   "outputs": [],
   "source": [
    "df['ext_temperature'] = df['ext_temperature'].map(ext_temp_dict)"
   ]
  },
  {
   "cell_type": "code",
   "execution_count": 48,
   "id": "8df89f13-26d8-40d9-86e4-d3ebfc909d17",
   "metadata": {},
   "outputs": [
    {
     "data": {
      "text/plain": [
       "array([nan], dtype=object)"
      ]
     },
     "execution_count": 48,
     "metadata": {},
     "output_type": "execute_result"
    }
   ],
   "source": [
    "df['ext_temperature'].unique()"
   ]
  },
  {
   "cell_type": "code",
   "execution_count": 49,
   "id": "5bed2b54-73ba-4f9f-90e2-041ecfadcc83",
   "metadata": {},
   "outputs": [
    {
     "data": {
      "text/plain": [
       "ext_temperature\n",
       "NaN                300\n",
       "dtype: int64"
      ]
     },
     "execution_count": 49,
     "metadata": {},
     "output_type": "execute_result"
    }
   ],
   "source": [
    "df[['ext_temperature']].value_counts(dropna = False)"
   ]
  },
  {
   "cell_type": "code",
   "execution_count": 50,
   "id": "0272c638-aee8-49a8-a771-442ae010b412",
   "metadata": {},
   "outputs": [
    {
     "data": {
      "text/plain": [
       "array([ 3., nan,  1.,  4.,  2.])"
      ]
     },
     "execution_count": 50,
     "metadata": {},
     "output_type": "execute_result"
    }
   ],
   "source": [
    "df['per_pulse'].unique()"
   ]
  },
  {
   "cell_type": "code",
   "execution_count": 51,
   "id": "a388c3d1-c662-47b3-b0d2-615bab4094ca",
   "metadata": {},
   "outputs": [],
   "source": [
    "per_dict = {\n",
    "    '1':  'normal',\n",
    "    '2': 'increased',\n",
    "    '3': 'reduced',\n",
    "    '4': 'absent',\n",
    "}"
   ]
  },
  {
   "cell_type": "code",
   "execution_count": 52,
   "id": "44f5272c-dd92-4bac-b0df-c348e446b82b",
   "metadata": {},
   "outputs": [],
   "source": [
    "df['per_pulse'] = df['per_pulse'].map(per_dict)"
   ]
  },
  {
   "cell_type": "code",
   "execution_count": 53,
   "id": "77c23e28-f166-4f5f-a9f8-afbf208f82fe",
   "metadata": {},
   "outputs": [
    {
     "data": {
      "text/plain": [
       "array([nan], dtype=object)"
      ]
     },
     "execution_count": 53,
     "metadata": {},
     "output_type": "execute_result"
    }
   ],
   "source": [
    "df['per_pulse'].unique()"
   ]
  },
  {
   "cell_type": "code",
   "execution_count": 54,
   "id": "6b9ea78f-b619-42cf-bdbd-777f15f1f98b",
   "metadata": {},
   "outputs": [
    {
     "data": {
      "text/plain": [
       "Series([], dtype: int64)"
      ]
     },
     "execution_count": 54,
     "metadata": {},
     "output_type": "execute_result"
    }
   ],
   "source": [
    "df[['per_pulse']].value_counts()"
   ]
  },
  {
   "cell_type": "code",
   "execution_count": 55,
   "id": "9b554592-e591-411e-ba19-3b2118140607",
   "metadata": {},
   "outputs": [
    {
     "data": {
      "text/plain": [
       "array([nan,  4.,  3.,  6.,  1.,  5.,  2.])"
      ]
     },
     "execution_count": 55,
     "metadata": {},
     "output_type": "execute_result"
    }
   ],
   "source": [
    "df['muc_membraes'].unique()"
   ]
  },
  {
   "cell_type": "code",
   "execution_count": 56,
   "id": "2c2aa5f5-6e4e-4887-b857-4e4385f7bc48",
   "metadata": {},
   "outputs": [],
   "source": [
    "def mucosa(value):\n",
    "    if value == '1' or value == '2':\n",
    "        return 'normal'\n",
    "    if value == '3':\n",
    "        return 'early chock'\n",
    "    if value == '4' or value == '6':\n",
    "        return 'serious circulatory compromise'\n",
    "    if value == '5':\n",
    "        return 'septicemia'\n",
    "    if value == '?':\n",
    "        return np.nan"
   ]
  },
  {
   "cell_type": "code",
   "execution_count": 57,
   "id": "9c99fadd-8395-4450-8a6d-eaca832cafc4",
   "metadata": {},
   "outputs": [],
   "source": [
    "df['extra-muc_membraes'] = df[['muc_membraes']].applymap(mucosa)"
   ]
  },
  {
   "cell_type": "code",
   "execution_count": 58,
   "id": "b6d2a6db-25f2-4c2a-8e99-c8d0e5c3a890",
   "metadata": {},
   "outputs": [
    {
     "data": {
      "text/plain": [
       "muc_membraes\n",
       "1.0             79\n",
       "3.0             58\n",
       "4.0             41\n",
       "2.0             30\n",
       "5.0             25\n",
       "6.0             20\n",
       "dtype: int64"
      ]
     },
     "execution_count": 58,
     "metadata": {},
     "output_type": "execute_result"
    }
   ],
   "source": [
    "df[['muc_membraes']].value_counts()"
   ]
  },
  {
   "cell_type": "code",
   "execution_count": 59,
   "id": "e3999490-2d51-4fcd-b7e5-5e3d400aff72",
   "metadata": {},
   "outputs": [
    {
     "data": {
      "text/plain": [
       "Series([], dtype: int64)"
      ]
     },
     "execution_count": 59,
     "metadata": {},
     "output_type": "execute_result"
    }
   ],
   "source": [
    "df[['extra-muc_membraes']].value_counts()"
   ]
  },
  {
   "cell_type": "code",
   "execution_count": 60,
   "id": "6693b7f6-e998-4f64-bb03-a968920ddd85",
   "metadata": {},
   "outputs": [
    {
     "data": {
      "text/plain": [
       "array([ 2.,  1., nan,  3.])"
      ]
     },
     "execution_count": 60,
     "metadata": {},
     "output_type": "execute_result"
    }
   ],
   "source": [
    "#se supone que este valor sólo debería ser 1 y 2, y aquí qué?\n",
    "df['cap_ref_time'].unique()"
   ]
  },
  {
   "cell_type": "code",
   "execution_count": 61,
   "id": "2e557f5e-44b7-4797-a698-3b0f690146f9",
   "metadata": {},
   "outputs": [
    {
     "data": {
      "text/plain": [
       "cap_ref_time\n",
       "1.0             188\n",
       "2.0              78\n",
       "3.0               2\n",
       "dtype: int64"
      ]
     },
     "execution_count": 61,
     "metadata": {},
     "output_type": "execute_result"
    }
   ],
   "source": [
    "df[['cap_ref_time']].value_counts()"
   ]
  },
  {
   "cell_type": "code",
   "execution_count": 62,
   "id": "b3d52857-0e7f-46e2-950f-6940cb56e6bc",
   "metadata": {},
   "outputs": [],
   "source": [
    "df['cap_ref_time'] = df['cap_ref_time'].where(df['cap_ref_time'] != '?', other = np.nan)"
   ]
  },
  {
   "cell_type": "code",
   "execution_count": 63,
   "id": "4721419c-8687-4446-bdc0-3219baf12c63",
   "metadata": {},
   "outputs": [
    {
     "data": {
      "text/plain": [
       "cap_ref_time\n",
       "1.0             188\n",
       "2.0              78\n",
       "3.0               2\n",
       "dtype: int64"
      ]
     },
     "execution_count": 63,
     "metadata": {},
     "output_type": "execute_result"
    }
   ],
   "source": [
    "df[['cap_ref_time']].value_counts()"
   ]
  },
  {
   "cell_type": "code",
   "execution_count": 64,
   "id": "04a007e1-9ab3-4292-bba8-781a2c7e499f",
   "metadata": {},
   "outputs": [],
   "source": [
    "typos_col = {\n",
    "    'cap_ref_time': 'float64'\n",
    "}"
   ]
  },
  {
   "cell_type": "code",
   "execution_count": 65,
   "id": "55a5e1b5-bfca-4610-8a45-da16859c42f4",
   "metadata": {},
   "outputs": [],
   "source": [
    "df = df.astype(typos_col)"
   ]
  },
  {
   "cell_type": "code",
   "execution_count": 67,
   "id": "e17999f6-b404-42d2-98ae-418037798e2e",
   "metadata": {},
   "outputs": [
    {
     "data": {
      "text/plain": [
       "<AxesSubplot:ylabel='Frequency'>"
      ]
     },
     "execution_count": 67,
     "metadata": {},
     "output_type": "execute_result"
    },
    {
     "data": {
      "image/png": "[encoded data removed]",
      "text/plain": [
       "<Figure size 432x288 with 1 Axes>"
      ]
     },
     "metadata": {
      "needs_background": "light"
     },
     "output_type": "display_data"
    }
   ],
   "source": [
    "#el 3 es un dato atípico alguien se equivocó poniendo los datos\n",
    "df['cap_ref_time'].plot(kind = 'hist')"
   ]
  },
  {
   "cell_type": "code",
   "execution_count": 68,
   "id": "9392fb22-b9e0-4bc0-9102-761730319da4",
   "metadata": {},
   "outputs": [
    {
     "data": {
      "text/plain": [
       "array([ 5.,  3.,  2., nan,  4.,  1.])"
      ]
     },
     "execution_count": 68,
     "metadata": {},
     "output_type": "execute_result"
    }
   ],
   "source": [
    "df['pain'].unique()"
   ]
  },
  {
   "cell_type": "code",
   "execution_count": 69,
   "id": "7e8399d9-e545-432e-9e8f-96d07db6b1b2",
   "metadata": {},
   "outputs": [
    {
     "data": {
      "text/plain": [
       "pain\n",
       "3.0     67\n",
       "2.0     59\n",
       "5.0     42\n",
       "4.0     39\n",
       "1.0     38\n",
       "dtype: int64"
      ]
     },
     "execution_count": 69,
     "metadata": {},
     "output_type": "execute_result"
    }
   ],
   "source": [
    "df[['pain']].value_counts()"
   ]
  },
  {
   "cell_type": "code",
   "execution_count": 70,
   "id": "86eb0621-40b7-4c46-b03e-12fe9b6dc8ef",
   "metadata": {},
   "outputs": [],
   "source": [
    "pain_dict = {\n",
    "     '1': 'alert, no pain',\n",
    "     '2': 'depressed',\n",
    "     '3': 'intermittent mild pain',\n",
    "     '4': 'intermittent severe pain',\n",
    "     '5': 'continuous severe pain',\n",
    "}"
   ]
  },
  {
   "cell_type": "code",
   "execution_count": 71,
   "id": "08ddd76c-83ee-452f-b069-f89685029b86",
   "metadata": {},
   "outputs": [],
   "source": [
    "df['pain'] = df['pain'].map(pain_dict)"
   ]
  },
  {
   "cell_type": "code",
   "execution_count": 72,
   "id": "0a54f1f9-b74b-4409-b632-9d281e9385a0",
   "metadata": {},
   "outputs": [
    {
     "data": {
      "text/plain": [
       "Series([], dtype: int64)"
      ]
     },
     "execution_count": 72,
     "metadata": {},
     "output_type": "execute_result"
    }
   ],
   "source": [
    "df[['pain']].value_counts()"
   ]
  },
  {
   "cell_type": "code",
   "execution_count": 73,
   "id": "1f22eb7d-58e7-404f-a977-a8d6cda4f1d9",
   "metadata": {},
   "outputs": [
    {
     "data": {
      "text/plain": [
       "array([ 4.,  3., nan,  1.,  2.])"
      ]
     },
     "execution_count": 73,
     "metadata": {},
     "output_type": "execute_result"
    }
   ],
   "source": [
    "df['peristalsis'].unique()"
   ]
  },
  {
   "cell_type": "code",
   "execution_count": 75,
   "id": "7f6cb5f5-7a1c-4339-97a7-47574a2d8a61",
   "metadata": {},
   "outputs": [
    {
     "data": {
      "text/plain": [
       "peristalsis\n",
       "3.0            128\n",
       "4.0             73\n",
       "1.0             39\n",
       "2.0             16\n",
       "dtype: int64"
      ]
     },
     "execution_count": 75,
     "metadata": {},
     "output_type": "execute_result"
    }
   ],
   "source": [
    "#   1 = hypermotile\n",
    "#   2 = normal\n",
    "#   3 = hypomotile\n",
    "#   4 = absent\n",
    "df[['peristalsis']].value_counts()"
   ]
  },
  {
   "cell_type": "code",
   "execution_count": 76,
   "id": "4e6d0a02-3b3c-4c19-94ad-95a608bba3c5",
   "metadata": {},
   "outputs": [],
   "source": [
    "df['peristalsis'] = df['peristalsis'].where(df['peristalsis'] != '?', other = np.nan)"
   ]
  },
  {
   "cell_type": "code",
   "execution_count": 77,
   "id": "15c34408-0ad1-4795-b6c2-bf6bc31e6603",
   "metadata": {},
   "outputs": [
    {
     "data": {
      "text/plain": [
       "peristalsis\n",
       "3.0            128\n",
       "4.0             73\n",
       "1.0             39\n",
       "2.0             16\n",
       "dtype: int64"
      ]
     },
     "execution_count": 77,
     "metadata": {},
     "output_type": "execute_result"
    }
   ],
   "source": [
    "df[['peristalsis']].value_counts()"
   ]
  },
  {
   "cell_type": "code",
   "execution_count": 78,
   "id": "395721d9-210a-4c20-995e-eefaa0351210",
   "metadata": {},
   "outputs": [
    {
     "data": {
      "text/plain": [
       "array([ 4.,  2.,  1., nan,  3.])"
      ]
     },
     "execution_count": 78,
     "metadata": {},
     "output_type": "execute_result"
    }
   ],
   "source": [
    "df['abd_distension'].unique()"
   ]
  },
  {
   "cell_type": "code",
   "execution_count": 79,
   "id": "8609af69-539d-4be8-91b6-bdcd47bccd9a",
   "metadata": {},
   "outputs": [
    {
     "data": {
      "text/plain": [
       "1.0    76\n",
       "2.0    65\n",
       "3.0    65\n",
       "4.0    38\n",
       "Name: abd_distension, dtype: int64"
      ]
     },
     "execution_count": 79,
     "metadata": {},
     "output_type": "execute_result"
    }
   ],
   "source": [
    "#               1 = none\n",
    "#               2 = slight\n",
    "#               3 = moderate\n",
    "#               4 = severe\n",
    "df['abd_distension'].value_counts()"
   ]
  },
  {
   "cell_type": "code",
   "execution_count": 80,
   "id": "445602db-d96e-4446-8b56-e55c4e35d0e0",
   "metadata": {},
   "outputs": [],
   "source": [
    "df['abd_distension'] = df['abd_distension'].where(df['abd_distension'] != '?', other = np.nan)"
   ]
  },
  {
   "cell_type": "code",
   "execution_count": 81,
   "id": "4ec57bba-0605-4ef5-acb8-9cb158a88683",
   "metadata": {},
   "outputs": [
    {
     "data": {
      "text/plain": [
       "1.0    76\n",
       "2.0    65\n",
       "3.0    65\n",
       "4.0    38\n",
       "Name: abd_distension, dtype: int64"
      ]
     },
     "execution_count": 81,
     "metadata": {},
     "output_type": "execute_result"
    }
   ],
   "source": [
    "df['abd_distension'].value_counts()"
   ]
  },
  {
   "cell_type": "code",
   "execution_count": 82,
   "id": "6210cb18-4eda-4e60-9aa1-21ed8e5484b0",
   "metadata": {},
   "outputs": [
    {
     "data": {
      "text/plain": [
       "array([nan,  1.,  2.,  3.])"
      ]
     },
     "execution_count": 82,
     "metadata": {},
     "output_type": "execute_result"
    }
   ],
   "source": [
    "df['naso_tub'].unique()"
   ]
  },
  {
   "cell_type": "code",
   "execution_count": 83,
   "id": "ff2d717d-951a-4c39-98be-d03ce7697334",
   "metadata": {},
   "outputs": [
    {
     "data": {
      "text/plain": [
       "2.0    102\n",
       "1.0     71\n",
       "3.0     23\n",
       "Name: naso_tub, dtype: int64"
      ]
     },
     "execution_count": 83,
     "metadata": {},
     "output_type": "execute_result"
    }
   ],
   "source": [
    "#               1 = none\n",
    "#               2 = slight\n",
    "#               3 = significant\n",
    "df['naso_tub'].value_counts()"
   ]
  },
  {
   "cell_type": "code",
   "execution_count": 84,
   "id": "e14243c4-82d7-473a-aa1b-f814d6d946d2",
   "metadata": {},
   "outputs": [],
   "source": [
    "df['naso_tub'] = df['naso_tub'].where(df['naso_tub'] != '?', other = np.nan)"
   ]
  },
  {
   "cell_type": "code",
   "execution_count": 85,
   "id": "98116e58-42be-49bc-acbe-8f6b3a2b72af",
   "metadata": {},
   "outputs": [
    {
     "data": {
      "text/plain": [
       "array([nan,  2.,  1.,  3.])"
      ]
     },
     "execution_count": 85,
     "metadata": {},
     "output_type": "execute_result"
    }
   ],
   "source": [
    "df['naso_reflux'].unique()"
   ]
  },
  {
   "cell_type": "code",
   "execution_count": 86,
   "id": "792fbdce-632a-490c-8fb6-69f9234de549",
   "metadata": {},
   "outputs": [
    {
     "data": {
      "text/plain": [
       "naso_reflux\n",
       "1.0            120\n",
       "3.0             39\n",
       "2.0             35\n",
       "dtype: int64"
      ]
     },
     "execution_count": 86,
     "metadata": {},
     "output_type": "execute_result"
    }
   ],
   "source": [
    "#               1 = none\n",
    "#               2 = > 1 liter\n",
    "#               3 = < 1 liter\n",
    "df[['naso_reflux']].value_counts()"
   ]
  },
  {
   "cell_type": "code",
   "execution_count": 87,
   "id": "d2cf92b8-1bec-4ec4-9213-fdb1016a8f6b",
   "metadata": {},
   "outputs": [],
   "source": [
    "df['naso_reflux'] = df['naso_reflux'].where(df['naso_reflux'] != '?', other = np.nan)"
   ]
  },
  {
   "cell_type": "code",
   "execution_count": 88,
   "id": "cafef8b1-44bf-4223-aeb4-e05cfdf37532",
   "metadata": {},
   "outputs": [
    {
     "data": {
      "text/plain": [
       "array([nan, 5. , 3. , 7.2, 4.5, 5.5, 2. , 4. , 6. , 7. , 1. , 5.7, 1.5,\n",
       "       4.4, 6.5, 6.2, 4.3, 5.3, 7.5, 5.4, 3.5])"
      ]
     },
     "execution_count": 88,
     "metadata": {},
     "output_type": "execute_result"
    }
   ],
   "source": [
    "df['naso_reflux_ph'].unique()"
   ]
  },
  {
   "cell_type": "code",
   "execution_count": 89,
   "id": "369edec9-9011-40f6-b2d6-31b4ea4c7b5e",
   "metadata": {},
   "outputs": [
    {
     "data": {
      "text/plain": [
       "naso_reflux_ph\n",
       "2.0               9\n",
       "7.0               8\n",
       "6.5               5\n",
       "5.0               4\n",
       "5.5               4\n",
       "3.0               3\n",
       "4.0               3\n",
       "4.5               3\n",
       "1.0               2\n",
       "7.5               2\n",
       "1.5               1\n",
       "5.4               1\n",
       "4.4               1\n",
       "5.7               1\n",
       "6.0               1\n",
       "6.2               1\n",
       "4.3               1\n",
       "3.5               1\n",
       "7.2               1\n",
       "5.3               1\n",
       "dtype: int64"
      ]
     },
     "execution_count": 89,
     "metadata": {},
     "output_type": "execute_result"
    }
   ],
   "source": [
    "# 7 is neutral\n",
    "#normal values are in the 3 to 4 range\n",
    "df[['naso_reflux_ph']].value_counts()"
   ]
  },
  {
   "cell_type": "code",
   "execution_count": 90,
   "id": "77d84ec1-b6bf-4e66-911f-6e1c7d223f8b",
   "metadata": {},
   "outputs": [],
   "source": [
    "df['naso_reflux_ph'] = df['naso_reflux_ph'].where(df['naso_reflux_ph'] != '?', other = np.nan)"
   ]
  },
  {
   "cell_type": "code",
   "execution_count": 91,
   "id": "6e09c43e-10e0-45b7-8fc3-d42d2af2aa41",
   "metadata": {},
   "outputs": [],
   "source": [
    "typos_col = {\n",
    "    'naso_reflux_ph': 'float64'\n",
    "}"
   ]
  },
  {
   "cell_type": "code",
   "execution_count": 92,
   "id": "e0a5359c-474e-47bb-88bf-c91e079b0180",
   "metadata": {},
   "outputs": [],
   "source": [
    "df = df.astype(typos_col)"
   ]
  },
  {
   "cell_type": "code",
   "execution_count": 93,
   "id": "929d01da-ccf4-4487-83f3-57f1c05d87d9",
   "metadata": {},
   "outputs": [
    {
     "data": {
      "text/plain": [
       "naso_reflux_ph\n",
       "2.0               9\n",
       "7.0               8\n",
       "6.5               5\n",
       "5.0               4\n",
       "5.5               4\n",
       "3.0               3\n",
       "4.0               3\n",
       "4.5               3\n",
       "1.0               2\n",
       "7.5               2\n",
       "1.5               1\n",
       "5.4               1\n",
       "4.4               1\n",
       "5.7               1\n",
       "6.0               1\n",
       "6.2               1\n",
       "4.3               1\n",
       "3.5               1\n",
       "7.2               1\n",
       "5.3               1\n",
       "dtype: int64"
      ]
     },
     "execution_count": 93,
     "metadata": {},
     "output_type": "execute_result"
    }
   ],
   "source": [
    "df[['naso_reflux_ph']].value_counts()"
   ]
  },
  {
   "cell_type": "code",
   "execution_count": 94,
   "id": "dff22545-57cd-4d29-bcfc-15002b70affb",
   "metadata": {},
   "outputs": [
    {
     "data": {
      "text/plain": [
       "<AxesSubplot:ylabel='Frequency'>"
      ]
     },
     "execution_count": 94,
     "metadata": {},
     "output_type": "execute_result"
    },
    {
     "data": {
      "image/png": "[encoded data removed]",
      "text/plain": [
       "<Figure size 432x288 with 1 Axes>"
      ]
     },
     "metadata": {
      "needs_background": "light"
     },
     "output_type": "display_data"
    }
   ],
   "source": [
    "df['naso_reflux_ph'].plot(kind = 'hist')\n"
   ]
  },
  {
   "cell_type": "code",
   "execution_count": 95,
   "id": "fbdcc5d1-3fdc-465b-8392-8de8ab33af9a",
   "metadata": {},
   "outputs": [
    {
     "data": {
      "text/plain": [
       "<AxesSubplot:>"
      ]
     },
     "execution_count": 95,
     "metadata": {},
     "output_type": "execute_result"
    },
    {
     "data": {
      "image/png": "[encoded data removed]",
      "text/plain": [
       "<Figure size 432x288 with 1 Axes>"
      ]
     },
     "metadata": {
      "needs_background": "light"
     },
     "output_type": "display_data"
    }
   ],
   "source": [
    "df['naso_reflux_ph'].plot(kind = 'box')"
   ]
  },
  {
   "cell_type": "code",
   "execution_count": 93,
   "id": "0272e339-ee48-4fea-9d23-853e6f0005db",
   "metadata": {},
   "outputs": [
    {
     "data": {
      "text/plain": [
       "array([ 3.,  4.,  1., nan,  2.])"
      ]
     },
     "execution_count": 93,
     "metadata": {},
     "output_type": "execute_result"
    }
   ],
   "source": [
    "df['rect_exam'].unique()"
   ]
  },
  {
   "cell_type": "code",
   "execution_count": 94,
   "id": "780a57a0-8c29-43b0-962a-da8fc55f61fd",
   "metadata": {},
   "outputs": [
    {
     "data": {
      "text/plain": [
       "rect_exam\n",
       "4.0          79\n",
       "1.0          57\n",
       "3.0          49\n",
       "2.0          13\n",
       "dtype: int64"
      ]
     },
     "execution_count": 94,
     "metadata": {},
     "output_type": "execute_result"
    }
   ],
   "source": [
    "#               1 = normal\n",
    "#               2 = increased\n",
    "#               3 = decreased\n",
    "#               4 = absent\n",
    "df[['rect_exam']].value_counts()"
   ]
  },
  {
   "cell_type": "code",
   "execution_count": 95,
   "id": "b899aa43-a7f5-43e1-b3aa-76ed0e7f0434",
   "metadata": {},
   "outputs": [],
   "source": [
    "df['rect_exam'] = df['rect_exam'].where(df['rect_exam'] != '?', other = np.nan)"
   ]
  },
  {
   "cell_type": "code",
   "execution_count": 96,
   "id": "663b3288-3330-496f-b971-65dfcb6d5235",
   "metadata": {},
   "outputs": [
    {
     "data": {
      "text/plain": [
       "array([ 5.,  2.,  1., nan,  3.,  4.])"
      ]
     },
     "execution_count": 96,
     "metadata": {},
     "output_type": "execute_result"
    }
   ],
   "source": [
    "df['abdomen'].unique()"
   ]
  },
  {
   "cell_type": "code",
   "execution_count": 97,
   "id": "801e3827-4d68-404a-bbfa-a4507cd86bd5",
   "metadata": {},
   "outputs": [
    {
     "data": {
      "text/plain": [
       "abdomen\n",
       "5.0        79\n",
       "4.0        43\n",
       "1.0        28\n",
       "2.0        19\n",
       "3.0        13\n",
       "dtype: int64"
      ]
     },
     "execution_count": 97,
     "metadata": {},
     "output_type": "execute_result"
    }
   ],
   "source": [
    "#               1 = normal\n",
    "#               2 = other\n",
    "#               3 = firm feces in the large intestine\n",
    "#               4 = distended small intestine\n",
    "#               5 = distended large intestine\n",
    "#          - 3 is probably an obstruction caused by a mechanical impaction\n",
    "#            and is normally treated medically\n",
    "#          - 4 and 5 indicate a surgical lesion\n",
    "#Entonces aquí me pregunto, podemos hacer una variable dummy que me diga\n",
    "#si el caballito tiene lesión quirugica y entonces estaría relacionado con el variable cirugía???\n",
    "df[['abdomen']].value_counts()"
   ]
  },
  {
   "cell_type": "code",
   "execution_count": 98,
   "id": "ecd551dd-ec44-4a80-99b5-500daff00df3",
   "metadata": {},
   "outputs": [],
   "source": [
    "df['abdomen'] = df['abdomen'].where(df['abdomen'] != '?', other = np.nan)"
   ]
  },
  {
   "cell_type": "code",
   "execution_count": 99,
   "id": "f73d1377-693a-45cd-a2a9-5ef6b0ed5831",
   "metadata": {},
   "outputs": [
    {
     "data": {
      "text/plain": [
       "abdomen\n",
       "5.0        79\n",
       "4.0        43\n",
       "1.0        28\n",
       "2.0        19\n",
       "3.0        13\n",
       "dtype: int64"
      ]
     },
     "execution_count": 99,
     "metadata": {},
     "output_type": "execute_result"
    }
   ],
   "source": [
    "df[['abdomen']].value_counts()"
   ]
  },
  {
   "cell_type": "code",
   "execution_count": 100,
   "id": "c5dd442a-1cd4-4f1c-8542-636c459c6b8a",
   "metadata": {},
   "outputs": [
    {
     "data": {
      "text/plain": [
       "array([45. , 50. , 33. , 48. , 74. ,  nan, 37. , 44. , 38. , 40. , 46. ,\n",
       "       53. , 55. , 49. , 51. , 43. , 66. , 52. , 73. , 56. , 32. , 63. ,\n",
       "       47. , 57. , 60. , 65. , 54. , 41. , 24. , 42. , 64. , 26. , 58. ,\n",
       "       69. , 36. , 68. , 59. , 34. , 39. , 67. , 31. , 75. , 35. , 30. ,\n",
       "       23. , 70. , 71. , 31.5, 72. , 37.5, 28. ])"
      ]
     },
     "execution_count": 100,
     "metadata": {},
     "output_type": "execute_result"
    }
   ],
   "source": [
    "df['pack_cell_vol'].unique()"
   ]
  },
  {
   "cell_type": "code",
   "execution_count": 101,
   "id": "677ac5b2-551d-47f0-b849-e39e830e5de4",
   "metadata": {},
   "outputs": [],
   "source": [
    "df['pack_cell_vol'] = df['pack_cell_vol'].where(df['pack_cell_vol'] != '?', other = np.nan)"
   ]
  },
  {
   "cell_type": "code",
   "execution_count": 102,
   "id": "70581863-4600-404d-84bc-575397938a31",
   "metadata": {},
   "outputs": [
    {
     "data": {
      "text/plain": [
       "array([45. , 50. , 33. , 48. , 74. ,  nan, 37. , 44. , 38. , 40. , 46. ,\n",
       "       53. , 55. , 49. , 51. , 43. , 66. , 52. , 73. , 56. , 32. , 63. ,\n",
       "       47. , 57. , 60. , 65. , 54. , 41. , 24. , 42. , 64. , 26. , 58. ,\n",
       "       69. , 36. , 68. , 59. , 34. , 39. , 67. , 31. , 75. , 35. , 30. ,\n",
       "       23. , 70. , 71. , 31.5, 72. , 37.5, 28. ])"
      ]
     },
     "execution_count": 102,
     "metadata": {},
     "output_type": "execute_result"
    }
   ],
   "source": [
    "df['pack_cell_vol'].unique()"
   ]
  },
  {
   "cell_type": "code",
   "execution_count": 103,
   "id": "ab489f9c-385a-416b-95c7-6a73455fe2b4",
   "metadata": {},
   "outputs": [],
   "source": [
    "typos_col = {\n",
    "    'pack_cell_vol': 'float64'\n",
    "}"
   ]
  },
  {
   "cell_type": "code",
   "execution_count": 104,
   "id": "702e9339-c31e-4d68-8ab5-4a6f51c67cdb",
   "metadata": {},
   "outputs": [],
   "source": [
    "df = df.astype(typos_col)"
   ]
  },
  {
   "cell_type": "code",
   "execution_count": 105,
   "id": "2dd48cee-924f-4448-aed4-66dcaaf98562",
   "metadata": {},
   "outputs": [
    {
     "data": {
      "text/plain": [
       "<AxesSubplot:ylabel='Frequency'>"
      ]
     },
     "execution_count": 105,
     "metadata": {},
     "output_type": "execute_result"
    },
    {
     "data": {
      "image/png": "[encoded data removed]",
      "text/plain": [
       "<Figure size 432x288 with 1 Axes>"
      ]
     },
     "metadata": {
      "needs_background": "light"
     },
     "output_type": "display_data"
    }
   ],
   "source": [
    "#normal range is 30 to 50. The level rises as the circulation becomes compromised or as the animal becomes dehydrated\n",
    "df['r_temperature'].plot(kind = 'hist')"
   ]
  },
  {
   "cell_type": "code",
   "execution_count": 106,
   "id": "c9af29df-ea32-4256-9c26-4706134721f3",
   "metadata": {},
   "outputs": [
    {
     "data": {
      "text/plain": [
       "<AxesSubplot:>"
      ]
     },
     "execution_count": 106,
     "metadata": {},
     "output_type": "execute_result"
    },
    {
     "data": {
      "image/png": "[encoded data removed]",
      "text/plain": [
       "<Figure size 432x288 with 1 Axes>"
      ]
     },
     "metadata": {
      "needs_background": "light"
     },
     "output_type": "display_data"
    }
   ],
   "source": [
    "#aquí por ejemplo la gráfica de box no me dice mucho porque según los datos es normal un valor entre 30 y 50\n",
    "df['r_temperature'].plot(kind = 'box')"
   ]
  },
  {
   "cell_type": "code",
   "execution_count": 107,
   "id": "3df9f993-905f-4b5a-accd-28208ba5d7bc",
   "metadata": {},
   "outputs": [
    {
     "data": {
      "text/plain": [
       "array([ 8.4, 85. ,  6.7,  7.2,  7.4,  nan,  7. ,  8.3,  6.2,  6. ,  7.8,\n",
       "        6.1, 81. ,  6.8,  8.7, 70. , 65. ,  5.5, 76. ,  7.5,  8.2,  6.6,\n",
       "        8.6, 80. ,  6.5,  8.5, 67. , 69. ,  9.1,  7.7,  6.4,  8.1,  5.9,\n",
       "        8. , 82. , 72. , 74. ,  6.3,  7.6,  4.9, 57. , 68. , 77. ,  8.9,\n",
       "        5.7,  4.5, 61. , 86. , 60. , 66. ,  5.3,  7.3, 64. , 58. , 56. ,\n",
       "       75. , 10.2, 62. ,  7.9, 73. , 71. , 63. , 46. ,  5.8, 53. ,  4.7,\n",
       "       59. , 55. , 89. , 51. ,  4. , 11. ,  8.8, 50. , 54. ,  6.9,  4.6,\n",
       "       13. ,  7.1,  3.3,  9. ,  5. ])"
      ]
     },
     "execution_count": 107,
     "metadata": {},
     "output_type": "execute_result"
    }
   ],
   "source": [
    "df['protein'].unique()"
   ]
  },
  {
   "cell_type": "code",
   "execution_count": 108,
   "id": "79d111f3-9c33-4b6e-b3d2-b6c072fcfff5",
   "metadata": {},
   "outputs": [
    {
     "data": {
      "text/plain": [
       "protein\n",
       "7.0        15\n",
       "6.5        15\n",
       "7.5        13\n",
       "6.6        11\n",
       "7.2         9\n",
       "           ..\n",
       "13.0        1\n",
       "46.0        1\n",
       "50.0        1\n",
       "51.0        1\n",
       "89.0        1\n",
       "Length: 81, dtype: int64"
      ]
     },
     "execution_count": 108,
     "metadata": {},
     "output_type": "execute_result"
    }
   ],
   "source": [
    "df[['protein']].value_counts()"
   ]
  },
  {
   "cell_type": "code",
   "execution_count": 109,
   "id": "494599b9-0806-45ef-bf93-f42421256e94",
   "metadata": {},
   "outputs": [],
   "source": [
    "#este dato está gonorreisima. porque se supone que debe estar entr 6 y 7.5 y hay algunos que no tienen punto decimal\n",
    "df['protein'] = df['protein'].where(df['protein'] != '?', other = np.nan)"
   ]
  },
  {
   "cell_type": "code",
   "execution_count": 110,
   "id": "38929c7f-1f99-437e-aeb1-1824a7c77102",
   "metadata": {},
   "outputs": [
    {
     "data": {
      "text/plain": [
       "array([ 8.4, 85. ,  6.7,  7.2,  7.4,  nan,  7. ,  8.3,  6.2,  6. ,  7.8,\n",
       "        6.1, 81. ,  6.8,  8.7, 70. , 65. ,  5.5, 76. ,  7.5,  8.2,  6.6,\n",
       "        8.6, 80. ,  6.5,  8.5, 67. , 69. ,  9.1,  7.7,  6.4,  8.1,  5.9,\n",
       "        8. , 82. , 72. , 74. ,  6.3,  7.6,  4.9, 57. , 68. , 77. ,  8.9,\n",
       "        5.7,  4.5, 61. , 86. , 60. , 66. ,  5.3,  7.3, 64. , 58. , 56. ,\n",
       "       75. , 10.2, 62. ,  7.9, 73. , 71. , 63. , 46. ,  5.8, 53. ,  4.7,\n",
       "       59. , 55. , 89. , 51. ,  4. , 11. ,  8.8, 50. , 54. ,  6.9,  4.6,\n",
       "       13. ,  7.1,  3.3,  9. ,  5. ])"
      ]
     },
     "execution_count": 110,
     "metadata": {},
     "output_type": "execute_result"
    }
   ],
   "source": [
    "df['protein'].unique()"
   ]
  },
  {
   "cell_type": "code",
   "execution_count": 111,
   "id": "fbd55181-c0e0-44cb-b437-1753d7fb6490",
   "metadata": {},
   "outputs": [],
   "source": [
    "typos_col = {\n",
    "    'protein': 'float64'\n",
    "}"
   ]
  },
  {
   "cell_type": "code",
   "execution_count": 112,
   "id": "2b524121-7b58-4433-a2a8-3ab55e7b3d32",
   "metadata": {},
   "outputs": [],
   "source": [
    "df = df.astype(typos_col)"
   ]
  },
  {
   "cell_type": "code",
   "execution_count": 113,
   "id": "680ae5f3-0470-4ead-935b-00c22ad4ee42",
   "metadata": {},
   "outputs": [
    {
     "data": {
      "text/plain": [
       "<AxesSubplot:ylabel='Frequency'>"
      ]
     },
     "execution_count": 113,
     "metadata": {},
     "output_type": "execute_result"
    },
    {
     "data": {
      "image/png": "[encoded data removed]",
      "text/plain": [
       "<Figure size 432x288 with 1 Axes>"
      ]
     },
     "metadata": {
      "needs_background": "light"
     },
     "output_type": "display_data"
    }
   ],
   "source": [
    "#se puede separar esta gráfica como por rangos? ver un pedacito y luego otro pedacito\n",
    "df['protein'].plot(kind = 'hist', bins = 50)"
   ]
  },
  {
   "cell_type": "code",
   "execution_count": 114,
   "id": "c90449d4-e7f5-42ec-b7b6-37f09797995d",
   "metadata": {},
   "outputs": [
    {
     "data": {
      "text/plain": [
       "<AxesSubplot:xlabel='protein', ylabel='Count'>"
      ]
     },
     "execution_count": 114,
     "metadata": {},
     "output_type": "execute_result"
    },
    {
     "data": {
      "image/png": "[encoded data removed]",
      "text/plain": [
       "<Figure size 432x288 with 1 Axes>"
      ]
     },
     "metadata": {
      "needs_background": "light"
     },
     "output_type": "display_data"
    }
   ],
   "source": [
    "sns.histplot(data = df, x = 'protein', hue = 'outcome', multiple = 'dodge')"
   ]
  },
  {
   "cell_type": "code",
   "execution_count": 115,
   "id": "ef665bbd-295d-4d62-8306-76d31db04856",
   "metadata": {},
   "outputs": [
    {
     "data": {
      "text/html": [
       "<div>\n",
       "<style scoped>\n",
       "    .dataframe tbody tr th:only-of-type {\n",
       "        vertical-align: middle;\n",
       "    }\n",
       "\n",
       "    .dataframe tbody tr th {\n",
       "        vertical-align: top;\n",
       "    }\n",
       "\n",
       "    .dataframe thead th {\n",
       "        text-align: right;\n",
       "    }\n",
       "</style>\n",
       "<table border=\"1\" class=\"dataframe\">\n",
       "  <thead>\n",
       "    <tr style=\"text-align: right;\">\n",
       "      <th></th>\n",
       "      <th>surgery</th>\n",
       "      <th>age</th>\n",
       "      <th>hospital_number</th>\n",
       "      <th>r_temperature</th>\n",
       "      <th>pulse</th>\n",
       "      <th>resp_rate</th>\n",
       "      <th>ext_temperature</th>\n",
       "      <th>per_pulse</th>\n",
       "      <th>muc_membraes</th>\n",
       "      <th>cap_ref_time</th>\n",
       "      <th>...</th>\n",
       "      <th>abd_appearance</th>\n",
       "      <th>abd_protein</th>\n",
       "      <th>outcome</th>\n",
       "      <th>surgical_lesion</th>\n",
       "      <th>type_lesion_1</th>\n",
       "      <th>type_lesion_2</th>\n",
       "      <th>type_lesion_3</th>\n",
       "      <th>cp_data</th>\n",
       "      <th>extra</th>\n",
       "      <th>extra-muc_membraes</th>\n",
       "    </tr>\n",
       "  </thead>\n",
       "  <tbody>\n",
       "    <tr>\n",
       "      <th>1</th>\n",
       "      <td>1.0</td>\n",
       "      <td>Adult</td>\n",
       "      <td>534817</td>\n",
       "      <td>39.2</td>\n",
       "      <td>88.0</td>\n",
       "      <td>20.0</td>\n",
       "      <td>NaN</td>\n",
       "      <td>NaN</td>\n",
       "      <td>4.0</td>\n",
       "      <td>1.0</td>\n",
       "      <td>...</td>\n",
       "      <td>2.0</td>\n",
       "      <td>2.0</td>\n",
       "      <td>3.0</td>\n",
       "      <td>2</td>\n",
       "      <td>2208</td>\n",
       "      <td>0</td>\n",
       "      <td>0</td>\n",
       "      <td>2</td>\n",
       "      <td>NaN</td>\n",
       "      <td>None</td>\n",
       "    </tr>\n",
       "    <tr>\n",
       "      <th>14</th>\n",
       "      <td>1.0</td>\n",
       "      <td>Adult</td>\n",
       "      <td>534917</td>\n",
       "      <td>38.2</td>\n",
       "      <td>76.0</td>\n",
       "      <td>28.0</td>\n",
       "      <td>NaN</td>\n",
       "      <td>NaN</td>\n",
       "      <td>1.0</td>\n",
       "      <td>1.0</td>\n",
       "      <td>...</td>\n",
       "      <td>1.0</td>\n",
       "      <td>2.0</td>\n",
       "      <td>1.0</td>\n",
       "      <td>1</td>\n",
       "      <td>2112</td>\n",
       "      <td>0</td>\n",
       "      <td>0</td>\n",
       "      <td>2</td>\n",
       "      <td>NaN</td>\n",
       "      <td>None</td>\n",
       "    </tr>\n",
       "    <tr>\n",
       "      <th>23</th>\n",
       "      <td>1.0</td>\n",
       "      <td>Young</td>\n",
       "      <td>534998</td>\n",
       "      <td>38.3</td>\n",
       "      <td>130.0</td>\n",
       "      <td>60.0</td>\n",
       "      <td>NaN</td>\n",
       "      <td>NaN</td>\n",
       "      <td>NaN</td>\n",
       "      <td>1.0</td>\n",
       "      <td>...</td>\n",
       "      <td>NaN</td>\n",
       "      <td>NaN</td>\n",
       "      <td>1.0</td>\n",
       "      <td>1</td>\n",
       "      <td>3111</td>\n",
       "      <td>0</td>\n",
       "      <td>0</td>\n",
       "      <td>2</td>\n",
       "      <td>NaN</td>\n",
       "      <td>None</td>\n",
       "    </tr>\n",
       "    <tr>\n",
       "      <th>24</th>\n",
       "      <td>1.0</td>\n",
       "      <td>Adult</td>\n",
       "      <td>533692</td>\n",
       "      <td>38.1</td>\n",
       "      <td>60.0</td>\n",
       "      <td>12.0</td>\n",
       "      <td>NaN</td>\n",
       "      <td>NaN</td>\n",
       "      <td>3.0</td>\n",
       "      <td>1.0</td>\n",
       "      <td>...</td>\n",
       "      <td>NaN</td>\n",
       "      <td>NaN</td>\n",
       "      <td>1.0</td>\n",
       "      <td>1</td>\n",
       "      <td>3111</td>\n",
       "      <td>0</td>\n",
       "      <td>0</td>\n",
       "      <td>2</td>\n",
       "      <td>NaN</td>\n",
       "      <td>None</td>\n",
       "    </tr>\n",
       "    <tr>\n",
       "      <th>29</th>\n",
       "      <td>2.0</td>\n",
       "      <td>Adult</td>\n",
       "      <td>535415</td>\n",
       "      <td>37.7</td>\n",
       "      <td>48.0</td>\n",
       "      <td>NaN</td>\n",
       "      <td>NaN</td>\n",
       "      <td>NaN</td>\n",
       "      <td>1.0</td>\n",
       "      <td>1.0</td>\n",
       "      <td>...</td>\n",
       "      <td>NaN</td>\n",
       "      <td>NaN</td>\n",
       "      <td>1.0</td>\n",
       "      <td>2</td>\n",
       "      <td>0</td>\n",
       "      <td>0</td>\n",
       "      <td>0</td>\n",
       "      <td>2</td>\n",
       "      <td>NaN</td>\n",
       "      <td>None</td>\n",
       "    </tr>\n",
       "    <tr>\n",
       "      <th>...</th>\n",
       "      <td>...</td>\n",
       "      <td>...</td>\n",
       "      <td>...</td>\n",
       "      <td>...</td>\n",
       "      <td>...</td>\n",
       "      <td>...</td>\n",
       "      <td>...</td>\n",
       "      <td>...</td>\n",
       "      <td>...</td>\n",
       "      <td>...</td>\n",
       "      <td>...</td>\n",
       "      <td>...</td>\n",
       "      <td>...</td>\n",
       "      <td>...</td>\n",
       "      <td>...</td>\n",
       "      <td>...</td>\n",
       "      <td>...</td>\n",
       "      <td>...</td>\n",
       "      <td>...</td>\n",
       "      <td>...</td>\n",
       "      <td>...</td>\n",
       "    </tr>\n",
       "    <tr>\n",
       "      <th>290</th>\n",
       "      <td>2.0</td>\n",
       "      <td>Adult</td>\n",
       "      <td>535054</td>\n",
       "      <td>38.6</td>\n",
       "      <td>45.0</td>\n",
       "      <td>16.0</td>\n",
       "      <td>NaN</td>\n",
       "      <td>NaN</td>\n",
       "      <td>2.0</td>\n",
       "      <td>1.0</td>\n",
       "      <td>...</td>\n",
       "      <td>NaN</td>\n",
       "      <td>NaN</td>\n",
       "      <td>1.0</td>\n",
       "      <td>2</td>\n",
       "      <td>0</td>\n",
       "      <td>0</td>\n",
       "      <td>0</td>\n",
       "      <td>2</td>\n",
       "      <td>NaN</td>\n",
       "      <td>None</td>\n",
       "    </tr>\n",
       "    <tr>\n",
       "      <th>293</th>\n",
       "      <td>1.0</td>\n",
       "      <td>Adult</td>\n",
       "      <td>534004</td>\n",
       "      <td>NaN</td>\n",
       "      <td>78.0</td>\n",
       "      <td>24.0</td>\n",
       "      <td>NaN</td>\n",
       "      <td>NaN</td>\n",
       "      <td>3.0</td>\n",
       "      <td>1.0</td>\n",
       "      <td>...</td>\n",
       "      <td>NaN</td>\n",
       "      <td>2.0</td>\n",
       "      <td>3.0</td>\n",
       "      <td>2</td>\n",
       "      <td>2209</td>\n",
       "      <td>0</td>\n",
       "      <td>0</td>\n",
       "      <td>2</td>\n",
       "      <td>NaN</td>\n",
       "      <td>None</td>\n",
       "    </tr>\n",
       "    <tr>\n",
       "      <th>294</th>\n",
       "      <td>2.0</td>\n",
       "      <td>Adult</td>\n",
       "      <td>533902</td>\n",
       "      <td>38.5</td>\n",
       "      <td>40.0</td>\n",
       "      <td>16.0</td>\n",
       "      <td>NaN</td>\n",
       "      <td>NaN</td>\n",
       "      <td>1.0</td>\n",
       "      <td>1.0</td>\n",
       "      <td>...</td>\n",
       "      <td>NaN</td>\n",
       "      <td>NaN</td>\n",
       "      <td>1.0</td>\n",
       "      <td>2</td>\n",
       "      <td>0</td>\n",
       "      <td>0</td>\n",
       "      <td>0</td>\n",
       "      <td>2</td>\n",
       "      <td>NaN</td>\n",
       "      <td>None</td>\n",
       "    </tr>\n",
       "    <tr>\n",
       "      <th>295</th>\n",
       "      <td>1.0</td>\n",
       "      <td>Adult</td>\n",
       "      <td>533886</td>\n",
       "      <td>NaN</td>\n",
       "      <td>120.0</td>\n",
       "      <td>70.0</td>\n",
       "      <td>NaN</td>\n",
       "      <td>NaN</td>\n",
       "      <td>4.0</td>\n",
       "      <td>2.0</td>\n",
       "      <td>...</td>\n",
       "      <td>NaN</td>\n",
       "      <td>NaN</td>\n",
       "      <td>3.0</td>\n",
       "      <td>2</td>\n",
       "      <td>3205</td>\n",
       "      <td>0</td>\n",
       "      <td>0</td>\n",
       "      <td>2</td>\n",
       "      <td>NaN</td>\n",
       "      <td>None</td>\n",
       "    </tr>\n",
       "    <tr>\n",
       "      <th>299</th>\n",
       "      <td>1.0</td>\n",
       "      <td>Adult</td>\n",
       "      <td>534618</td>\n",
       "      <td>37.2</td>\n",
       "      <td>40.0</td>\n",
       "      <td>20.0</td>\n",
       "      <td>NaN</td>\n",
       "      <td>NaN</td>\n",
       "      <td>NaN</td>\n",
       "      <td>NaN</td>\n",
       "      <td>...</td>\n",
       "      <td>1.0</td>\n",
       "      <td>1.0</td>\n",
       "      <td>3.0</td>\n",
       "      <td>2</td>\n",
       "      <td>6112</td>\n",
       "      <td>0</td>\n",
       "      <td>0</td>\n",
       "      <td>2</td>\n",
       "      <td>NaN</td>\n",
       "      <td>None</td>\n",
       "    </tr>\n",
       "  </tbody>\n",
       "</table>\n",
       "<p>79 rows × 30 columns</p>\n",
       "</div>"
      ],
      "text/plain": [
       "     surgery    age  hospital_number  r_temperature  pulse  resp_rate  \\\n",
       "1        1.0  Adult           534817           39.2   88.0       20.0   \n",
       "14       1.0  Adult           534917           38.2   76.0       28.0   \n",
       "23       1.0  Young           534998           38.3  130.0       60.0   \n",
       "24       1.0  Adult           533692           38.1   60.0       12.0   \n",
       "29       2.0  Adult           535415           37.7   48.0        NaN   \n",
       "..       ...    ...              ...            ...    ...        ...   \n",
       "290      2.0  Adult           535054           38.6   45.0       16.0   \n",
       "293      1.0  Adult           534004            NaN   78.0       24.0   \n",
       "294      2.0  Adult           533902           38.5   40.0       16.0   \n",
       "295      1.0  Adult           533886            NaN  120.0       70.0   \n",
       "299      1.0  Adult           534618           37.2   40.0       20.0   \n",
       "\n",
       "    ext_temperature per_pulse  muc_membraes  cap_ref_time  ... abd_appearance  \\\n",
       "1               NaN       NaN           4.0           1.0  ...            2.0   \n",
       "14              NaN       NaN           1.0           1.0  ...            1.0   \n",
       "23              NaN       NaN           NaN           1.0  ...            NaN   \n",
       "24              NaN       NaN           3.0           1.0  ...            NaN   \n",
       "29              NaN       NaN           1.0           1.0  ...            NaN   \n",
       "..              ...       ...           ...           ...  ...            ...   \n",
       "290             NaN       NaN           2.0           1.0  ...            NaN   \n",
       "293             NaN       NaN           3.0           1.0  ...            NaN   \n",
       "294             NaN       NaN           1.0           1.0  ...            NaN   \n",
       "295             NaN       NaN           4.0           2.0  ...            NaN   \n",
       "299             NaN       NaN           NaN           NaN  ...            1.0   \n",
       "\n",
       "     abd_protein  outcome  surgical_lesion  type_lesion_1  type_lesion_2  \\\n",
       "1            2.0      3.0                2           2208              0   \n",
       "14           2.0      1.0                1           2112              0   \n",
       "23           NaN      1.0                1           3111              0   \n",
       "24           NaN      1.0                1           3111              0   \n",
       "29           NaN      1.0                2              0              0   \n",
       "..           ...      ...              ...            ...            ...   \n",
       "290          NaN      1.0                2              0              0   \n",
       "293          2.0      3.0                2           2209              0   \n",
       "294          NaN      1.0                2              0              0   \n",
       "295          NaN      3.0                2           3205              0   \n",
       "299          1.0      3.0                2           6112              0   \n",
       "\n",
       "     type_lesion_3  cp_data  extra  extra-muc_membraes  \n",
       "1                0        2    NaN                None  \n",
       "14               0        2    NaN                None  \n",
       "23               0        2    NaN                None  \n",
       "24               0        2    NaN                None  \n",
       "29               0        2    NaN                None  \n",
       "..             ...      ...    ...                 ...  \n",
       "290              0        2    NaN                None  \n",
       "293              0        2    NaN                None  \n",
       "294              0        2    NaN                None  \n",
       "295              0        2    NaN                None  \n",
       "299              0        2    NaN                None  \n",
       "\n",
       "[79 rows x 30 columns]"
      ]
     },
     "execution_count": 115,
     "metadata": {},
     "output_type": "execute_result"
    }
   ],
   "source": [
    "df[df['protein']> 40] #loc iloc"
   ]
  },
  {
   "cell_type": "code",
   "execution_count": 116,
   "id": "125956fd-8c42-4400-8685-e883e79b075d",
   "metadata": {},
   "outputs": [
    {
     "data": {
      "text/plain": [
       "<AxesSubplot:xlabel='protein', ylabel='Count'>"
      ]
     },
     "execution_count": 116,
     "metadata": {},
     "output_type": "execute_result"
    },
    {
     "data": {
      "image/png": "[encoded data removed]",
      "text/plain": [
       "<Figure size 432x288 with 1 Axes>"
      ]
     },
     "metadata": {
      "needs_background": "light"
     },
     "output_type": "display_data"
    }
   ],
   "source": [
    "sns.histplot(data = df[df['protein']> 40], x = 'protein')"
   ]
  },
  {
   "cell_type": "code",
   "execution_count": 117,
   "id": "9c80d522-9d05-4436-8692-e98b5816ac89",
   "metadata": {},
   "outputs": [
    {
     "data": {
      "text/plain": [
       "<AxesSubplot:>"
      ]
     },
     "execution_count": 117,
     "metadata": {},
     "output_type": "execute_result"
    },
    {
     "data": {
      "image/png": "[encoded data removed]",
      "text/plain": [
       "<Figure size 432x288 with 1 Axes>"
      ]
     },
     "metadata": {
      "needs_background": "light"
     },
     "output_type": "display_data"
    }
   ],
   "source": [
    "#según esto no hay datos atípicos\n",
    "df['protein'].plot(kind = 'box')"
   ]
  },
  {
   "cell_type": "code",
   "execution_count": 118,
   "id": "6f89caad-254b-4f84-a854-5599839e35c5",
   "metadata": {},
   "outputs": [
    {
     "data": {
      "text/plain": [
       "array([nan,  2.,  3.,  1.])"
      ]
     },
     "execution_count": 118,
     "metadata": {},
     "output_type": "execute_result"
    }
   ],
   "source": [
    "df['abd_appearance'].unique()"
   ]
  },
  {
   "cell_type": "code",
   "execution_count": 119,
   "id": "433d26fa-e698-4429-86b3-02af94bc1664",
   "metadata": {},
   "outputs": [
    {
     "data": {
      "text/plain": [
       "abd_appearance\n",
       "2.0               48\n",
       "3.0               46\n",
       "1.0               41\n",
       "dtype: int64"
      ]
     },
     "execution_count": 119,
     "metadata": {},
     "output_type": "execute_result"
    }
   ],
   "source": [
    "#               1 = clear\n",
    "#               2 = cloudy\n",
    "#               3 = serosanguinous\n",
    "#normal fluid is clear while cloudy or serosanguinous indicates a compromised gut\n",
    "#De acuerdo con lo anterior, entonces debe haber una relación entre los números 3 y los que tienen peristalsis y abdominal distension\n",
    "#más o menos relacionados\n",
    "df[['abd_appearance']].value_counts()"
   ]
  },
  {
   "cell_type": "code",
   "execution_count": 120,
   "id": "45a05de2-903c-42ba-936b-99a00a1b9e7e",
   "metadata": {},
   "outputs": [],
   "source": [
    "df['abd_appearance'] = df['abd_appearance'].where(df['abd_appearance'] != '?', other = np.nan)"
   ]
  },
  {
   "cell_type": "code",
   "execution_count": 121,
   "id": "8ddd39e0-dfb0-4285-b048-3848fc08b5a2",
   "metadata": {},
   "outputs": [
    {
     "data": {
      "text/plain": [
       "array([ nan,  2. ,  5.3,  2.2,  3.6,  4.7,  3.9,  1.3,  7.4,  6.6,  1. ,\n",
       "        5. ,  0.1,  4.1,  1.6,  4.5,  6. ,  7. ,  2.6,  1.4,  2.3,  3.7,\n",
       "        2.8, 10. ,  2.9,  5.2,  4.3,  3.4,  3. , 10.1,  1.5,  2.1,  8. ,\n",
       "        4.8,  3.2,  4.4,  2.5,  3.3])"
      ]
     },
     "execution_count": 121,
     "metadata": {},
     "output_type": "execute_result"
    }
   ],
   "source": [
    "#the higher the level of protein the more likely it is to have a compromised gut.\n",
    "df['abd_protein'].unique()"
   ]
  },
  {
   "cell_type": "code",
   "execution_count": 122,
   "id": "d6e62412-8d96-48a4-a54f-10b89ddca461",
   "metadata": {},
   "outputs": [
    {
     "data": {
      "text/plain": [
       "abd_protein\n",
       "2.0            26\n",
       "1.0            17\n",
       "2.6             4\n",
       "3.9             4\n",
       "3.6             3\n",
       "3.4             3\n",
       "5.0             3\n",
       "2.8             3\n",
       "7.0             3\n",
       "2.3             2\n",
       "6.0             2\n",
       "4.5             2\n",
       "5.3             2\n",
       "3.0             2\n",
       "1.6             2\n",
       "4.1             2\n",
       "4.3             2\n",
       "6.6             1\n",
       "5.2             1\n",
       "7.4             1\n",
       "8.0             1\n",
       "4.8             1\n",
       "10.0            1\n",
       "4.7             1\n",
       "0.1             1\n",
       "4.4             1\n",
       "3.7             1\n",
       "3.3             1\n",
       "3.2             1\n",
       "2.9             1\n",
       "2.5             1\n",
       "2.2             1\n",
       "2.1             1\n",
       "1.5             1\n",
       "1.4             1\n",
       "1.3             1\n",
       "10.1            1\n",
       "dtype: int64"
      ]
     },
     "execution_count": 122,
     "metadata": {},
     "output_type": "execute_result"
    }
   ],
   "source": [
    "df[['abd_protein']].value_counts()"
   ]
  },
  {
   "cell_type": "code",
   "execution_count": 123,
   "id": "d3c147e1-cd8f-4c34-b884-5e97ef42ad45",
   "metadata": {},
   "outputs": [],
   "source": [
    "df['abd_protein'] = df['abd_protein'].where(df['abd_protein'] != '?', other = np.nan)"
   ]
  },
  {
   "cell_type": "code",
   "execution_count": 124,
   "id": "6d8eb136-9b1d-4815-8544-7494958b4e0d",
   "metadata": {},
   "outputs": [],
   "source": [
    "typos_col = {\n",
    "    'abd_protein': 'float64'\n",
    "}\n"
   ]
  },
  {
   "cell_type": "code",
   "execution_count": 125,
   "id": "9003dab5-0898-4a7d-8085-2278b2dae690",
   "metadata": {},
   "outputs": [],
   "source": [
    "df = df.astype(typos_col)"
   ]
  },
  {
   "cell_type": "code",
   "execution_count": 126,
   "id": "f66e0c1b-77c4-4fed-b536-3753be976554",
   "metadata": {},
   "outputs": [
    {
     "data": {
      "text/plain": [
       "<AxesSubplot:ylabel='Frequency'>"
      ]
     },
     "execution_count": 126,
     "metadata": {},
     "output_type": "execute_result"
    },
    {
     "data": {
      "image/png": "[encoded data removed]",
      "text/plain": [
       "<Figure size 432x288 with 1 Axes>"
      ]
     },
     "metadata": {
      "needs_background": "light"
     },
     "output_type": "display_data"
    }
   ],
   "source": [
    "df['abd_protein'].plot(kind = 'hist', bins = 30)"
   ]
  },
  {
   "cell_type": "code",
   "execution_count": 127,
   "id": "7467333b-3a7c-49c8-8296-908b22cbce3e",
   "metadata": {},
   "outputs": [
    {
     "data": {
      "text/plain": [
       "<AxesSubplot:>"
      ]
     },
     "execution_count": 127,
     "metadata": {},
     "output_type": "execute_result"
    },
    {
     "data": {
      "image/png": "[encoded data removed]",
      "text/plain": [
       "<Figure size 432x288 with 1 Axes>"
      ]
     },
     "metadata": {
      "needs_background": "light"
     },
     "output_type": "display_data"
    }
   ],
   "source": [
    "df['abd_protein'].plot(kind = 'box')"
   ]
  },
  {
   "cell_type": "code",
   "execution_count": 128,
   "id": "199d6e81-ab1b-43c1-979f-3bccf2b34238",
   "metadata": {},
   "outputs": [
    {
     "data": {
      "text/plain": [
       "array([ 2.,  3.,  1., nan])"
      ]
     },
     "execution_count": 128,
     "metadata": {},
     "output_type": "execute_result"
    }
   ],
   "source": [
    "df['outcome'].unique()"
   ]
  },
  {
   "cell_type": "code",
   "execution_count": 129,
   "id": "8b1729ed-b4cb-4deb-9477-91cdc7f4d840",
   "metadata": {},
   "outputs": [
    {
     "data": {
      "text/plain": [
       "outcome\n",
       "1.0        178\n",
       "2.0         77\n",
       "3.0         44\n",
       "dtype: int64"
      ]
     },
     "execution_count": 129,
     "metadata": {},
     "output_type": "execute_result"
    }
   ],
   "source": [
    "#               1 = lived\n",
    "#               2 = died\n",
    "#               3 = was euthanized\n",
    "df[['outcome']].value_counts()"
   ]
  },
  {
   "cell_type": "code",
   "execution_count": 130,
   "id": "8a48f0c0-0f1c-4752-a3a8-bba883511e0b",
   "metadata": {},
   "outputs": [],
   "source": [
    "df['outcome'] = df['outcome'].where(df['outcome'] != '?', other = np.nan)"
   ]
  },
  {
   "cell_type": "code",
   "execution_count": 131,
   "id": "82b1a30e-6d32-4404-9daa-1253c0247611",
   "metadata": {},
   "outputs": [
    {
     "data": {
      "text/plain": [
       "array([2, 1])"
      ]
     },
     "execution_count": 131,
     "metadata": {},
     "output_type": "execute_result"
    }
   ],
   "source": [
    "#directamente relacionada con la variable abdomen. (importante)\n",
    "df['surgical_lesion'].unique()"
   ]
  },
  {
   "cell_type": "code",
   "execution_count": 132,
   "id": "e8d6e966-0c4b-4c18-8bc8-3e4d884cce2e",
   "metadata": {},
   "outputs": [
    {
     "data": {
      "text/plain": [
       "surgical_lesion\n",
       "1                  191\n",
       "2                  109\n",
       "dtype: int64"
      ]
     },
     "execution_count": 132,
     "metadata": {},
     "output_type": "execute_result"
    }
   ],
   "source": [
    "df[['surgical_lesion']].value_counts()"
   ]
  },
  {
   "cell_type": "code",
   "execution_count": 133,
   "id": "0aa9ea16-3a1e-4651-94b1-44cd23490347",
   "metadata": {},
   "outputs": [],
   "source": [
    "df['surgical_lesion'] = df[['surgical_lesion']].applymap(lambda x: True if x== 1 else False)"
   ]
  },
  {
   "cell_type": "code",
   "execution_count": 134,
   "id": "ac59aa59-6110-4389-9f61-9c9bff33b4dd",
   "metadata": {},
   "outputs": [
    {
     "data": {
      "text/plain": [
       "surgical_lesion\n",
       "True               191\n",
       "False              109\n",
       "dtype: int64"
      ]
     },
     "execution_count": 134,
     "metadata": {},
     "output_type": "execute_result"
    }
   ],
   "source": [
    "df[['surgical_lesion']].value_counts()"
   ]
  },
  {
   "cell_type": "code",
   "execution_count": 135,
   "id": "4b42655a-9950-484e-98ae-e1bc478b134b",
   "metadata": {},
   "outputs": [
    {
     "data": {
      "text/plain": [
       "array([11300,  2208,     0,  4300,  3124,  3205,  2124,  2111,  4124,\n",
       "        2112,  3207,  1400,  4205,  3111,  4122,  2207,  2209,  1124,\n",
       "        7111,  5205,  2113,  9400,  2305,  7209,  7400,  3112,  3209,\n",
       "        2322, 11124,  3025,  2205,  5206,   400,  5000,  5400, 31110,\n",
       "        2206,  5124,  7113,  6209,  3400,  6112,  6111,  1111,  2300,\n",
       "       21110,  4111,  3133,  5111,   300,  3115,  9000,  3300,  3113,\n",
       "       41110, 11400, 12208,  4206,  4207,  8300,  8400])"
      ]
     },
     "execution_count": 135,
     "metadata": {},
     "output_type": "execute_result"
    }
   ],
   "source": [
    "df['type_lesion_1'].unique()"
   ]
  },
  {
   "cell_type": "code",
   "execution_count": 136,
   "id": "d8832309-790d-4c46-a1a9-363ad81315ec",
   "metadata": {},
   "outputs": [
    {
     "data": {
      "text/plain": [
       "61"
      ]
     },
     "execution_count": 136,
     "metadata": {},
     "output_type": "execute_result"
    }
   ],
   "source": [
    "df['type_lesion_1'].nunique()"
   ]
  },
  {
   "cell_type": "code",
   "execution_count": 137,
   "id": "6c59c469-941a-4159-b63b-152e233f26a3",
   "metadata": {},
   "outputs": [
    {
     "data": {
      "text/plain": [
       "type_lesion_1\n",
       "0                56\n",
       "3111             33\n",
       "3205             29\n",
       "2208             20\n",
       "2205             13\n",
       "                 ..\n",
       "300               1\n",
       "4122              1\n",
       "4206              1\n",
       "4207              1\n",
       "41110             1\n",
       "Length: 61, dtype: int64"
      ]
     },
     "execution_count": 137,
     "metadata": {},
     "output_type": "execute_result"
    }
   ],
   "source": [
    "df[['type_lesion_1']].value_counts()"
   ]
  },
  {
   "cell_type": "code",
   "execution_count": 138,
   "id": "0a184753-bc9e-4b24-8cb5-29120a42105f",
   "metadata": {},
   "outputs": [
    {
     "data": {
      "text/plain": [
       "array([   0, 1400, 7111, 3111, 6112, 3112])"
      ]
     },
     "execution_count": 138,
     "metadata": {},
     "output_type": "execute_result"
    }
   ],
   "source": [
    "df['type_lesion_2'].unique()"
   ]
  },
  {
   "cell_type": "code",
   "execution_count": 139,
   "id": "64736f77-80dd-4b32-b0f5-aeb788c8eb9d",
   "metadata": {},
   "outputs": [
    {
     "data": {
      "text/plain": [
       "type_lesion_2\n",
       "0                293\n",
       "3111               3\n",
       "1400               1\n",
       "3112               1\n",
       "6112               1\n",
       "7111               1\n",
       "dtype: int64"
      ]
     },
     "execution_count": 139,
     "metadata": {},
     "output_type": "execute_result"
    }
   ],
   "source": [
    "df[['type_lesion_2']].value_counts()"
   ]
  },
  {
   "cell_type": "code",
   "execution_count": 140,
   "id": "9e05f42f-10b1-4c43-a109-71f87120e10e",
   "metadata": {},
   "outputs": [
    {
     "data": {
      "text/plain": [
       "array([   0, 2209])"
      ]
     },
     "execution_count": 140,
     "metadata": {},
     "output_type": "execute_result"
    }
   ],
   "source": [
    "df['type_lesion_3'].unique()"
   ]
  },
  {
   "cell_type": "code",
   "execution_count": 141,
   "id": "7f1becd4-c7c6-453d-adb1-828785c67d4e",
   "metadata": {},
   "outputs": [
    {
     "data": {
      "text/plain": [
       "type_lesion_3\n",
       "0                299\n",
       "2209               1\n",
       "dtype: int64"
      ]
     },
     "execution_count": 141,
     "metadata": {},
     "output_type": "execute_result"
    }
   ],
   "source": [
    "df[['type_lesion_3']].value_counts()"
   ]
  },
  {
   "cell_type": "code",
   "execution_count": 142,
   "id": "2b736950-91ab-463d-adc3-e7a8edb09abf",
   "metadata": {},
   "outputs": [],
   "source": [
    "typos_col = {\n",
    "    'type_lesion_1': 'object', \n",
    "    'type_lesion_2': 'object', \n",
    "    'type_lesion_3': 'object', \n",
    "}"
   ]
  },
  {
   "cell_type": "code",
   "execution_count": 143,
   "id": "6b2d466f-4cc0-4491-9f65-6d91ee471a67",
   "metadata": {},
   "outputs": [],
   "source": [
    "df = df.astype(typos_col)"
   ]
  },
  {
   "cell_type": "code",
   "execution_count": 144,
   "id": "ce1c3761-e997-496c-a1d0-25e44d8c9de2",
   "metadata": {},
   "outputs": [
    {
     "data": {
      "text/plain": [
       "surgery               float64\n",
       "age                    object\n",
       "hospital_number         int64\n",
       "r_temperature         float64\n",
       "pulse                 float64\n",
       "resp_rate             float64\n",
       "ext_temperature        object\n",
       "per_pulse              object\n",
       "muc_membraes          float64\n",
       "cap_ref_time          float64\n",
       "pain                   object\n",
       "peristalsis           float64\n",
       "abd_distension        float64\n",
       "naso_tub              float64\n",
       "naso_reflux           float64\n",
       "naso_reflux_ph        float64\n",
       "rect_exam             float64\n",
       "abdomen               float64\n",
       "pack_cell_vol         float64\n",
       "protein               float64\n",
       "abd_appearance        float64\n",
       "abd_protein           float64\n",
       "outcome               float64\n",
       "surgical_lesion          bool\n",
       "type_lesion_1          object\n",
       "type_lesion_2          object\n",
       "type_lesion_3          object\n",
       "cp_data                 int64\n",
       "extra                 float64\n",
       "extra-muc_membraes     object\n",
       "dtype: object"
      ]
     },
     "execution_count": 144,
     "metadata": {},
     "output_type": "execute_result"
    }
   ],
   "source": [
    "df.dtypes"
   ]
  },
  {
   "cell_type": "code",
   "execution_count": 145,
   "id": "a38a184f-ac5f-4aff-8d8d-0bb7e595c124",
   "metadata": {},
   "outputs": [],
   "source": [
    "df = df.drop('extra', axis = 1)"
   ]
  },
  {
   "cell_type": "code",
   "execution_count": 146,
   "id": "a8615184-2d2c-4f94-87d1-9a3cdc2c13f4",
   "metadata": {},
   "outputs": [
    {
     "data": {
      "text/html": [
       "<div>\n",
       "<style scoped>\n",
       "    .dataframe tbody tr th:only-of-type {\n",
       "        vertical-align: middle;\n",
       "    }\n",
       "\n",
       "    .dataframe tbody tr th {\n",
       "        vertical-align: top;\n",
       "    }\n",
       "\n",
       "    .dataframe thead th {\n",
       "        text-align: right;\n",
       "    }\n",
       "</style>\n",
       "<table border=\"1\" class=\"dataframe\">\n",
       "  <thead>\n",
       "    <tr style=\"text-align: right;\">\n",
       "      <th></th>\n",
       "      <th>surgery</th>\n",
       "      <th>age</th>\n",
       "      <th>hospital_number</th>\n",
       "      <th>r_temperature</th>\n",
       "      <th>pulse</th>\n",
       "      <th>resp_rate</th>\n",
       "      <th>ext_temperature</th>\n",
       "      <th>per_pulse</th>\n",
       "      <th>muc_membraes</th>\n",
       "      <th>cap_ref_time</th>\n",
       "      <th>...</th>\n",
       "      <th>protein</th>\n",
       "      <th>abd_appearance</th>\n",
       "      <th>abd_protein</th>\n",
       "      <th>outcome</th>\n",
       "      <th>surgical_lesion</th>\n",
       "      <th>type_lesion_1</th>\n",
       "      <th>type_lesion_2</th>\n",
       "      <th>type_lesion_3</th>\n",
       "      <th>cp_data</th>\n",
       "      <th>extra-muc_membraes</th>\n",
       "    </tr>\n",
       "  </thead>\n",
       "  <tbody>\n",
       "    <tr>\n",
       "      <th>0</th>\n",
       "      <td>2.0</td>\n",
       "      <td>Adult</td>\n",
       "      <td>530101</td>\n",
       "      <td>38.5</td>\n",
       "      <td>66.0</td>\n",
       "      <td>28.0</td>\n",
       "      <td>NaN</td>\n",
       "      <td>NaN</td>\n",
       "      <td>NaN</td>\n",
       "      <td>2.0</td>\n",
       "      <td>...</td>\n",
       "      <td>8.4</td>\n",
       "      <td>NaN</td>\n",
       "      <td>NaN</td>\n",
       "      <td>2.0</td>\n",
       "      <td>False</td>\n",
       "      <td>11300</td>\n",
       "      <td>0</td>\n",
       "      <td>0</td>\n",
       "      <td>2</td>\n",
       "      <td>None</td>\n",
       "    </tr>\n",
       "    <tr>\n",
       "      <th>1</th>\n",
       "      <td>1.0</td>\n",
       "      <td>Adult</td>\n",
       "      <td>534817</td>\n",
       "      <td>39.2</td>\n",
       "      <td>88.0</td>\n",
       "      <td>20.0</td>\n",
       "      <td>NaN</td>\n",
       "      <td>NaN</td>\n",
       "      <td>4.0</td>\n",
       "      <td>1.0</td>\n",
       "      <td>...</td>\n",
       "      <td>85.0</td>\n",
       "      <td>2.0</td>\n",
       "      <td>2.0</td>\n",
       "      <td>3.0</td>\n",
       "      <td>False</td>\n",
       "      <td>2208</td>\n",
       "      <td>0</td>\n",
       "      <td>0</td>\n",
       "      <td>2</td>\n",
       "      <td>None</td>\n",
       "    </tr>\n",
       "    <tr>\n",
       "      <th>2</th>\n",
       "      <td>2.0</td>\n",
       "      <td>Adult</td>\n",
       "      <td>530334</td>\n",
       "      <td>38.3</td>\n",
       "      <td>40.0</td>\n",
       "      <td>24.0</td>\n",
       "      <td>NaN</td>\n",
       "      <td>NaN</td>\n",
       "      <td>3.0</td>\n",
       "      <td>1.0</td>\n",
       "      <td>...</td>\n",
       "      <td>6.7</td>\n",
       "      <td>NaN</td>\n",
       "      <td>NaN</td>\n",
       "      <td>1.0</td>\n",
       "      <td>False</td>\n",
       "      <td>0</td>\n",
       "      <td>0</td>\n",
       "      <td>0</td>\n",
       "      <td>1</td>\n",
       "      <td>None</td>\n",
       "    </tr>\n",
       "    <tr>\n",
       "      <th>3</th>\n",
       "      <td>1.0</td>\n",
       "      <td>Young</td>\n",
       "      <td>5290409</td>\n",
       "      <td>39.1</td>\n",
       "      <td>164.0</td>\n",
       "      <td>84.0</td>\n",
       "      <td>NaN</td>\n",
       "      <td>NaN</td>\n",
       "      <td>6.0</td>\n",
       "      <td>2.0</td>\n",
       "      <td>...</td>\n",
       "      <td>7.2</td>\n",
       "      <td>3.0</td>\n",
       "      <td>5.3</td>\n",
       "      <td>2.0</td>\n",
       "      <td>True</td>\n",
       "      <td>2208</td>\n",
       "      <td>0</td>\n",
       "      <td>0</td>\n",
       "      <td>1</td>\n",
       "      <td>None</td>\n",
       "    </tr>\n",
       "    <tr>\n",
       "      <th>4</th>\n",
       "      <td>2.0</td>\n",
       "      <td>Adult</td>\n",
       "      <td>530255</td>\n",
       "      <td>37.3</td>\n",
       "      <td>104.0</td>\n",
       "      <td>35.0</td>\n",
       "      <td>NaN</td>\n",
       "      <td>NaN</td>\n",
       "      <td>6.0</td>\n",
       "      <td>2.0</td>\n",
       "      <td>...</td>\n",
       "      <td>7.4</td>\n",
       "      <td>NaN</td>\n",
       "      <td>NaN</td>\n",
       "      <td>2.0</td>\n",
       "      <td>False</td>\n",
       "      <td>4300</td>\n",
       "      <td>0</td>\n",
       "      <td>0</td>\n",
       "      <td>2</td>\n",
       "      <td>None</td>\n",
       "    </tr>\n",
       "    <tr>\n",
       "      <th>...</th>\n",
       "      <td>...</td>\n",
       "      <td>...</td>\n",
       "      <td>...</td>\n",
       "      <td>...</td>\n",
       "      <td>...</td>\n",
       "      <td>...</td>\n",
       "      <td>...</td>\n",
       "      <td>...</td>\n",
       "      <td>...</td>\n",
       "      <td>...</td>\n",
       "      <td>...</td>\n",
       "      <td>...</td>\n",
       "      <td>...</td>\n",
       "      <td>...</td>\n",
       "      <td>...</td>\n",
       "      <td>...</td>\n",
       "      <td>...</td>\n",
       "      <td>...</td>\n",
       "      <td>...</td>\n",
       "      <td>...</td>\n",
       "      <td>...</td>\n",
       "    </tr>\n",
       "    <tr>\n",
       "      <th>295</th>\n",
       "      <td>1.0</td>\n",
       "      <td>Adult</td>\n",
       "      <td>533886</td>\n",
       "      <td>NaN</td>\n",
       "      <td>120.0</td>\n",
       "      <td>70.0</td>\n",
       "      <td>NaN</td>\n",
       "      <td>NaN</td>\n",
       "      <td>4.0</td>\n",
       "      <td>2.0</td>\n",
       "      <td>...</td>\n",
       "      <td>65.0</td>\n",
       "      <td>NaN</td>\n",
       "      <td>NaN</td>\n",
       "      <td>3.0</td>\n",
       "      <td>False</td>\n",
       "      <td>3205</td>\n",
       "      <td>0</td>\n",
       "      <td>0</td>\n",
       "      <td>2</td>\n",
       "      <td>None</td>\n",
       "    </tr>\n",
       "    <tr>\n",
       "      <th>296</th>\n",
       "      <td>2.0</td>\n",
       "      <td>Adult</td>\n",
       "      <td>527702</td>\n",
       "      <td>37.2</td>\n",
       "      <td>72.0</td>\n",
       "      <td>24.0</td>\n",
       "      <td>NaN</td>\n",
       "      <td>NaN</td>\n",
       "      <td>4.0</td>\n",
       "      <td>2.0</td>\n",
       "      <td>...</td>\n",
       "      <td>NaN</td>\n",
       "      <td>3.0</td>\n",
       "      <td>3.3</td>\n",
       "      <td>3.0</td>\n",
       "      <td>True</td>\n",
       "      <td>2208</td>\n",
       "      <td>0</td>\n",
       "      <td>0</td>\n",
       "      <td>1</td>\n",
       "      <td>None</td>\n",
       "    </tr>\n",
       "    <tr>\n",
       "      <th>297</th>\n",
       "      <td>1.0</td>\n",
       "      <td>Adult</td>\n",
       "      <td>529386</td>\n",
       "      <td>37.5</td>\n",
       "      <td>72.0</td>\n",
       "      <td>30.0</td>\n",
       "      <td>NaN</td>\n",
       "      <td>NaN</td>\n",
       "      <td>4.0</td>\n",
       "      <td>1.0</td>\n",
       "      <td>...</td>\n",
       "      <td>6.8</td>\n",
       "      <td>NaN</td>\n",
       "      <td>NaN</td>\n",
       "      <td>2.0</td>\n",
       "      <td>True</td>\n",
       "      <td>3205</td>\n",
       "      <td>0</td>\n",
       "      <td>0</td>\n",
       "      <td>2</td>\n",
       "      <td>None</td>\n",
       "    </tr>\n",
       "    <tr>\n",
       "      <th>298</th>\n",
       "      <td>1.0</td>\n",
       "      <td>Adult</td>\n",
       "      <td>530612</td>\n",
       "      <td>36.5</td>\n",
       "      <td>100.0</td>\n",
       "      <td>24.0</td>\n",
       "      <td>NaN</td>\n",
       "      <td>NaN</td>\n",
       "      <td>3.0</td>\n",
       "      <td>1.0</td>\n",
       "      <td>...</td>\n",
       "      <td>6.0</td>\n",
       "      <td>3.0</td>\n",
       "      <td>3.4</td>\n",
       "      <td>1.0</td>\n",
       "      <td>True</td>\n",
       "      <td>2208</td>\n",
       "      <td>0</td>\n",
       "      <td>0</td>\n",
       "      <td>1</td>\n",
       "      <td>None</td>\n",
       "    </tr>\n",
       "    <tr>\n",
       "      <th>299</th>\n",
       "      <td>1.0</td>\n",
       "      <td>Adult</td>\n",
       "      <td>534618</td>\n",
       "      <td>37.2</td>\n",
       "      <td>40.0</td>\n",
       "      <td>20.0</td>\n",
       "      <td>NaN</td>\n",
       "      <td>NaN</td>\n",
       "      <td>NaN</td>\n",
       "      <td>NaN</td>\n",
       "      <td>...</td>\n",
       "      <td>62.0</td>\n",
       "      <td>1.0</td>\n",
       "      <td>1.0</td>\n",
       "      <td>3.0</td>\n",
       "      <td>False</td>\n",
       "      <td>6112</td>\n",
       "      <td>0</td>\n",
       "      <td>0</td>\n",
       "      <td>2</td>\n",
       "      <td>None</td>\n",
       "    </tr>\n",
       "  </tbody>\n",
       "</table>\n",
       "<p>300 rows × 29 columns</p>\n",
       "</div>"
      ],
      "text/plain": [
       "     surgery    age  hospital_number  r_temperature  pulse  resp_rate  \\\n",
       "0        2.0  Adult           530101           38.5   66.0       28.0   \n",
       "1        1.0  Adult           534817           39.2   88.0       20.0   \n",
       "2        2.0  Adult           530334           38.3   40.0       24.0   \n",
       "3        1.0  Young          5290409           39.1  164.0       84.0   \n",
       "4        2.0  Adult           530255           37.3  104.0       35.0   \n",
       "..       ...    ...              ...            ...    ...        ...   \n",
       "295      1.0  Adult           533886            NaN  120.0       70.0   \n",
       "296      2.0  Adult           527702           37.2   72.0       24.0   \n",
       "297      1.0  Adult           529386           37.5   72.0       30.0   \n",
       "298      1.0  Adult           530612           36.5  100.0       24.0   \n",
       "299      1.0  Adult           534618           37.2   40.0       20.0   \n",
       "\n",
       "    ext_temperature per_pulse  muc_membraes  cap_ref_time  ... protein  \\\n",
       "0               NaN       NaN           NaN           2.0  ...     8.4   \n",
       "1               NaN       NaN           4.0           1.0  ...    85.0   \n",
       "2               NaN       NaN           3.0           1.0  ...     6.7   \n",
       "3               NaN       NaN           6.0           2.0  ...     7.2   \n",
       "4               NaN       NaN           6.0           2.0  ...     7.4   \n",
       "..              ...       ...           ...           ...  ...     ...   \n",
       "295             NaN       NaN           4.0           2.0  ...    65.0   \n",
       "296             NaN       NaN           4.0           2.0  ...     NaN   \n",
       "297             NaN       NaN           4.0           1.0  ...     6.8   \n",
       "298             NaN       NaN           3.0           1.0  ...     6.0   \n",
       "299             NaN       NaN           NaN           NaN  ...    62.0   \n",
       "\n",
       "     abd_appearance  abd_protein  outcome  surgical_lesion  type_lesion_1  \\\n",
       "0               NaN          NaN      2.0            False          11300   \n",
       "1               2.0          2.0      3.0            False           2208   \n",
       "2               NaN          NaN      1.0            False              0   \n",
       "3               3.0          5.3      2.0             True           2208   \n",
       "4               NaN          NaN      2.0            False           4300   \n",
       "..              ...          ...      ...              ...            ...   \n",
       "295             NaN          NaN      3.0            False           3205   \n",
       "296             3.0          3.3      3.0             True           2208   \n",
       "297             NaN          NaN      2.0             True           3205   \n",
       "298             3.0          3.4      1.0             True           2208   \n",
       "299             1.0          1.0      3.0            False           6112   \n",
       "\n",
       "     type_lesion_2  type_lesion_3  cp_data  extra-muc_membraes  \n",
       "0                0              0        2                None  \n",
       "1                0              0        2                None  \n",
       "2                0              0        1                None  \n",
       "3                0              0        1                None  \n",
       "4                0              0        2                None  \n",
       "..             ...            ...      ...                 ...  \n",
       "295              0              0        2                None  \n",
       "296              0              0        1                None  \n",
       "297              0              0        2                None  \n",
       "298              0              0        1                None  \n",
       "299              0              0        2                None  \n",
       "\n",
       "[300 rows x 29 columns]"
      ]
     },
     "execution_count": 146,
     "metadata": {},
     "output_type": "execute_result"
    }
   ],
   "source": [
    "df"
   ]
  },
  {
   "cell_type": "code",
   "execution_count": null,
   "id": "e110e322-93ef-4667-8c5f-1c05ab21d800",
   "metadata": {},
   "outputs": [],
   "source": []
  },
  {
   "cell_type": "code",
   "execution_count": 13,
   "id": "ef364a14-2de0-445f-8729-3d82dcee445d",
   "metadata": {},
   "outputs": [],
   "source": []
  },
  {
   "cell_type": "code",
   "execution_count": 21,
   "id": "ba15b59f-8fe7-4a6a-b295-66be0754d502",
   "metadata": {},
   "outputs": [],
   "source": [
    "#esta transformación elimina los valores desconocidos, así que ojo\n",
    "df['surgery'] = df[['surgery']].applymap(lambda x: True if x== 1 else False)"
   ]
  },
  {
   "cell_type": "code",
   "execution_count": 27,
   "id": "86b6ada9-d09b-4920-b3cf-17710643e84e",
   "metadata": {},
   "outputs": [],
   "source": []
  },
  {
   "cell_type": "code",
   "execution_count": 29,
   "id": "ee597e87-f82d-4272-85b6-fea1138d8651",
   "metadata": {},
   "outputs": [],
   "source": [
    "df['circulation_state'] = df[['cap_ref_time']].applymap(lambda x: 'Good' if x== '1' else 'Poor')"
   ]
  },
  {
   "cell_type": "code",
   "execution_count": 30,
   "id": "4307e8a5-e118-4c2b-8c27-3bd648b6e45f",
   "metadata": {},
   "outputs": [],
   "source": [
    "df['Likely_require_surgery'] = df[['pain']].applymap(lambda x: True if x>='3' else False)"
   ]
  },
  {
   "cell_type": "code",
   "execution_count": 31,
   "id": "3cf94889-33fc-457e-89d7-a7f044d877b2",
   "metadata": {},
   "outputs": [],
   "source": [
    "#naso_reflux_dict = {\n",
    "  #  '1': 'None',\n",
    "   # '2': 'High',\n",
    "    #'3': 'Low',\n",
    "#}"
   ]
  },
  {
   "cell_type": "code",
   "execution_count": 32,
   "id": "95b1bc7f-c845-4091-a45a-fdbb97fbe057",
   "metadata": {},
   "outputs": [],
   "source": [
    "#df['Obstruction_Likelihood'] = df['naso_reflux'].map(naso_reflux_dict)"
   ]
  },
  {
   "cell_type": "code",
   "execution_count": 33,
   "id": "e518a52e-8a69-43ae-8b8f-163b060c91f7",
   "metadata": {},
   "outputs": [
    {
     "data": {
      "text/html": [
       "<div>\n",
       "<style scoped>\n",
       "    .dataframe tbody tr th:only-of-type {\n",
       "        vertical-align: middle;\n",
       "    }\n",
       "\n",
       "    .dataframe tbody tr th {\n",
       "        vertical-align: top;\n",
       "    }\n",
       "\n",
       "    .dataframe thead th {\n",
       "        text-align: right;\n",
       "    }\n",
       "</style>\n",
       "<table border=\"1\" class=\"dataframe\">\n",
       "  <thead>\n",
       "    <tr style=\"text-align: right;\">\n",
       "      <th></th>\n",
       "      <th>surgery</th>\n",
       "      <th>age</th>\n",
       "      <th>hospital_number</th>\n",
       "      <th>r_temperature</th>\n",
       "      <th>pulse</th>\n",
       "      <th>resp_rate</th>\n",
       "      <th>ext_temperature</th>\n",
       "      <th>per_pulse</th>\n",
       "      <th>muc_membraes</th>\n",
       "      <th>cap_ref_time</th>\n",
       "      <th>...</th>\n",
       "      <th>abd_protein</th>\n",
       "      <th>outcome</th>\n",
       "      <th>surgical_lesion</th>\n",
       "      <th>type_lesion_1</th>\n",
       "      <th>type_lesion_2</th>\n",
       "      <th>type_lesion_3</th>\n",
       "      <th>cp_data</th>\n",
       "      <th>extra-muc_membraes</th>\n",
       "      <th>circulation_state</th>\n",
       "      <th>Likely_require_surgery</th>\n",
       "    </tr>\n",
       "  </thead>\n",
       "  <tbody>\n",
       "    <tr>\n",
       "      <th>0</th>\n",
       "      <td>False</td>\n",
       "      <td>Adult</td>\n",
       "      <td>530101</td>\n",
       "      <td>38.5</td>\n",
       "      <td>66.0</td>\n",
       "      <td>28.0</td>\n",
       "      <td>cool</td>\n",
       "      <td>reduced</td>\n",
       "      <td>?</td>\n",
       "      <td>2</td>\n",
       "      <td>...</td>\n",
       "      <td>?</td>\n",
       "      <td>2</td>\n",
       "      <td>2</td>\n",
       "      <td>11300</td>\n",
       "      <td>0</td>\n",
       "      <td>0</td>\n",
       "      <td>2</td>\n",
       "      <td>NaN</td>\n",
       "      <td>Poor</td>\n",
       "      <td>True</td>\n",
       "    </tr>\n",
       "    <tr>\n",
       "      <th>1</th>\n",
       "      <td>False</td>\n",
       "      <td>Adult</td>\n",
       "      <td>534817</td>\n",
       "      <td>39.2</td>\n",
       "      <td>88.0</td>\n",
       "      <td>20.0</td>\n",
       "      <td>NaN</td>\n",
       "      <td>NaN</td>\n",
       "      <td>4</td>\n",
       "      <td>1</td>\n",
       "      <td>...</td>\n",
       "      <td>2</td>\n",
       "      <td>3</td>\n",
       "      <td>2</td>\n",
       "      <td>2208</td>\n",
       "      <td>0</td>\n",
       "      <td>0</td>\n",
       "      <td>2</td>\n",
       "      <td>serious circulatory compromise</td>\n",
       "      <td>Good</td>\n",
       "      <td>True</td>\n",
       "    </tr>\n",
       "    <tr>\n",
       "      <th>2</th>\n",
       "      <td>False</td>\n",
       "      <td>Adult</td>\n",
       "      <td>530334</td>\n",
       "      <td>38.3</td>\n",
       "      <td>40.0</td>\n",
       "      <td>24.0</td>\n",
       "      <td>normal</td>\n",
       "      <td>normal</td>\n",
       "      <td>3</td>\n",
       "      <td>1</td>\n",
       "      <td>...</td>\n",
       "      <td>?</td>\n",
       "      <td>1</td>\n",
       "      <td>2</td>\n",
       "      <td>0</td>\n",
       "      <td>0</td>\n",
       "      <td>0</td>\n",
       "      <td>1</td>\n",
       "      <td>early chock</td>\n",
       "      <td>Good</td>\n",
       "      <td>True</td>\n",
       "    </tr>\n",
       "    <tr>\n",
       "      <th>3</th>\n",
       "      <td>False</td>\n",
       "      <td>Young</td>\n",
       "      <td>5290409</td>\n",
       "      <td>39.1</td>\n",
       "      <td>164.0</td>\n",
       "      <td>84.0</td>\n",
       "      <td>cold</td>\n",
       "      <td>normal</td>\n",
       "      <td>6</td>\n",
       "      <td>2</td>\n",
       "      <td>...</td>\n",
       "      <td>5.30</td>\n",
       "      <td>2</td>\n",
       "      <td>1</td>\n",
       "      <td>2208</td>\n",
       "      <td>0</td>\n",
       "      <td>0</td>\n",
       "      <td>1</td>\n",
       "      <td>serious circulatory compromise</td>\n",
       "      <td>Poor</td>\n",
       "      <td>False</td>\n",
       "    </tr>\n",
       "    <tr>\n",
       "      <th>4</th>\n",
       "      <td>False</td>\n",
       "      <td>Adult</td>\n",
       "      <td>530255</td>\n",
       "      <td>37.3</td>\n",
       "      <td>104.0</td>\n",
       "      <td>35.0</td>\n",
       "      <td>NaN</td>\n",
       "      <td>NaN</td>\n",
       "      <td>6</td>\n",
       "      <td>2</td>\n",
       "      <td>...</td>\n",
       "      <td>?</td>\n",
       "      <td>2</td>\n",
       "      <td>2</td>\n",
       "      <td>4300</td>\n",
       "      <td>0</td>\n",
       "      <td>0</td>\n",
       "      <td>2</td>\n",
       "      <td>serious circulatory compromise</td>\n",
       "      <td>Poor</td>\n",
       "      <td>True</td>\n",
       "    </tr>\n",
       "    <tr>\n",
       "      <th>...</th>\n",
       "      <td>...</td>\n",
       "      <td>...</td>\n",
       "      <td>...</td>\n",
       "      <td>...</td>\n",
       "      <td>...</td>\n",
       "      <td>...</td>\n",
       "      <td>...</td>\n",
       "      <td>...</td>\n",
       "      <td>...</td>\n",
       "      <td>...</td>\n",
       "      <td>...</td>\n",
       "      <td>...</td>\n",
       "      <td>...</td>\n",
       "      <td>...</td>\n",
       "      <td>...</td>\n",
       "      <td>...</td>\n",
       "      <td>...</td>\n",
       "      <td>...</td>\n",
       "      <td>...</td>\n",
       "      <td>...</td>\n",
       "      <td>...</td>\n",
       "    </tr>\n",
       "    <tr>\n",
       "      <th>295</th>\n",
       "      <td>False</td>\n",
       "      <td>Adult</td>\n",
       "      <td>533886</td>\n",
       "      <td>NaN</td>\n",
       "      <td>120.0</td>\n",
       "      <td>70.0</td>\n",
       "      <td>cold</td>\n",
       "      <td>NaN</td>\n",
       "      <td>4</td>\n",
       "      <td>2</td>\n",
       "      <td>...</td>\n",
       "      <td>?</td>\n",
       "      <td>3</td>\n",
       "      <td>2</td>\n",
       "      <td>3205</td>\n",
       "      <td>0</td>\n",
       "      <td>0</td>\n",
       "      <td>2</td>\n",
       "      <td>serious circulatory compromise</td>\n",
       "      <td>Poor</td>\n",
       "      <td>False</td>\n",
       "    </tr>\n",
       "    <tr>\n",
       "      <th>296</th>\n",
       "      <td>False</td>\n",
       "      <td>Adult</td>\n",
       "      <td>527702</td>\n",
       "      <td>37.2</td>\n",
       "      <td>72.0</td>\n",
       "      <td>24.0</td>\n",
       "      <td>cool</td>\n",
       "      <td>increased</td>\n",
       "      <td>4</td>\n",
       "      <td>2</td>\n",
       "      <td>...</td>\n",
       "      <td>3.30</td>\n",
       "      <td>3</td>\n",
       "      <td>1</td>\n",
       "      <td>2208</td>\n",
       "      <td>0</td>\n",
       "      <td>0</td>\n",
       "      <td>1</td>\n",
       "      <td>serious circulatory compromise</td>\n",
       "      <td>Poor</td>\n",
       "      <td>True</td>\n",
       "    </tr>\n",
       "    <tr>\n",
       "      <th>297</th>\n",
       "      <td>False</td>\n",
       "      <td>Adult</td>\n",
       "      <td>529386</td>\n",
       "      <td>37.5</td>\n",
       "      <td>72.0</td>\n",
       "      <td>30.0</td>\n",
       "      <td>cold</td>\n",
       "      <td>reduced</td>\n",
       "      <td>4</td>\n",
       "      <td>1</td>\n",
       "      <td>...</td>\n",
       "      <td>?</td>\n",
       "      <td>2</td>\n",
       "      <td>1</td>\n",
       "      <td>3205</td>\n",
       "      <td>0</td>\n",
       "      <td>0</td>\n",
       "      <td>2</td>\n",
       "      <td>serious circulatory compromise</td>\n",
       "      <td>Good</td>\n",
       "      <td>True</td>\n",
       "    </tr>\n",
       "    <tr>\n",
       "      <th>298</th>\n",
       "      <td>False</td>\n",
       "      <td>Adult</td>\n",
       "      <td>530612</td>\n",
       "      <td>36.5</td>\n",
       "      <td>100.0</td>\n",
       "      <td>24.0</td>\n",
       "      <td>cool</td>\n",
       "      <td>reduced</td>\n",
       "      <td>3</td>\n",
       "      <td>1</td>\n",
       "      <td>...</td>\n",
       "      <td>3.40</td>\n",
       "      <td>1</td>\n",
       "      <td>1</td>\n",
       "      <td>2208</td>\n",
       "      <td>0</td>\n",
       "      <td>0</td>\n",
       "      <td>1</td>\n",
       "      <td>early chock</td>\n",
       "      <td>Good</td>\n",
       "      <td>True</td>\n",
       "    </tr>\n",
       "    <tr>\n",
       "      <th>299</th>\n",
       "      <td>False</td>\n",
       "      <td>Adult</td>\n",
       "      <td>534618</td>\n",
       "      <td>37.2</td>\n",
       "      <td>40.0</td>\n",
       "      <td>20.0</td>\n",
       "      <td>NaN</td>\n",
       "      <td>NaN</td>\n",
       "      <td>?</td>\n",
       "      <td>?</td>\n",
       "      <td>...</td>\n",
       "      <td>1</td>\n",
       "      <td>3</td>\n",
       "      <td>2</td>\n",
       "      <td>6112</td>\n",
       "      <td>0</td>\n",
       "      <td>0</td>\n",
       "      <td>2</td>\n",
       "      <td>NaN</td>\n",
       "      <td>Poor</td>\n",
       "      <td>True</td>\n",
       "    </tr>\n",
       "  </tbody>\n",
       "</table>\n",
       "<p>300 rows × 31 columns</p>\n",
       "</div>"
      ],
      "text/plain": [
       "     surgery    age hospital_number  r_temperature  pulse  resp_rate  \\\n",
       "0      False  Adult          530101           38.5   66.0       28.0   \n",
       "1      False  Adult          534817           39.2   88.0       20.0   \n",
       "2      False  Adult          530334           38.3   40.0       24.0   \n",
       "3      False  Young         5290409           39.1  164.0       84.0   \n",
       "4      False  Adult          530255           37.3  104.0       35.0   \n",
       "..       ...    ...             ...            ...    ...        ...   \n",
       "295    False  Adult          533886            NaN  120.0       70.0   \n",
       "296    False  Adult          527702           37.2   72.0       24.0   \n",
       "297    False  Adult          529386           37.5   72.0       30.0   \n",
       "298    False  Adult          530612           36.5  100.0       24.0   \n",
       "299    False  Adult          534618           37.2   40.0       20.0   \n",
       "\n",
       "    ext_temperature  per_pulse muc_membraes cap_ref_time  ... abd_protein  \\\n",
       "0              cool    reduced            ?            2  ...           ?   \n",
       "1               NaN        NaN            4            1  ...           2   \n",
       "2            normal     normal            3            1  ...           ?   \n",
       "3              cold     normal            6            2  ...        5.30   \n",
       "4               NaN        NaN            6            2  ...           ?   \n",
       "..              ...        ...          ...          ...  ...         ...   \n",
       "295            cold        NaN            4            2  ...           ?   \n",
       "296            cool  increased            4            2  ...        3.30   \n",
       "297            cold    reduced            4            1  ...           ?   \n",
       "298            cool    reduced            3            1  ...        3.40   \n",
       "299             NaN        NaN            ?            ?  ...           1   \n",
       "\n",
       "    outcome surgical_lesion type_lesion_1  type_lesion_2  type_lesion_3  \\\n",
       "0         2               2         11300              0              0   \n",
       "1         3               2          2208              0              0   \n",
       "2         1               2             0              0              0   \n",
       "3         2               1          2208              0              0   \n",
       "4         2               2          4300              0              0   \n",
       "..      ...             ...           ...            ...            ...   \n",
       "295       3               2          3205              0              0   \n",
       "296       3               1          2208              0              0   \n",
       "297       2               1          3205              0              0   \n",
       "298       1               1          2208              0              0   \n",
       "299       3               2          6112              0              0   \n",
       "\n",
       "    cp_data              extra-muc_membraes  circulation_state  \\\n",
       "0         2                             NaN               Poor   \n",
       "1         2  serious circulatory compromise               Good   \n",
       "2         1                     early chock               Good   \n",
       "3         1  serious circulatory compromise               Poor   \n",
       "4         2  serious circulatory compromise               Poor   \n",
       "..      ...                             ...                ...   \n",
       "295       2  serious circulatory compromise               Poor   \n",
       "296       1  serious circulatory compromise               Poor   \n",
       "297       2  serious circulatory compromise               Good   \n",
       "298       1                     early chock               Good   \n",
       "299       2                             NaN               Poor   \n",
       "\n",
       "    Likely_require_surgery  \n",
       "0                     True  \n",
       "1                     True  \n",
       "2                     True  \n",
       "3                    False  \n",
       "4                     True  \n",
       "..                     ...  \n",
       "295                  False  \n",
       "296                   True  \n",
       "297                   True  \n",
       "298                   True  \n",
       "299                   True  \n",
       "\n",
       "[300 rows x 31 columns]"
      ]
     },
     "execution_count": 33,
     "metadata": {},
     "output_type": "execute_result"
    }
   ],
   "source": [
    "df"
   ]
  }
 ],
 "metadata": {
  "kernelspec": {
   "display_name": "Python 3 (ipykernel)",
   "language": "python",
   "name": "python3"
  },
  "language_info": {
   "codemirror_mode": {
    "name": "ipython",
    "version": 3
   },
   "file_extension": ".py",
   "mimetype": "text/x-python",
   "name": "python",
   "nbconvert_exporter": "python",
   "pygments_lexer": "ipython3",
   "version": "3.9.12"
  }
 },
 "nbformat": 4,
 "nbformat_minor": 5
}
