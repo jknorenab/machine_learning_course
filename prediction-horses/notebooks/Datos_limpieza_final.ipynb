{
 "cells": [
  {
   "cell_type": "code",
   "execution_count": 1,
   "id": "9e66e1ef-445e-4d0b-b144-03edd202b1ba",
   "metadata": {},
   "outputs": [],
   "source": [
    "import numpy as np\n",
    "import pandas as pd\n",
    "\n",
    "import matplotlib.pyplot as plt\n",
    "import seaborn as sns"
   ]
  },
  {
   "cell_type": "code",
   "execution_count": 2,
   "id": "172a78bc-464a-4e7b-9240-95aed63c7e64",
   "metadata": {},
   "outputs": [
    {
     "data": {
      "text/html": [
       "<div>\n",
       "<style scoped>\n",
       "    .dataframe tbody tr th:only-of-type {\n",
       "        vertical-align: middle;\n",
       "    }\n",
       "\n",
       "    .dataframe tbody tr th {\n",
       "        vertical-align: top;\n",
       "    }\n",
       "\n",
       "    .dataframe thead th {\n",
       "        text-align: right;\n",
       "    }\n",
       "</style>\n",
       "<table border=\"1\" class=\"dataframe\">\n",
       "  <thead>\n",
       "    <tr style=\"text-align: right;\">\n",
       "      <th></th>\n",
       "      <th>surgery</th>\n",
       "      <th>age</th>\n",
       "      <th>hospital_number</th>\n",
       "      <th>r_temperature</th>\n",
       "      <th>pulse</th>\n",
       "      <th>resp_rate</th>\n",
       "      <th>ext_temperature</th>\n",
       "      <th>per_pulse</th>\n",
       "      <th>muc_membraes</th>\n",
       "      <th>cap_ref_time</th>\n",
       "      <th>...</th>\n",
       "      <th>protein</th>\n",
       "      <th>abd_appearance</th>\n",
       "      <th>abd_protein</th>\n",
       "      <th>outcome</th>\n",
       "      <th>surgical_lesion</th>\n",
       "      <th>type_lesion_1</th>\n",
       "      <th>type_lesion_2</th>\n",
       "      <th>type_lesion_3</th>\n",
       "      <th>cp_data</th>\n",
       "      <th>extra</th>\n",
       "    </tr>\n",
       "  </thead>\n",
       "  <tbody>\n",
       "    <tr>\n",
       "      <th>0</th>\n",
       "      <td>2.0</td>\n",
       "      <td>1</td>\n",
       "      <td>530101</td>\n",
       "      <td>38.5</td>\n",
       "      <td>66.0</td>\n",
       "      <td>28.0</td>\n",
       "      <td>3.0</td>\n",
       "      <td>3.0</td>\n",
       "      <td>NaN</td>\n",
       "      <td>2.0</td>\n",
       "      <td>...</td>\n",
       "      <td>8.4</td>\n",
       "      <td>NaN</td>\n",
       "      <td>NaN</td>\n",
       "      <td>2.0</td>\n",
       "      <td>2</td>\n",
       "      <td>11300</td>\n",
       "      <td>0</td>\n",
       "      <td>0</td>\n",
       "      <td>2</td>\n",
       "      <td>NaN</td>\n",
       "    </tr>\n",
       "    <tr>\n",
       "      <th>1</th>\n",
       "      <td>1.0</td>\n",
       "      <td>1</td>\n",
       "      <td>534817</td>\n",
       "      <td>39.2</td>\n",
       "      <td>88.0</td>\n",
       "      <td>20.0</td>\n",
       "      <td>NaN</td>\n",
       "      <td>NaN</td>\n",
       "      <td>4.0</td>\n",
       "      <td>1.0</td>\n",
       "      <td>...</td>\n",
       "      <td>85.0</td>\n",
       "      <td>2.0</td>\n",
       "      <td>2.0</td>\n",
       "      <td>3.0</td>\n",
       "      <td>2</td>\n",
       "      <td>2208</td>\n",
       "      <td>0</td>\n",
       "      <td>0</td>\n",
       "      <td>2</td>\n",
       "      <td>NaN</td>\n",
       "    </tr>\n",
       "    <tr>\n",
       "      <th>2</th>\n",
       "      <td>2.0</td>\n",
       "      <td>1</td>\n",
       "      <td>530334</td>\n",
       "      <td>38.3</td>\n",
       "      <td>40.0</td>\n",
       "      <td>24.0</td>\n",
       "      <td>1.0</td>\n",
       "      <td>1.0</td>\n",
       "      <td>3.0</td>\n",
       "      <td>1.0</td>\n",
       "      <td>...</td>\n",
       "      <td>6.7</td>\n",
       "      <td>NaN</td>\n",
       "      <td>NaN</td>\n",
       "      <td>1.0</td>\n",
       "      <td>2</td>\n",
       "      <td>0</td>\n",
       "      <td>0</td>\n",
       "      <td>0</td>\n",
       "      <td>1</td>\n",
       "      <td>NaN</td>\n",
       "    </tr>\n",
       "    <tr>\n",
       "      <th>3</th>\n",
       "      <td>1.0</td>\n",
       "      <td>9</td>\n",
       "      <td>5290409</td>\n",
       "      <td>39.1</td>\n",
       "      <td>164.0</td>\n",
       "      <td>84.0</td>\n",
       "      <td>4.0</td>\n",
       "      <td>1.0</td>\n",
       "      <td>6.0</td>\n",
       "      <td>2.0</td>\n",
       "      <td>...</td>\n",
       "      <td>7.2</td>\n",
       "      <td>3.0</td>\n",
       "      <td>5.3</td>\n",
       "      <td>2.0</td>\n",
       "      <td>1</td>\n",
       "      <td>2208</td>\n",
       "      <td>0</td>\n",
       "      <td>0</td>\n",
       "      <td>1</td>\n",
       "      <td>NaN</td>\n",
       "    </tr>\n",
       "    <tr>\n",
       "      <th>4</th>\n",
       "      <td>2.0</td>\n",
       "      <td>1</td>\n",
       "      <td>530255</td>\n",
       "      <td>37.3</td>\n",
       "      <td>104.0</td>\n",
       "      <td>35.0</td>\n",
       "      <td>NaN</td>\n",
       "      <td>NaN</td>\n",
       "      <td>6.0</td>\n",
       "      <td>2.0</td>\n",
       "      <td>...</td>\n",
       "      <td>7.4</td>\n",
       "      <td>NaN</td>\n",
       "      <td>NaN</td>\n",
       "      <td>2.0</td>\n",
       "      <td>2</td>\n",
       "      <td>4300</td>\n",
       "      <td>0</td>\n",
       "      <td>0</td>\n",
       "      <td>2</td>\n",
       "      <td>NaN</td>\n",
       "    </tr>\n",
       "  </tbody>\n",
       "</table>\n",
       "<p>5 rows × 29 columns</p>\n",
       "</div>"
      ],
      "text/plain": [
       "   surgery  age  hospital_number  r_temperature  pulse  resp_rate  \\\n",
       "0      2.0    1           530101           38.5   66.0       28.0   \n",
       "1      1.0    1           534817           39.2   88.0       20.0   \n",
       "2      2.0    1           530334           38.3   40.0       24.0   \n",
       "3      1.0    9          5290409           39.1  164.0       84.0   \n",
       "4      2.0    1           530255           37.3  104.0       35.0   \n",
       "\n",
       "   ext_temperature  per_pulse  muc_membraes  cap_ref_time  ...  protein  \\\n",
       "0              3.0        3.0           NaN           2.0  ...      8.4   \n",
       "1              NaN        NaN           4.0           1.0  ...     85.0   \n",
       "2              1.0        1.0           3.0           1.0  ...      6.7   \n",
       "3              4.0        1.0           6.0           2.0  ...      7.2   \n",
       "4              NaN        NaN           6.0           2.0  ...      7.4   \n",
       "\n",
       "   abd_appearance  abd_protein  outcome  surgical_lesion  type_lesion_1  \\\n",
       "0             NaN          NaN      2.0                2          11300   \n",
       "1             2.0          2.0      3.0                2           2208   \n",
       "2             NaN          NaN      1.0                2              0   \n",
       "3             3.0          5.3      2.0                1           2208   \n",
       "4             NaN          NaN      2.0                2           4300   \n",
       "\n",
       "   type_lesion_2  type_lesion_3  cp_data  extra  \n",
       "0              0              0        2    NaN  \n",
       "1              0              0        2    NaN  \n",
       "2              0              0        1    NaN  \n",
       "3              0              0        1    NaN  \n",
       "4              0              0        2    NaN  \n",
       "\n",
       "[5 rows x 29 columns]"
      ]
     },
     "execution_count": 2,
     "metadata": {},
     "output_type": "execute_result"
    }
   ],
   "source": [
    "PROJECT_DIR = \"../data/raw/\"\n",
    "col_names = [\n",
    "    'surgery', 'age', 'hospital_number',\n",
    "    'r_temperature', 'pulse', 'resp_rate',\n",
    "    'ext_temperature', 'per_pulse', 'muc_membraes',\n",
    "    'cap_ref_time', 'pain', 'peristalsis', 'abd_distension',\n",
    "    'naso_tub', 'naso_reflux', 'naso_reflux_ph', 'rect_exam', 'abdomen',\n",
    "    'pack_cell_vol', 'protein', 'abd_appearance', 'abd_protein', 'outcome',\n",
    "    'surgical_lesion', 'type_lesion_1', 'type_lesion_2', 'type_lesion_3', 'cp_data', 'extra'\n",
    "]\n",
    "df = pd.read_csv(PROJECT_DIR + 'horse-colic.data', sep= ' ', names=col_names, na_values = ['?'])\n",
    "df.head()"
   ]
  },
  {
   "cell_type": "code",
   "execution_count": 3,
   "id": "5f2c15d1-6621-4bca-a11a-ab4fed73bcef",
   "metadata": {},
   "outputs": [
    {
     "data": {
      "text/plain": [
       "(300, 29)"
      ]
     },
     "execution_count": 3,
     "metadata": {},
     "output_type": "execute_result"
    }
   ],
   "source": [
    "df.shape"
   ]
  },
  {
   "cell_type": "code",
   "execution_count": 4,
   "id": "b5030dc2-398c-41d2-b8b8-cc4229319d50",
   "metadata": {},
   "outputs": [
    {
     "data": {
      "text/html": [
       "<div>\n",
       "<style scoped>\n",
       "    .dataframe tbody tr th:only-of-type {\n",
       "        vertical-align: middle;\n",
       "    }\n",
       "\n",
       "    .dataframe tbody tr th {\n",
       "        vertical-align: top;\n",
       "    }\n",
       "\n",
       "    .dataframe thead th {\n",
       "        text-align: right;\n",
       "    }\n",
       "</style>\n",
       "<table border=\"1\" class=\"dataframe\">\n",
       "  <thead>\n",
       "    <tr style=\"text-align: right;\">\n",
       "      <th></th>\n",
       "      <th>surgery</th>\n",
       "      <th>age</th>\n",
       "      <th>hospital_number</th>\n",
       "      <th>r_temperature</th>\n",
       "      <th>pulse</th>\n",
       "      <th>resp_rate</th>\n",
       "      <th>ext_temperature</th>\n",
       "      <th>per_pulse</th>\n",
       "      <th>muc_membraes</th>\n",
       "      <th>cap_ref_time</th>\n",
       "      <th>...</th>\n",
       "      <th>protein</th>\n",
       "      <th>abd_appearance</th>\n",
       "      <th>abd_protein</th>\n",
       "      <th>outcome</th>\n",
       "      <th>surgical_lesion</th>\n",
       "      <th>type_lesion_1</th>\n",
       "      <th>type_lesion_2</th>\n",
       "      <th>type_lesion_3</th>\n",
       "      <th>cp_data</th>\n",
       "      <th>extra</th>\n",
       "    </tr>\n",
       "  </thead>\n",
       "  <tbody>\n",
       "    <tr>\n",
       "      <th>count</th>\n",
       "      <td>299.000000</td>\n",
       "      <td>300.000000</td>\n",
       "      <td>3.000000e+02</td>\n",
       "      <td>240.000000</td>\n",
       "      <td>276.000000</td>\n",
       "      <td>242.000000</td>\n",
       "      <td>244.000000</td>\n",
       "      <td>231.000000</td>\n",
       "      <td>253.000000</td>\n",
       "      <td>268.000000</td>\n",
       "      <td>...</td>\n",
       "      <td>267.000000</td>\n",
       "      <td>135.000000</td>\n",
       "      <td>102.000000</td>\n",
       "      <td>299.000000</td>\n",
       "      <td>300.000000</td>\n",
       "      <td>300.000000</td>\n",
       "      <td>300.000000</td>\n",
       "      <td>300.000000</td>\n",
       "      <td>300.000000</td>\n",
       "      <td>0.0</td>\n",
       "    </tr>\n",
       "    <tr>\n",
       "      <th>mean</th>\n",
       "      <td>1.397993</td>\n",
       "      <td>1.640000</td>\n",
       "      <td>1.085889e+06</td>\n",
       "      <td>38.167917</td>\n",
       "      <td>71.913043</td>\n",
       "      <td>30.417355</td>\n",
       "      <td>2.348361</td>\n",
       "      <td>2.017316</td>\n",
       "      <td>2.853755</td>\n",
       "      <td>1.305970</td>\n",
       "      <td>...</td>\n",
       "      <td>24.456929</td>\n",
       "      <td>2.037037</td>\n",
       "      <td>3.019608</td>\n",
       "      <td>1.551839</td>\n",
       "      <td>1.363333</td>\n",
       "      <td>3657.880000</td>\n",
       "      <td>90.226667</td>\n",
       "      <td>7.363333</td>\n",
       "      <td>1.670000</td>\n",
       "      <td>NaN</td>\n",
       "    </tr>\n",
       "    <tr>\n",
       "      <th>std</th>\n",
       "      <td>0.490305</td>\n",
       "      <td>2.173972</td>\n",
       "      <td>1.529801e+06</td>\n",
       "      <td>0.732289</td>\n",
       "      <td>28.630557</td>\n",
       "      <td>17.642231</td>\n",
       "      <td>1.045054</td>\n",
       "      <td>1.042428</td>\n",
       "      <td>1.620294</td>\n",
       "      <td>0.477629</td>\n",
       "      <td>...</td>\n",
       "      <td>27.475009</td>\n",
       "      <td>0.804905</td>\n",
       "      <td>1.968567</td>\n",
       "      <td>0.737187</td>\n",
       "      <td>0.481763</td>\n",
       "      <td>5399.513513</td>\n",
       "      <td>649.569234</td>\n",
       "      <td>127.536674</td>\n",
       "      <td>0.470998</td>\n",
       "      <td>NaN</td>\n",
       "    </tr>\n",
       "    <tr>\n",
       "      <th>min</th>\n",
       "      <td>1.000000</td>\n",
       "      <td>1.000000</td>\n",
       "      <td>5.184760e+05</td>\n",
       "      <td>35.400000</td>\n",
       "      <td>30.000000</td>\n",
       "      <td>8.000000</td>\n",
       "      <td>1.000000</td>\n",
       "      <td>1.000000</td>\n",
       "      <td>1.000000</td>\n",
       "      <td>1.000000</td>\n",
       "      <td>...</td>\n",
       "      <td>3.300000</td>\n",
       "      <td>1.000000</td>\n",
       "      <td>0.100000</td>\n",
       "      <td>1.000000</td>\n",
       "      <td>1.000000</td>\n",
       "      <td>0.000000</td>\n",
       "      <td>0.000000</td>\n",
       "      <td>0.000000</td>\n",
       "      <td>1.000000</td>\n",
       "      <td>NaN</td>\n",
       "    </tr>\n",
       "    <tr>\n",
       "      <th>25%</th>\n",
       "      <td>1.000000</td>\n",
       "      <td>1.000000</td>\n",
       "      <td>5.289040e+05</td>\n",
       "      <td>37.800000</td>\n",
       "      <td>48.000000</td>\n",
       "      <td>18.500000</td>\n",
       "      <td>1.000000</td>\n",
       "      <td>1.000000</td>\n",
       "      <td>1.000000</td>\n",
       "      <td>1.000000</td>\n",
       "      <td>...</td>\n",
       "      <td>6.500000</td>\n",
       "      <td>1.000000</td>\n",
       "      <td>2.000000</td>\n",
       "      <td>1.000000</td>\n",
       "      <td>1.000000</td>\n",
       "      <td>2111.750000</td>\n",
       "      <td>0.000000</td>\n",
       "      <td>0.000000</td>\n",
       "      <td>1.000000</td>\n",
       "      <td>NaN</td>\n",
       "    </tr>\n",
       "    <tr>\n",
       "      <th>50%</th>\n",
       "      <td>1.000000</td>\n",
       "      <td>1.000000</td>\n",
       "      <td>5.303055e+05</td>\n",
       "      <td>38.200000</td>\n",
       "      <td>64.000000</td>\n",
       "      <td>24.500000</td>\n",
       "      <td>3.000000</td>\n",
       "      <td>2.000000</td>\n",
       "      <td>3.000000</td>\n",
       "      <td>1.000000</td>\n",
       "      <td>...</td>\n",
       "      <td>7.500000</td>\n",
       "      <td>2.000000</td>\n",
       "      <td>2.250000</td>\n",
       "      <td>1.000000</td>\n",
       "      <td>1.000000</td>\n",
       "      <td>2673.500000</td>\n",
       "      <td>0.000000</td>\n",
       "      <td>0.000000</td>\n",
       "      <td>2.000000</td>\n",
       "      <td>NaN</td>\n",
       "    </tr>\n",
       "    <tr>\n",
       "      <th>75%</th>\n",
       "      <td>2.000000</td>\n",
       "      <td>1.000000</td>\n",
       "      <td>5.347275e+05</td>\n",
       "      <td>38.500000</td>\n",
       "      <td>88.000000</td>\n",
       "      <td>36.000000</td>\n",
       "      <td>3.000000</td>\n",
       "      <td>3.000000</td>\n",
       "      <td>4.000000</td>\n",
       "      <td>2.000000</td>\n",
       "      <td>...</td>\n",
       "      <td>57.000000</td>\n",
       "      <td>3.000000</td>\n",
       "      <td>3.900000</td>\n",
       "      <td>2.000000</td>\n",
       "      <td>2.000000</td>\n",
       "      <td>3209.000000</td>\n",
       "      <td>0.000000</td>\n",
       "      <td>0.000000</td>\n",
       "      <td>2.000000</td>\n",
       "      <td>NaN</td>\n",
       "    </tr>\n",
       "    <tr>\n",
       "      <th>max</th>\n",
       "      <td>2.000000</td>\n",
       "      <td>9.000000</td>\n",
       "      <td>5.305629e+06</td>\n",
       "      <td>40.800000</td>\n",
       "      <td>184.000000</td>\n",
       "      <td>96.000000</td>\n",
       "      <td>4.000000</td>\n",
       "      <td>4.000000</td>\n",
       "      <td>6.000000</td>\n",
       "      <td>3.000000</td>\n",
       "      <td>...</td>\n",
       "      <td>89.000000</td>\n",
       "      <td>3.000000</td>\n",
       "      <td>10.100000</td>\n",
       "      <td>3.000000</td>\n",
       "      <td>2.000000</td>\n",
       "      <td>41110.000000</td>\n",
       "      <td>7111.000000</td>\n",
       "      <td>2209.000000</td>\n",
       "      <td>2.000000</td>\n",
       "      <td>NaN</td>\n",
       "    </tr>\n",
       "  </tbody>\n",
       "</table>\n",
       "<p>8 rows × 29 columns</p>\n",
       "</div>"
      ],
      "text/plain": [
       "          surgery         age  hospital_number  r_temperature       pulse  \\\n",
       "count  299.000000  300.000000     3.000000e+02     240.000000  276.000000   \n",
       "mean     1.397993    1.640000     1.085889e+06      38.167917   71.913043   \n",
       "std      0.490305    2.173972     1.529801e+06       0.732289   28.630557   \n",
       "min      1.000000    1.000000     5.184760e+05      35.400000   30.000000   \n",
       "25%      1.000000    1.000000     5.289040e+05      37.800000   48.000000   \n",
       "50%      1.000000    1.000000     5.303055e+05      38.200000   64.000000   \n",
       "75%      2.000000    1.000000     5.347275e+05      38.500000   88.000000   \n",
       "max      2.000000    9.000000     5.305629e+06      40.800000  184.000000   \n",
       "\n",
       "        resp_rate  ext_temperature   per_pulse  muc_membraes  cap_ref_time  \\\n",
       "count  242.000000       244.000000  231.000000    253.000000    268.000000   \n",
       "mean    30.417355         2.348361    2.017316      2.853755      1.305970   \n",
       "std     17.642231         1.045054    1.042428      1.620294      0.477629   \n",
       "min      8.000000         1.000000    1.000000      1.000000      1.000000   \n",
       "25%     18.500000         1.000000    1.000000      1.000000      1.000000   \n",
       "50%     24.500000         3.000000    2.000000      3.000000      1.000000   \n",
       "75%     36.000000         3.000000    3.000000      4.000000      2.000000   \n",
       "max     96.000000         4.000000    4.000000      6.000000      3.000000   \n",
       "\n",
       "       ...     protein  abd_appearance  abd_protein     outcome  \\\n",
       "count  ...  267.000000      135.000000   102.000000  299.000000   \n",
       "mean   ...   24.456929        2.037037     3.019608    1.551839   \n",
       "std    ...   27.475009        0.804905     1.968567    0.737187   \n",
       "min    ...    3.300000        1.000000     0.100000    1.000000   \n",
       "25%    ...    6.500000        1.000000     2.000000    1.000000   \n",
       "50%    ...    7.500000        2.000000     2.250000    1.000000   \n",
       "75%    ...   57.000000        3.000000     3.900000    2.000000   \n",
       "max    ...   89.000000        3.000000    10.100000    3.000000   \n",
       "\n",
       "       surgical_lesion  type_lesion_1  type_lesion_2  type_lesion_3  \\\n",
       "count       300.000000     300.000000     300.000000     300.000000   \n",
       "mean          1.363333    3657.880000      90.226667       7.363333   \n",
       "std           0.481763    5399.513513     649.569234     127.536674   \n",
       "min           1.000000       0.000000       0.000000       0.000000   \n",
       "25%           1.000000    2111.750000       0.000000       0.000000   \n",
       "50%           1.000000    2673.500000       0.000000       0.000000   \n",
       "75%           2.000000    3209.000000       0.000000       0.000000   \n",
       "max           2.000000   41110.000000    7111.000000    2209.000000   \n",
       "\n",
       "          cp_data  extra  \n",
       "count  300.000000    0.0  \n",
       "mean     1.670000    NaN  \n",
       "std      0.470998    NaN  \n",
       "min      1.000000    NaN  \n",
       "25%      1.000000    NaN  \n",
       "50%      2.000000    NaN  \n",
       "75%      2.000000    NaN  \n",
       "max      2.000000    NaN  \n",
       "\n",
       "[8 rows x 29 columns]"
      ]
     },
     "execution_count": 4,
     "metadata": {},
     "output_type": "execute_result"
    }
   ],
   "source": [
    "df.describe()"
   ]
  },
  {
   "cell_type": "code",
   "execution_count": 5,
   "id": "febe129d-554e-400c-8932-32f834846939",
   "metadata": {},
   "outputs": [],
   "source": [
    "df['age'] = df[['age']].applymap(lambda x: 'Adult' if x== 1 else 'Young')"
   ]
  },
  {
   "cell_type": "code",
   "execution_count": 6,
   "id": "f77634da-33a2-4560-a4f7-a468e288fc5d",
   "metadata": {},
   "outputs": [
    {
     "data": {
      "text/plain": [
       "age  \n",
       "Adult    0.92\n",
       "Young    0.08\n",
       "dtype: float64"
      ]
     },
     "execution_count": 6,
     "metadata": {},
     "output_type": "execute_result"
    }
   ],
   "source": [
    "df[['age']].value_counts(normalize = True)"
   ]
  },
  {
   "cell_type": "code",
   "execution_count": 7,
   "id": "8ccfada5-1969-41c5-9145-b07d8994befd",
   "metadata": {},
   "outputs": [
    {
     "data": {
      "text/plain": [
       "<AxesSubplot:xlabel='age', ylabel='Percent'>"
      ]
     },
     "execution_count": 7,
     "metadata": {},
     "output_type": "execute_result"
    },
    {
     "data": {
      "image/png": "[encoded data removed]",
      "text/plain": [
       "<Figure size 432x288 with 1 Axes>"
      ]
     },
     "metadata": {
      "needs_background": "light"
     },
     "output_type": "display_data"
    }
   ],
   "source": [
    "sns.histplot(data = df, x = 'age', stat = 'percent', hue = 'surgery', multiple = 'stack')\n",
    "#element = 'poly'"
   ]
  },
  {
   "cell_type": "code",
   "execution_count": 8,
   "id": "303bbd92-a866-4b04-ae08-3b4b5247bd13",
   "metadata": {},
   "outputs": [],
   "source": [
    "typos_col = {\n",
    "    'surgery' : 'object',\n",
    "    'r_temperature': 'float64', \n",
    "     'pulse': 'float64', \n",
    "    'resp_rate': 'float64', \n",
    "    'naso_reflux_ph': 'float64', \n",
    "    'pack_cell_vol': 'float64', \n",
    "    'protein': 'float64', \n",
    "    'abd_protein': 'float64',\n",
    "    'type_lesion_1': 'object', \n",
    "    'type_lesion_2': 'object', \n",
    "    'type_lesion_3': 'object', \n",
    "}"
   ]
  },
  {
   "cell_type": "code",
   "execution_count": 9,
   "id": "4dd2c5f2-8d55-4875-a911-be39f13acdf5",
   "metadata": {},
   "outputs": [],
   "source": [
    "df = df.astype(typos_col)"
   ]
  },
  {
   "cell_type": "code",
   "execution_count": 10,
   "id": "68300162-e630-423f-802f-a7a716c67e98",
   "metadata": {},
   "outputs": [
    {
     "data": {
      "text/plain": [
       "<AxesSubplot:ylabel='Frequency'>"
      ]
     },
     "execution_count": 10,
     "metadata": {},
     "output_type": "execute_result"
    },
    {
     "data": {
      "image/png": "[encoded data removed]",
      "text/plain": [
       "<Figure size 432x288 with 1 Axes>"
      ]
     },
     "metadata": {
      "needs_background": "light"
     },
     "output_type": "display_data"
    }
   ],
   "source": [
    "df['r_temperature'].plot(kind = 'hist')"
   ]
  },
  {
   "cell_type": "code",
   "execution_count": 11,
   "id": "ef87ca5e-b9f8-48b6-bd05-c439d60a0a49",
   "metadata": {},
   "outputs": [
    {
     "data": {
      "text/plain": [
       "<AxesSubplot:xlabel='r_temperature', ylabel='Percent'>"
      ]
     },
     "execution_count": 11,
     "metadata": {},
     "output_type": "execute_result"
    },
    {
     "data": {
      "image/png": "[encoded data removed]",
      "text/plain": [
       "<Figure size 432x288 with 1 Axes>"
      ]
     },
     "metadata": {
      "needs_background": "light"
     },
     "output_type": "display_data"
    }
   ],
   "source": [
    "sns.histplot(data = df, x = 'r_temperature', stat = 'percent', element = 'step')"
   ]
  },
  {
   "cell_type": "code",
   "execution_count": 12,
   "id": "818b7bdb-956e-46eb-bc3b-70e7589f5aac",
   "metadata": {},
   "outputs": [
    {
     "data": {
      "text/plain": [
       "<AxesSubplot:>"
      ]
     },
     "execution_count": 12,
     "metadata": {},
     "output_type": "execute_result"
    },
    {
     "data": {
      "image/png": "[encoded data removed]",
      "text/plain": [
       "<Figure size 432x288 with 1 Axes>"
      ]
     },
     "metadata": {
      "needs_background": "light"
     },
     "output_type": "display_data"
    }
   ],
   "source": [
    "df['r_temperature'].plot(kind = 'box')"
   ]
  },
  {
   "cell_type": "code",
   "execution_count": 13,
   "id": "5888f280-773d-4978-aa0e-026391e73abd",
   "metadata": {},
   "outputs": [
    {
     "data": {
      "text/plain": [
       "<AxesSubplot:xlabel='r_temperature', ylabel='age'>"
      ]
     },
     "execution_count": 13,
     "metadata": {},
     "output_type": "execute_result"
    },
    {
     "data": {
      "image/png": "[encoded data removed]",
      "text/plain": [
       "<Figure size 432x288 with 1 Axes>"
      ]
     },
     "metadata": {
      "needs_background": "light"
     },
     "output_type": "display_data"
    }
   ],
   "source": [
    "sns.boxplot(data = df, x = 'r_temperature', y = 'age')"
   ]
  },
  {
   "cell_type": "code",
   "execution_count": 14,
   "id": "0f4a4780-53bb-403d-a4e3-1dc76ea6d47d",
   "metadata": {},
   "outputs": [
    {
     "data": {
      "text/plain": [
       "<AxesSubplot:ylabel='Frequency'>"
      ]
     },
     "execution_count": 14,
     "metadata": {},
     "output_type": "execute_result"
    },
    {
     "data": {
      "image/png": "[encoded data removed]",
      "text/plain": [
       "<Figure size 432x288 with 1 Axes>"
      ]
     },
     "metadata": {
      "needs_background": "light"
     },
     "output_type": "display_data"
    }
   ],
   "source": [
    "#yo creo que ese 180 es un dato atípico aunque dice que el caballo podría tener lesiones\n",
    "df['pulse'].plot(kind = 'hist', bins = 40)"
   ]
  },
  {
   "cell_type": "code",
   "execution_count": 15,
   "id": "8e5c0afa-e206-4a7a-8101-c0bea7a98409",
   "metadata": {},
   "outputs": [
    {
     "data": {
      "text/plain": [
       "<AxesSubplot:xlabel='pulse', ylabel='Percent'>"
      ]
     },
     "execution_count": 15,
     "metadata": {},
     "output_type": "execute_result"
    },
    {
     "data": {
      "image/png": "[encoded data removed]",
      "text/plain": [
       "<Figure size 432x288 with 1 Axes>"
      ]
     },
     "metadata": {
      "needs_background": "light"
     },
     "output_type": "display_data"
    }
   ],
   "source": [
    "sns.histplot(data = df, x = 'pulse', stat = 'percent', hue = 'age', multiple = 'stack')"
   ]
  },
  {
   "cell_type": "code",
   "execution_count": 16,
   "id": "00ea95d0-293d-4048-80c0-03a6ef14d222",
   "metadata": {},
   "outputs": [
    {
     "data": {
      "text/plain": [
       "<AxesSubplot:>"
      ]
     },
     "execution_count": 16,
     "metadata": {},
     "output_type": "execute_result"
    },
    {
     "data": {
      "image/png": "[encoded data removed]",
      "text/plain": [
       "<Figure size 432x288 with 1 Axes>"
      ]
     },
     "metadata": {
      "needs_background": "light"
     },
     "output_type": "display_data"
    }
   ],
   "source": [
    "df['pulse'].plot(kind = 'box')"
   ]
  },
  {
   "cell_type": "code",
   "execution_count": 17,
   "id": "fafe80f9-5fc6-4c2b-ab0c-098190421fc8",
   "metadata": {},
   "outputs": [
    {
     "data": {
      "text/plain": [
       "<AxesSubplot:xlabel='pulse', ylabel='age'>"
      ]
     },
     "execution_count": 17,
     "metadata": {},
     "output_type": "execute_result"
    },
    {
     "data": {
      "image/png": "[encoded data removed]",
      "text/plain": [
       "<Figure size 432x288 with 1 Axes>"
      ]
     },
     "metadata": {
      "needs_background": "light"
     },
     "output_type": "display_data"
    }
   ],
   "source": [
    "sns.boxplot(data = df, x = 'pulse', y = 'age')"
   ]
  },
  {
   "cell_type": "code",
   "execution_count": 18,
   "id": "42c543e7-b54a-458a-9216-1ab5270cebbc",
   "metadata": {},
   "outputs": [
    {
     "data": {
      "text/plain": [
       "<AxesSubplot:ylabel='Frequency'>"
      ]
     },
     "execution_count": 18,
     "metadata": {},
     "output_type": "execute_result"
    },
    {
     "data": {
      "image/png": "[encoded data removed]",
      "text/plain": [
       "<Figure size 432x288 with 1 Axes>"
      ]
     },
     "metadata": {
      "needs_background": "light"
     },
     "output_type": "display_data"
    }
   ],
   "source": [
    "#y aquí que putas, si lo normal es entre 8 a 10 ????\n",
    "df['resp_rate'].plot(kind = 'hist', bins = 40)"
   ]
  },
  {
   "cell_type": "code",
   "execution_count": 19,
   "id": "7a64816c-0869-4252-9c2f-d1db021f61a7",
   "metadata": {},
   "outputs": [
    {
     "data": {
      "text/plain": [
       "<AxesSubplot:>"
      ]
     },
     "execution_count": 19,
     "metadata": {},
     "output_type": "execute_result"
    },
    {
     "data": {
      "image/png": "[encoded data removed]",
      "text/plain": [
       "<Figure size 432x288 with 1 Axes>"
      ]
     },
     "metadata": {
      "needs_background": "light"
     },
     "output_type": "display_data"
    }
   ],
   "source": [
    "df['resp_rate'].plot(kind = 'box')"
   ]
  },
  {
   "cell_type": "code",
   "execution_count": 20,
   "id": "7aca08d7-a0de-4e88-a0f9-2f6c96996363",
   "metadata": {},
   "outputs": [],
   "source": [
    "ext_temp_dict = {\n",
    "    1.0: 'normal',\n",
    "    2.0: 'warm',\n",
    "    3.0: 'cool',\n",
    "    4.0: 'cold',\n",
    "}"
   ]
  },
  {
   "cell_type": "code",
   "execution_count": 21,
   "id": "b42ca109-cb01-4ea8-b4af-86465deebbc1",
   "metadata": {},
   "outputs": [
    {
     "data": {
      "text/plain": [
       "array([ 3., nan,  1.,  4.,  2.])"
      ]
     },
     "execution_count": 21,
     "metadata": {},
     "output_type": "execute_result"
    }
   ],
   "source": [
    "df['ext_temperature'].unique()"
   ]
  },
  {
   "cell_type": "code",
   "execution_count": 22,
   "id": "9c4567aa-2079-4c5b-b90b-b8da151a800c",
   "metadata": {},
   "outputs": [],
   "source": [
    "df['ext_temperature'] = df['ext_temperature'].map(ext_temp_dict)"
   ]
  },
  {
   "cell_type": "code",
   "execution_count": 23,
   "id": "8dff7ef3-b37d-436b-a404-43353dfba9b0",
   "metadata": {},
   "outputs": [
    {
     "data": {
      "text/plain": [
       "array(['cool', nan, 'normal', 'cold', 'warm'], dtype=object)"
      ]
     },
     "execution_count": 23,
     "metadata": {},
     "output_type": "execute_result"
    }
   ],
   "source": [
    "df['ext_temperature'].unique()"
   ]
  },
  {
   "cell_type": "code",
   "execution_count": 24,
   "id": "f3984824-1f70-4966-ba1b-a7e97380dab7",
   "metadata": {},
   "outputs": [],
   "source": [
    "#poner aquí la grafiquita si es que alcanzamos"
   ]
  },
  {
   "cell_type": "code",
   "execution_count": 25,
   "id": "077ee8fb-10fe-48ba-a63e-811ead4d7cad",
   "metadata": {},
   "outputs": [
    {
     "data": {
      "text/plain": [
       "array([ 3., nan,  1.,  4.,  2.])"
      ]
     },
     "execution_count": 25,
     "metadata": {},
     "output_type": "execute_result"
    }
   ],
   "source": [
    "df['per_pulse'].unique()"
   ]
  },
  {
   "cell_type": "code",
   "execution_count": 26,
   "id": "24a63cc1-5fb7-4ea8-b22d-c6d115179465",
   "metadata": {},
   "outputs": [],
   "source": [
    "per_dict = {\n",
    "    1.0:  'normal',\n",
    "    2.0: 'increased',\n",
    "    3.0: 'reduced',\n",
    "    4.0: 'absent',\n",
    "}"
   ]
  },
  {
   "cell_type": "code",
   "execution_count": 27,
   "id": "1b87f62d-dece-4758-ad23-c172af18144d",
   "metadata": {},
   "outputs": [],
   "source": [
    "df['per_pulse'] = df['per_pulse'].map(per_dict)"
   ]
  },
  {
   "cell_type": "code",
   "execution_count": 28,
   "id": "108cc031-43c6-436d-b799-28c4644c3421",
   "metadata": {},
   "outputs": [
    {
     "data": {
      "text/plain": [
       "array(['reduced', nan, 'normal', 'absent', 'increased'], dtype=object)"
      ]
     },
     "execution_count": 28,
     "metadata": {},
     "output_type": "execute_result"
    }
   ],
   "source": [
    "df['per_pulse'].unique()"
   ]
  },
  {
   "cell_type": "code",
   "execution_count": 29,
   "id": "52de8825-dff5-449e-9bda-c1c03bf09aa6",
   "metadata": {},
   "outputs": [
    {
     "data": {
      "text/plain": [
       "array([nan,  4.,  3.,  6.,  1.,  5.,  2.])"
      ]
     },
     "execution_count": 29,
     "metadata": {},
     "output_type": "execute_result"
    }
   ],
   "source": [
    "df['muc_membraes'].unique()"
   ]
  },
  {
   "cell_type": "code",
   "execution_count": 30,
   "id": "8e2022ab-2bae-4a61-9b14-b40bd28e28a8",
   "metadata": {},
   "outputs": [],
   "source": [
    "muc_membraes_dict = {\n",
    "    1.0:  'normal pink',\n",
    "    2.0: 'bright pink',\n",
    "    3.0: 'pale pink',\n",
    "    4.0: 'pale cyanotic',\n",
    "    5.0: 'bright red / injected', \n",
    "    6.0: 'dark cyanotic'\n",
    "}"
   ]
  },
  {
   "cell_type": "code",
   "execution_count": 31,
   "id": "cf73c006-4746-4665-9cad-696972dff11f",
   "metadata": {},
   "outputs": [],
   "source": [
    "df['muc_membraes'] = df['muc_membraes'].map(muc_membraes_dict)"
   ]
  },
  {
   "cell_type": "code",
   "execution_count": 32,
   "id": "0049af8f-d18a-4a58-913b-fcbbae385f5e",
   "metadata": {},
   "outputs": [
    {
     "data": {
      "text/plain": [
       "array([nan, 'pale cyanotic', 'pale pink', 'dark cyanotic', 'normal pink',\n",
       "       'bright red / injected', 'bright pink'], dtype=object)"
      ]
     },
     "execution_count": 32,
     "metadata": {},
     "output_type": "execute_result"
    }
   ],
   "source": [
    "df['muc_membraes'].unique()"
   ]
  },
  {
   "cell_type": "code",
   "execution_count": 33,
   "id": "f8837321-faef-45bd-8c0b-2979393d85fb",
   "metadata": {},
   "outputs": [],
   "source": [
    "#grafiquita"
   ]
  },
  {
   "cell_type": "code",
   "execution_count": 34,
   "id": "131d7a18-b13d-4642-b245-9fd63690f329",
   "metadata": {},
   "outputs": [],
   "source": [
    "def mucosa(value):\n",
    "    if value == 'normal pink' or value == 'bright pink':\n",
    "        return 'normal'\n",
    "    if value == 'pale pink':\n",
    "        return 'early chock'\n",
    "    if value == 'pale cyanotic' or value == 'dark cyanotic':\n",
    "        return 'serious circulatory compromise'\n",
    "    if value == 'bright red / injected':\n",
    "        return 'septicemia'"
   ]
  },
  {
   "cell_type": "code",
   "execution_count": 35,
   "id": "c9311b37-d1dd-46e2-84d2-4a1234a937a3",
   "metadata": {},
   "outputs": [],
   "source": [
    "df['extra-muc_membraes'] = df[['muc_membraes']].applymap(mucosa)"
   ]
  },
  {
   "cell_type": "code",
   "execution_count": 36,
   "id": "b2e3a4cf-65c5-4b96-84a5-a322315d92ba",
   "metadata": {},
   "outputs": [
    {
     "data": {
      "text/plain": [
       "extra-muc_membraes            \n",
       "normal                            109\n",
       "serious circulatory compromise     61\n",
       "early chock                        58\n",
       "septicemia                         25\n",
       "dtype: int64"
      ]
     },
     "execution_count": 36,
     "metadata": {},
     "output_type": "execute_result"
    }
   ],
   "source": [
    "df[['extra-muc_membraes']].value_counts()"
   ]
  },
  {
   "cell_type": "code",
   "execution_count": 37,
   "id": "25bd7620-64a9-473c-a585-c3a9b72713c4",
   "metadata": {},
   "outputs": [],
   "source": [
    "#grafiquita"
   ]
  },
  {
   "cell_type": "code",
   "execution_count": 38,
   "id": "5847b0b7-408b-4907-9a6e-aaddc4ce2455",
   "metadata": {},
   "outputs": [
    {
     "data": {
      "text/plain": [
       "array([ 2.,  1., nan,  3.])"
      ]
     },
     "execution_count": 38,
     "metadata": {},
     "output_type": "execute_result"
    }
   ],
   "source": [
    "#se supone que este valor sólo debería ser 1 y 2, y aquí qué?\n",
    "df['cap_ref_time'].unique()"
   ]
  },
  {
   "cell_type": "code",
   "execution_count": 39,
   "id": "924f5287-d24a-4014-9d03-67aedb991bf5",
   "metadata": {},
   "outputs": [],
   "source": [
    "cap_ref_dict = {\n",
    "    1.0: '< 3 seconds',\n",
    "    2.0: '>= 3 seconds',\n",
    "    3.0: 'desconocido',\n",
    "}"
   ]
  },
  {
   "cell_type": "code",
   "execution_count": 40,
   "id": "af17d26c-b314-4831-b969-55e2679d8283",
   "metadata": {},
   "outputs": [],
   "source": [
    "df['cap_ref_time'] = df['cap_ref_time'].map(cap_ref_dict)"
   ]
  },
  {
   "cell_type": "code",
   "execution_count": 41,
   "id": "7822b83b-1907-4c2b-b5fb-ffd86d70e77e",
   "metadata": {},
   "outputs": [
    {
     "data": {
      "text/plain": [
       "array(['>= 3 seconds', '< 3 seconds', nan, 'desconocido'], dtype=object)"
      ]
     },
     "execution_count": 41,
     "metadata": {},
     "output_type": "execute_result"
    }
   ],
   "source": [
    "df['cap_ref_time'].unique()"
   ]
  },
  {
   "cell_type": "code",
   "execution_count": 42,
   "id": "a1cbb2bc-26ee-4d0c-8648-e28f3c6f81aa",
   "metadata": {},
   "outputs": [],
   "source": [
    "pain_dict = {\n",
    "     1.0: 'alert, no pain',\n",
    "     2.0: 'depressed',\n",
    "     3.0: 'intermittent mild pain',\n",
    "     4.0: 'intermittent severe pain',\n",
    "     5.0: 'continuous severe pain',\n",
    "}"
   ]
  },
  {
   "cell_type": "code",
   "execution_count": 43,
   "id": "514c8eba-e759-4970-ab9f-d5eb83f113ed",
   "metadata": {},
   "outputs": [],
   "source": [
    "df['pain'] = df['pain'].map(pain_dict)"
   ]
  },
  {
   "cell_type": "code",
   "execution_count": 44,
   "id": "11b491d1-41a5-4313-a674-f71550088d2d",
   "metadata": {},
   "outputs": [
    {
     "data": {
      "text/plain": [
       "pain                    \n",
       "intermittent mild pain      67\n",
       "depressed                   59\n",
       "continuous severe pain      42\n",
       "intermittent severe pain    39\n",
       "alert, no pain              38\n",
       "dtype: int64"
      ]
     },
     "execution_count": 44,
     "metadata": {},
     "output_type": "execute_result"
    }
   ],
   "source": [
    "df[['pain']].value_counts()"
   ]
  },
  {
   "cell_type": "code",
   "execution_count": 45,
   "id": "6c04efe5-d194-40d4-84d1-ec4937112641",
   "metadata": {},
   "outputs": [],
   "source": [
    "peris_dict = {\n",
    "    1.0: 'hypermotile',\n",
    "    2.0: 'normal',\n",
    "    3.0: 'hypomotile',\n",
    "    4.0: 'absent'\n",
    "}"
   ]
  },
  {
   "cell_type": "code",
   "execution_count": 46,
   "id": "f1c19523-c60b-4b89-bc3b-d8b393c25b66",
   "metadata": {},
   "outputs": [],
   "source": [
    " df['peristalsis'] = df['peristalsis'].map(peris_dict)"
   ]
  },
  {
   "cell_type": "code",
   "execution_count": 47,
   "id": "14880643-3dfb-43ab-ae06-d59d1515cf9f",
   "metadata": {},
   "outputs": [
    {
     "data": {
      "text/plain": [
       "array(['absent', 'hypomotile', nan, 'hypermotile', 'normal'], dtype=object)"
      ]
     },
     "execution_count": 47,
     "metadata": {},
     "output_type": "execute_result"
    }
   ],
   "source": [
    "df['peristalsis'].unique()"
   ]
  },
  {
   "cell_type": "code",
   "execution_count": 48,
   "id": "1af8d49a-6dc9-4afc-9ada-cf8714bb3116",
   "metadata": {},
   "outputs": [],
   "source": [
    "abd_dist_dict = {\n",
    "    1.0: 'none',\n",
    "    2.0: 'slight',\n",
    "    3.0: 'moderate',\n",
    "    4.0: 'severe'\n",
    "}"
   ]
  },
  {
   "cell_type": "code",
   "execution_count": 49,
   "id": "454e04c6-304f-4d88-8f2b-5d1228aacf78",
   "metadata": {},
   "outputs": [],
   "source": [
    "df['abd_distension'] = df['abd_distension'].map(abd_dist_dict) "
   ]
  },
  {
   "cell_type": "code",
   "execution_count": 50,
   "id": "e337ef65-e01a-4b62-82e6-0312f62efa50",
   "metadata": {},
   "outputs": [
    {
     "data": {
      "text/plain": [
       "array(['severe', 'slight', 'none', nan, 'moderate'], dtype=object)"
      ]
     },
     "execution_count": 50,
     "metadata": {},
     "output_type": "execute_result"
    }
   ],
   "source": [
    "df['abd_distension'].unique()"
   ]
  },
  {
   "cell_type": "code",
   "execution_count": 51,
   "id": "7488d571-d19e-4c61-82d7-bcb2058c53e5",
   "metadata": {},
   "outputs": [],
   "source": [
    "naso_tub_dict = {\n",
    "    1.0: 'none',\n",
    "    2.0: 'slight',\n",
    "    3.0: 'significant',\n",
    "}"
   ]
  },
  {
   "cell_type": "code",
   "execution_count": 52,
   "id": "9db9cf54-a8c1-4a0c-9615-ab7edcf9d386",
   "metadata": {},
   "outputs": [],
   "source": [
    "df['naso_tub'] = df['naso_tub'].map(naso_tub_dict) "
   ]
  },
  {
   "cell_type": "code",
   "execution_count": 53,
   "id": "d1d1990f-16bf-4b5b-93db-bdc38f92bbcd",
   "metadata": {},
   "outputs": [
    {
     "data": {
      "text/plain": [
       "array([nan, 'none', 'slight', 'significant'], dtype=object)"
      ]
     },
     "execution_count": 53,
     "metadata": {},
     "output_type": "execute_result"
    }
   ],
   "source": [
    "df['naso_tub'].unique()"
   ]
  },
  {
   "cell_type": "code",
   "execution_count": 54,
   "id": "8f69b92e-4038-4017-bc42-090bd0c72dcf",
   "metadata": {},
   "outputs": [],
   "source": [
    "naso_reflux_dict = {\n",
    "    1.0: 'none',\n",
    "    2.0: '> 1 liter',\n",
    "    3.0: '< 1 liter',\n",
    "}"
   ]
  },
  {
   "cell_type": "code",
   "execution_count": 55,
   "id": "b46bdbaf-2236-4cf2-b221-3a1fab5aa6ce",
   "metadata": {},
   "outputs": [],
   "source": [
    "df['naso_reflux'] = df['naso_reflux'].map(naso_reflux_dict)"
   ]
  },
  {
   "cell_type": "code",
   "execution_count": 56,
   "id": "f8c176b9-dd1e-455a-861b-5857e37dedcd",
   "metadata": {},
   "outputs": [
    {
     "data": {
      "text/plain": [
       "array([nan, 'none', 'slight', 'significant'], dtype=object)"
      ]
     },
     "execution_count": 56,
     "metadata": {},
     "output_type": "execute_result"
    }
   ],
   "source": [
    "df['naso_tub'].unique()"
   ]
  },
  {
   "cell_type": "code",
   "execution_count": 57,
   "id": "e4122192-c238-4fb4-b83f-04dbd1d36ed9",
   "metadata": {},
   "outputs": [
    {
     "data": {
      "text/plain": [
       "<AxesSubplot:ylabel='Frequency'>"
      ]
     },
     "execution_count": 57,
     "metadata": {},
     "output_type": "execute_result"
    },
    {
     "data": {
      "image/png": "[encoded data removed]",
      "text/plain": [
       "<Figure size 432x288 with 1 Axes>"
      ]
     },
     "metadata": {
      "needs_background": "light"
     },
     "output_type": "display_data"
    }
   ],
   "source": [
    "df['naso_reflux_ph'].plot(kind = 'hist')"
   ]
  },
  {
   "cell_type": "code",
   "execution_count": 58,
   "id": "68bdf199-4609-4bf4-a343-a091f73c9c5c",
   "metadata": {},
   "outputs": [
    {
     "data": {
      "text/plain": [
       "<AxesSubplot:>"
      ]
     },
     "execution_count": 58,
     "metadata": {},
     "output_type": "execute_result"
    },
    {
     "data": {
      "image/png": "[encoded data removed]",
      "text/plain": [
       "<Figure size 432x288 with 1 Axes>"
      ]
     },
     "metadata": {
      "needs_background": "light"
     },
     "output_type": "display_data"
    }
   ],
   "source": [
    "df['naso_reflux_ph'].plot(kind = 'box')"
   ]
  },
  {
   "cell_type": "code",
   "execution_count": 59,
   "id": "c0c37bf7-8798-44c9-a9ec-af9bb84ffeff",
   "metadata": {},
   "outputs": [],
   "source": [
    "rect_exam_dict = {\n",
    "    1.0: 'none',\n",
    "    2.0: 'increased',\n",
    "    3.0: 'decreased',\n",
    "    4.0: 'absent'\n",
    "}"
   ]
  },
  {
   "cell_type": "code",
   "execution_count": 60,
   "id": "2d5d3b43-5c2b-4744-bf49-e7887a43995c",
   "metadata": {},
   "outputs": [],
   "source": [
    "df['rect_exam'] = df['rect_exam'].map(rect_exam_dict)"
   ]
  },
  {
   "cell_type": "code",
   "execution_count": 61,
   "id": "e8bb2da2-32f8-4971-a131-7b319054b7f9",
   "metadata": {},
   "outputs": [
    {
     "data": {
      "text/plain": [
       "array(['decreased', 'absent', 'none', nan, 'increased'], dtype=object)"
      ]
     },
     "execution_count": 61,
     "metadata": {},
     "output_type": "execute_result"
    }
   ],
   "source": [
    "df['rect_exam'].unique()"
   ]
  },
  {
   "cell_type": "code",
   "execution_count": 62,
   "id": "6ba023af-5309-40e3-9e77-4f4b6cd0c025",
   "metadata": {},
   "outputs": [],
   "source": [
    "abdomen_dict = {\n",
    "    1.0: 'normal',\n",
    "    2.0: 'other',\n",
    "    3.0: 'firm feces in the large intestine',\n",
    "    4.0: 'distended small intestine',\n",
    "    5.0: 'distended large intestine'\n",
    "}"
   ]
  },
  {
   "cell_type": "code",
   "execution_count": 63,
   "id": "a7722f06-5424-47d4-8f92-6036563756bc",
   "metadata": {},
   "outputs": [],
   "source": [
    "df['abdomen'] = df['abdomen'].map(abdomen_dict)"
   ]
  },
  {
   "cell_type": "code",
   "execution_count": 64,
   "id": "cb063824-6508-439b-82af-7a8c7e1ed2f7",
   "metadata": {},
   "outputs": [
    {
     "data": {
      "text/plain": [
       "array(['distended large intestine', 'other', 'normal', nan,\n",
       "       'firm feces in the large intestine', 'distended small intestine'],\n",
       "      dtype=object)"
      ]
     },
     "execution_count": 64,
     "metadata": {},
     "output_type": "execute_result"
    }
   ],
   "source": [
    "df['abdomen'].unique()"
   ]
  },
  {
   "cell_type": "code",
   "execution_count": 65,
   "id": "36d991bd-0f86-4852-8c88-7db771b95dfd",
   "metadata": {},
   "outputs": [
    {
     "data": {
      "text/plain": [
       "<AxesSubplot:ylabel='Frequency'>"
      ]
     },
     "execution_count": 65,
     "metadata": {},
     "output_type": "execute_result"
    },
    {
     "data": {
      "image/png": "[encoded data removed]",
      "text/plain": [
       "<Figure size 432x288 with 1 Axes>"
      ]
     },
     "metadata": {
      "needs_background": "light"
     },
     "output_type": "display_data"
    }
   ],
   "source": [
    "#normal range is 30 to 50. The level rises as the circulation becomes compromised or as the animal becomes dehydrated\n",
    "df['r_temperature'].plot(kind = 'hist')"
   ]
  },
  {
   "cell_type": "code",
   "execution_count": 66,
   "id": "9238148e-e182-4957-809a-964fc9b47476",
   "metadata": {},
   "outputs": [
    {
     "data": {
      "text/plain": [
       "<AxesSubplot:>"
      ]
     },
     "execution_count": 66,
     "metadata": {},
     "output_type": "execute_result"
    },
    {
     "data": {
      "image/png": "[encoded data removed]",
      "text/plain": [
       "<Figure size 432x288 with 1 Axes>"
      ]
     },
     "metadata": {
      "needs_background": "light"
     },
     "output_type": "display_data"
    }
   ],
   "source": [
    "#aquí por ejemplo la gráfica de box no me dice mucho porque según los datos es normal un valor entre 30 y 50\n",
    "df['r_temperature'].plot(kind = 'box')"
   ]
  },
  {
   "cell_type": "code",
   "execution_count": 67,
   "id": "f8fef485-e246-4f7a-860c-c344f9199ae5",
   "metadata": {},
   "outputs": [
    {
     "data": {
      "text/plain": [
       "<AxesSubplot:ylabel='Frequency'>"
      ]
     },
     "execution_count": 67,
     "metadata": {},
     "output_type": "execute_result"
    },
    {
     "data": {
      "image/png": "[encoded data removed]",
      "text/plain": [
       "<Figure size 432x288 with 1 Axes>"
      ]
     },
     "metadata": {
      "needs_background": "light"
     },
     "output_type": "display_data"
    }
   ],
   "source": [
    "#se puede separar esta gráfica como por rangos? ver un pedacito y luego otro pedacito\n",
    "df['protein'].plot(kind = 'hist', bins = 50)"
   ]
  },
  {
   "cell_type": "code",
   "execution_count": 68,
   "id": "fe3b6274-53fa-4c5d-8c87-2342c663b188",
   "metadata": {},
   "outputs": [
    {
     "data": {
      "text/plain": [
       "<AxesSubplot:xlabel='protein', ylabel='Count'>"
      ]
     },
     "execution_count": 68,
     "metadata": {},
     "output_type": "execute_result"
    },
    {
     "data": {
      "image/png": "[encoded data removed]",
      "text/plain": [
       "<Figure size 432x288 with 1 Axes>"
      ]
     },
     "metadata": {
      "needs_background": "light"
     },
     "output_type": "display_data"
    }
   ],
   "source": [
    "sns.histplot(data = df, x = 'protein', hue = 'outcome', multiple = 'dodge')"
   ]
  },
  {
   "cell_type": "code",
   "execution_count": 69,
   "id": "e2b5a0f9-b333-409a-95a5-d315a92e87e2",
   "metadata": {},
   "outputs": [
    {
     "data": {
      "text/html": [
       "<div>\n",
       "<style scoped>\n",
       "    .dataframe tbody tr th:only-of-type {\n",
       "        vertical-align: middle;\n",
       "    }\n",
       "\n",
       "    .dataframe tbody tr th {\n",
       "        vertical-align: top;\n",
       "    }\n",
       "\n",
       "    .dataframe thead th {\n",
       "        text-align: right;\n",
       "    }\n",
       "</style>\n",
       "<table border=\"1\" class=\"dataframe\">\n",
       "  <thead>\n",
       "    <tr style=\"text-align: right;\">\n",
       "      <th></th>\n",
       "      <th>surgery</th>\n",
       "      <th>age</th>\n",
       "      <th>hospital_number</th>\n",
       "      <th>r_temperature</th>\n",
       "      <th>pulse</th>\n",
       "      <th>resp_rate</th>\n",
       "      <th>ext_temperature</th>\n",
       "      <th>per_pulse</th>\n",
       "      <th>muc_membraes</th>\n",
       "      <th>cap_ref_time</th>\n",
       "      <th>...</th>\n",
       "      <th>abd_appearance</th>\n",
       "      <th>abd_protein</th>\n",
       "      <th>outcome</th>\n",
       "      <th>surgical_lesion</th>\n",
       "      <th>type_lesion_1</th>\n",
       "      <th>type_lesion_2</th>\n",
       "      <th>type_lesion_3</th>\n",
       "      <th>cp_data</th>\n",
       "      <th>extra</th>\n",
       "      <th>extra-muc_membraes</th>\n",
       "    </tr>\n",
       "  </thead>\n",
       "  <tbody>\n",
       "    <tr>\n",
       "      <th>1</th>\n",
       "      <td>1.0</td>\n",
       "      <td>Adult</td>\n",
       "      <td>534817</td>\n",
       "      <td>39.2</td>\n",
       "      <td>88.0</td>\n",
       "      <td>20.0</td>\n",
       "      <td>NaN</td>\n",
       "      <td>NaN</td>\n",
       "      <td>pale cyanotic</td>\n",
       "      <td>&lt; 3 seconds</td>\n",
       "      <td>...</td>\n",
       "      <td>2.0</td>\n",
       "      <td>2.0</td>\n",
       "      <td>3.0</td>\n",
       "      <td>2</td>\n",
       "      <td>2208</td>\n",
       "      <td>0</td>\n",
       "      <td>0</td>\n",
       "      <td>2</td>\n",
       "      <td>NaN</td>\n",
       "      <td>serious circulatory compromise</td>\n",
       "    </tr>\n",
       "    <tr>\n",
       "      <th>14</th>\n",
       "      <td>1.0</td>\n",
       "      <td>Adult</td>\n",
       "      <td>534917</td>\n",
       "      <td>38.2</td>\n",
       "      <td>76.0</td>\n",
       "      <td>28.0</td>\n",
       "      <td>cool</td>\n",
       "      <td>normal</td>\n",
       "      <td>normal pink</td>\n",
       "      <td>&lt; 3 seconds</td>\n",
       "      <td>...</td>\n",
       "      <td>1.0</td>\n",
       "      <td>2.0</td>\n",
       "      <td>1.0</td>\n",
       "      <td>1</td>\n",
       "      <td>2112</td>\n",
       "      <td>0</td>\n",
       "      <td>0</td>\n",
       "      <td>2</td>\n",
       "      <td>NaN</td>\n",
       "      <td>normal</td>\n",
       "    </tr>\n",
       "    <tr>\n",
       "      <th>23</th>\n",
       "      <td>1.0</td>\n",
       "      <td>Young</td>\n",
       "      <td>534998</td>\n",
       "      <td>38.3</td>\n",
       "      <td>130.0</td>\n",
       "      <td>60.0</td>\n",
       "      <td>NaN</td>\n",
       "      <td>reduced</td>\n",
       "      <td>NaN</td>\n",
       "      <td>&lt; 3 seconds</td>\n",
       "      <td>...</td>\n",
       "      <td>NaN</td>\n",
       "      <td>NaN</td>\n",
       "      <td>1.0</td>\n",
       "      <td>1</td>\n",
       "      <td>3111</td>\n",
       "      <td>0</td>\n",
       "      <td>0</td>\n",
       "      <td>2</td>\n",
       "      <td>NaN</td>\n",
       "      <td>None</td>\n",
       "    </tr>\n",
       "    <tr>\n",
       "      <th>24</th>\n",
       "      <td>1.0</td>\n",
       "      <td>Adult</td>\n",
       "      <td>533692</td>\n",
       "      <td>38.1</td>\n",
       "      <td>60.0</td>\n",
       "      <td>12.0</td>\n",
       "      <td>cool</td>\n",
       "      <td>reduced</td>\n",
       "      <td>pale pink</td>\n",
       "      <td>&lt; 3 seconds</td>\n",
       "      <td>...</td>\n",
       "      <td>NaN</td>\n",
       "      <td>NaN</td>\n",
       "      <td>1.0</td>\n",
       "      <td>1</td>\n",
       "      <td>3111</td>\n",
       "      <td>0</td>\n",
       "      <td>0</td>\n",
       "      <td>2</td>\n",
       "      <td>NaN</td>\n",
       "      <td>early chock</td>\n",
       "    </tr>\n",
       "    <tr>\n",
       "      <th>29</th>\n",
       "      <td>2.0</td>\n",
       "      <td>Adult</td>\n",
       "      <td>535415</td>\n",
       "      <td>37.7</td>\n",
       "      <td>48.0</td>\n",
       "      <td>NaN</td>\n",
       "      <td>warm</td>\n",
       "      <td>normal</td>\n",
       "      <td>normal pink</td>\n",
       "      <td>&lt; 3 seconds</td>\n",
       "      <td>...</td>\n",
       "      <td>NaN</td>\n",
       "      <td>NaN</td>\n",
       "      <td>1.0</td>\n",
       "      <td>2</td>\n",
       "      <td>0</td>\n",
       "      <td>0</td>\n",
       "      <td>0</td>\n",
       "      <td>2</td>\n",
       "      <td>NaN</td>\n",
       "      <td>normal</td>\n",
       "    </tr>\n",
       "    <tr>\n",
       "      <th>...</th>\n",
       "      <td>...</td>\n",
       "      <td>...</td>\n",
       "      <td>...</td>\n",
       "      <td>...</td>\n",
       "      <td>...</td>\n",
       "      <td>...</td>\n",
       "      <td>...</td>\n",
       "      <td>...</td>\n",
       "      <td>...</td>\n",
       "      <td>...</td>\n",
       "      <td>...</td>\n",
       "      <td>...</td>\n",
       "      <td>...</td>\n",
       "      <td>...</td>\n",
       "      <td>...</td>\n",
       "      <td>...</td>\n",
       "      <td>...</td>\n",
       "      <td>...</td>\n",
       "      <td>...</td>\n",
       "      <td>...</td>\n",
       "      <td>...</td>\n",
       "    </tr>\n",
       "    <tr>\n",
       "      <th>290</th>\n",
       "      <td>2.0</td>\n",
       "      <td>Adult</td>\n",
       "      <td>535054</td>\n",
       "      <td>38.6</td>\n",
       "      <td>45.0</td>\n",
       "      <td>16.0</td>\n",
       "      <td>warm</td>\n",
       "      <td>normal</td>\n",
       "      <td>bright pink</td>\n",
       "      <td>&lt; 3 seconds</td>\n",
       "      <td>...</td>\n",
       "      <td>NaN</td>\n",
       "      <td>NaN</td>\n",
       "      <td>1.0</td>\n",
       "      <td>2</td>\n",
       "      <td>0</td>\n",
       "      <td>0</td>\n",
       "      <td>0</td>\n",
       "      <td>2</td>\n",
       "      <td>NaN</td>\n",
       "      <td>normal</td>\n",
       "    </tr>\n",
       "    <tr>\n",
       "      <th>293</th>\n",
       "      <td>1.0</td>\n",
       "      <td>Adult</td>\n",
       "      <td>534004</td>\n",
       "      <td>NaN</td>\n",
       "      <td>78.0</td>\n",
       "      <td>24.0</td>\n",
       "      <td>cool</td>\n",
       "      <td>reduced</td>\n",
       "      <td>pale pink</td>\n",
       "      <td>&lt; 3 seconds</td>\n",
       "      <td>...</td>\n",
       "      <td>NaN</td>\n",
       "      <td>2.0</td>\n",
       "      <td>3.0</td>\n",
       "      <td>2</td>\n",
       "      <td>2209</td>\n",
       "      <td>0</td>\n",
       "      <td>0</td>\n",
       "      <td>2</td>\n",
       "      <td>NaN</td>\n",
       "      <td>early chock</td>\n",
       "    </tr>\n",
       "    <tr>\n",
       "      <th>294</th>\n",
       "      <td>2.0</td>\n",
       "      <td>Adult</td>\n",
       "      <td>533902</td>\n",
       "      <td>38.5</td>\n",
       "      <td>40.0</td>\n",
       "      <td>16.0</td>\n",
       "      <td>normal</td>\n",
       "      <td>normal</td>\n",
       "      <td>normal pink</td>\n",
       "      <td>&lt; 3 seconds</td>\n",
       "      <td>...</td>\n",
       "      <td>NaN</td>\n",
       "      <td>NaN</td>\n",
       "      <td>1.0</td>\n",
       "      <td>2</td>\n",
       "      <td>0</td>\n",
       "      <td>0</td>\n",
       "      <td>0</td>\n",
       "      <td>2</td>\n",
       "      <td>NaN</td>\n",
       "      <td>normal</td>\n",
       "    </tr>\n",
       "    <tr>\n",
       "      <th>295</th>\n",
       "      <td>1.0</td>\n",
       "      <td>Adult</td>\n",
       "      <td>533886</td>\n",
       "      <td>NaN</td>\n",
       "      <td>120.0</td>\n",
       "      <td>70.0</td>\n",
       "      <td>cold</td>\n",
       "      <td>NaN</td>\n",
       "      <td>pale cyanotic</td>\n",
       "      <td>&gt;= 3 seconds</td>\n",
       "      <td>...</td>\n",
       "      <td>NaN</td>\n",
       "      <td>NaN</td>\n",
       "      <td>3.0</td>\n",
       "      <td>2</td>\n",
       "      <td>3205</td>\n",
       "      <td>0</td>\n",
       "      <td>0</td>\n",
       "      <td>2</td>\n",
       "      <td>NaN</td>\n",
       "      <td>serious circulatory compromise</td>\n",
       "    </tr>\n",
       "    <tr>\n",
       "      <th>299</th>\n",
       "      <td>1.0</td>\n",
       "      <td>Adult</td>\n",
       "      <td>534618</td>\n",
       "      <td>37.2</td>\n",
       "      <td>40.0</td>\n",
       "      <td>20.0</td>\n",
       "      <td>NaN</td>\n",
       "      <td>NaN</td>\n",
       "      <td>NaN</td>\n",
       "      <td>NaN</td>\n",
       "      <td>...</td>\n",
       "      <td>1.0</td>\n",
       "      <td>1.0</td>\n",
       "      <td>3.0</td>\n",
       "      <td>2</td>\n",
       "      <td>6112</td>\n",
       "      <td>0</td>\n",
       "      <td>0</td>\n",
       "      <td>2</td>\n",
       "      <td>NaN</td>\n",
       "      <td>None</td>\n",
       "    </tr>\n",
       "  </tbody>\n",
       "</table>\n",
       "<p>79 rows × 30 columns</p>\n",
       "</div>"
      ],
      "text/plain": [
       "    surgery    age  hospital_number  r_temperature  pulse  resp_rate  \\\n",
       "1       1.0  Adult           534817           39.2   88.0       20.0   \n",
       "14      1.0  Adult           534917           38.2   76.0       28.0   \n",
       "23      1.0  Young           534998           38.3  130.0       60.0   \n",
       "24      1.0  Adult           533692           38.1   60.0       12.0   \n",
       "29      2.0  Adult           535415           37.7   48.0        NaN   \n",
       "..      ...    ...              ...            ...    ...        ...   \n",
       "290     2.0  Adult           535054           38.6   45.0       16.0   \n",
       "293     1.0  Adult           534004            NaN   78.0       24.0   \n",
       "294     2.0  Adult           533902           38.5   40.0       16.0   \n",
       "295     1.0  Adult           533886            NaN  120.0       70.0   \n",
       "299     1.0  Adult           534618           37.2   40.0       20.0   \n",
       "\n",
       "    ext_temperature per_pulse   muc_membraes  cap_ref_time  ...  \\\n",
       "1               NaN       NaN  pale cyanotic   < 3 seconds  ...   \n",
       "14             cool    normal    normal pink   < 3 seconds  ...   \n",
       "23              NaN   reduced            NaN   < 3 seconds  ...   \n",
       "24             cool   reduced      pale pink   < 3 seconds  ...   \n",
       "29             warm    normal    normal pink   < 3 seconds  ...   \n",
       "..              ...       ...            ...           ...  ...   \n",
       "290            warm    normal    bright pink   < 3 seconds  ...   \n",
       "293            cool   reduced      pale pink   < 3 seconds  ...   \n",
       "294          normal    normal    normal pink   < 3 seconds  ...   \n",
       "295            cold       NaN  pale cyanotic  >= 3 seconds  ...   \n",
       "299             NaN       NaN            NaN           NaN  ...   \n",
       "\n",
       "    abd_appearance abd_protein outcome surgical_lesion type_lesion_1  \\\n",
       "1              2.0         2.0     3.0               2          2208   \n",
       "14             1.0         2.0     1.0               1          2112   \n",
       "23             NaN         NaN     1.0               1          3111   \n",
       "24             NaN         NaN     1.0               1          3111   \n",
       "29             NaN         NaN     1.0               2             0   \n",
       "..             ...         ...     ...             ...           ...   \n",
       "290            NaN         NaN     1.0               2             0   \n",
       "293            NaN         2.0     3.0               2          2209   \n",
       "294            NaN         NaN     1.0               2             0   \n",
       "295            NaN         NaN     3.0               2          3205   \n",
       "299            1.0         1.0     3.0               2          6112   \n",
       "\n",
       "     type_lesion_2 type_lesion_3 cp_data  extra  \\\n",
       "1                0             0       2    NaN   \n",
       "14               0             0       2    NaN   \n",
       "23               0             0       2    NaN   \n",
       "24               0             0       2    NaN   \n",
       "29               0             0       2    NaN   \n",
       "..             ...           ...     ...    ...   \n",
       "290              0             0       2    NaN   \n",
       "293              0             0       2    NaN   \n",
       "294              0             0       2    NaN   \n",
       "295              0             0       2    NaN   \n",
       "299              0             0       2    NaN   \n",
       "\n",
       "                 extra-muc_membraes  \n",
       "1    serious circulatory compromise  \n",
       "14                           normal  \n",
       "23                             None  \n",
       "24                      early chock  \n",
       "29                           normal  \n",
       "..                              ...  \n",
       "290                          normal  \n",
       "293                     early chock  \n",
       "294                          normal  \n",
       "295  serious circulatory compromise  \n",
       "299                            None  \n",
       "\n",
       "[79 rows x 30 columns]"
      ]
     },
     "execution_count": 69,
     "metadata": {},
     "output_type": "execute_result"
    }
   ],
   "source": [
    "df[df['protein']> 40] #loc iloc"
   ]
  },
  {
   "cell_type": "code",
   "execution_count": 70,
   "id": "9538f0f4-b15f-41e6-9126-3cd6904aa6bd",
   "metadata": {},
   "outputs": [
    {
     "data": {
      "text/plain": [
       "<AxesSubplot:xlabel='protein', ylabel='Count'>"
      ]
     },
     "execution_count": 70,
     "metadata": {},
     "output_type": "execute_result"
    },
    {
     "data": {
      "image/png": "[encoded data removed]",
      "text/plain": [
       "<Figure size 432x288 with 1 Axes>"
      ]
     },
     "metadata": {
      "needs_background": "light"
     },
     "output_type": "display_data"
    }
   ],
   "source": [
    "sns.histplot(data = df[df['protein']> 40], x = 'protein')"
   ]
  },
  {
   "cell_type": "code",
   "execution_count": 71,
   "id": "83889bc1-9a4b-4604-94db-d6a5eed6b461",
   "metadata": {},
   "outputs": [],
   "source": [
    "abd_appearance_dict = {\n",
    "    1.0: 'clear',\n",
    "    2.0: 'cloudy',\n",
    "    3.0: 'serosanguinous'\n",
    "}"
   ]
  },
  {
   "cell_type": "code",
   "execution_count": 72,
   "id": "2dcbbcb2-ce5c-454e-9eba-c153d20b9232",
   "metadata": {},
   "outputs": [],
   "source": [
    "df['abd_appearance'] = df['abd_appearance'].map(abd_appearance_dict)"
   ]
  },
  {
   "cell_type": "code",
   "execution_count": 73,
   "id": "7f727bf6-1d98-49f9-9d99-a51932d4d1f0",
   "metadata": {},
   "outputs": [
    {
     "data": {
      "text/plain": [
       "array([nan, 'cloudy', 'serosanguinous', 'clear'], dtype=object)"
      ]
     },
     "execution_count": 73,
     "metadata": {},
     "output_type": "execute_result"
    }
   ],
   "source": [
    "df['abd_appearance'].unique()"
   ]
  },
  {
   "cell_type": "code",
   "execution_count": 74,
   "id": "26452df2-34ae-4ced-a376-f3e966c6af5d",
   "metadata": {},
   "outputs": [
    {
     "data": {
      "text/plain": [
       "<AxesSubplot:ylabel='Frequency'>"
      ]
     },
     "execution_count": 74,
     "metadata": {},
     "output_type": "execute_result"
    },
    {
     "data": {
      "image/png": "[encoded data removed]",
      "text/plain": [
       "<Figure size 432x288 with 1 Axes>"
      ]
     },
     "metadata": {
      "needs_background": "light"
     },
     "output_type": "display_data"
    }
   ],
   "source": [
    "df['abd_protein'].plot(kind = 'hist', bins = 30)"
   ]
  },
  {
   "cell_type": "code",
   "execution_count": 75,
   "id": "49b7e5d1-3457-4dc7-ba09-942e2c6d52f9",
   "metadata": {},
   "outputs": [
    {
     "data": {
      "text/plain": [
       "<AxesSubplot:>"
      ]
     },
     "execution_count": 75,
     "metadata": {},
     "output_type": "execute_result"
    },
    {
     "data": {
      "image/png": "[encoded data removed]",
      "text/plain": [
       "<Figure size 432x288 with 1 Axes>"
      ]
     },
     "metadata": {
      "needs_background": "light"
     },
     "output_type": "display_data"
    }
   ],
   "source": [
    "df['abd_protein'].plot(kind = 'box')"
   ]
  },
  {
   "cell_type": "code",
   "execution_count": 76,
   "id": "69fd2608-11bc-431e-a577-73bce4c61388",
   "metadata": {},
   "outputs": [],
   "source": [
    "outcome_dict = {\n",
    "    1.0: 'lived',\n",
    "    2.0: 'died',\n",
    "    3.0: 'was euthanized'\n",
    "}\n"
   ]
  },
  {
   "cell_type": "code",
   "execution_count": 77,
   "id": "7238bb11-abb1-45f4-b7ca-72c3b96cdba4",
   "metadata": {},
   "outputs": [],
   "source": [
    "df['outcome'] = df['outcome'].map(outcome_dict)"
   ]
  },
  {
   "cell_type": "code",
   "execution_count": 78,
   "id": "3fe5b59d-e3d1-4fca-88ad-95c7c14c4ea5",
   "metadata": {},
   "outputs": [
    {
     "data": {
      "text/plain": [
       "outcome       \n",
       "lived             178\n",
       "died               77\n",
       "was euthanized     44\n",
       "dtype: int64"
      ]
     },
     "execution_count": 78,
     "metadata": {},
     "output_type": "execute_result"
    }
   ],
   "source": [
    "df[['outcome']].value_counts()"
   ]
  },
  {
   "cell_type": "code",
   "execution_count": 79,
   "id": "f6a34b7b-fd23-484e-b8fc-f774372a475f",
   "metadata": {},
   "outputs": [],
   "source": [
    "df['surgical_lesion'] = df[['surgical_lesion']].applymap(lambda x: True if x== 1 else False)"
   ]
  },
  {
   "cell_type": "code",
   "execution_count": 80,
   "id": "12b4b9f9-af3f-4dfd-8364-de787d7ee15a",
   "metadata": {},
   "outputs": [],
   "source": [
    "df = df.drop('extra', axis = 1)"
   ]
  },
  {
   "cell_type": "code",
   "execution_count": 81,
   "id": "ee78062b-3636-4408-aa43-ff4a5a66042c",
   "metadata": {},
   "outputs": [
    {
     "data": {
      "text/html": [
       "<div>\n",
       "<style scoped>\n",
       "    .dataframe tbody tr th:only-of-type {\n",
       "        vertical-align: middle;\n",
       "    }\n",
       "\n",
       "    .dataframe tbody tr th {\n",
       "        vertical-align: top;\n",
       "    }\n",
       "\n",
       "    .dataframe thead th {\n",
       "        text-align: right;\n",
       "    }\n",
       "</style>\n",
       "<table border=\"1\" class=\"dataframe\">\n",
       "  <thead>\n",
       "    <tr style=\"text-align: right;\">\n",
       "      <th></th>\n",
       "      <th>surgery</th>\n",
       "      <th>age</th>\n",
       "      <th>hospital_number</th>\n",
       "      <th>r_temperature</th>\n",
       "      <th>pulse</th>\n",
       "      <th>resp_rate</th>\n",
       "      <th>ext_temperature</th>\n",
       "      <th>per_pulse</th>\n",
       "      <th>muc_membraes</th>\n",
       "      <th>cap_ref_time</th>\n",
       "      <th>...</th>\n",
       "      <th>protein</th>\n",
       "      <th>abd_appearance</th>\n",
       "      <th>abd_protein</th>\n",
       "      <th>outcome</th>\n",
       "      <th>surgical_lesion</th>\n",
       "      <th>type_lesion_1</th>\n",
       "      <th>type_lesion_2</th>\n",
       "      <th>type_lesion_3</th>\n",
       "      <th>cp_data</th>\n",
       "      <th>extra-muc_membraes</th>\n",
       "    </tr>\n",
       "  </thead>\n",
       "  <tbody>\n",
       "    <tr>\n",
       "      <th>0</th>\n",
       "      <td>2.0</td>\n",
       "      <td>Adult</td>\n",
       "      <td>530101</td>\n",
       "      <td>38.5</td>\n",
       "      <td>66.0</td>\n",
       "      <td>28.0</td>\n",
       "      <td>cool</td>\n",
       "      <td>reduced</td>\n",
       "      <td>NaN</td>\n",
       "      <td>&gt;= 3 seconds</td>\n",
       "      <td>...</td>\n",
       "      <td>8.4</td>\n",
       "      <td>NaN</td>\n",
       "      <td>NaN</td>\n",
       "      <td>died</td>\n",
       "      <td>False</td>\n",
       "      <td>11300</td>\n",
       "      <td>0</td>\n",
       "      <td>0</td>\n",
       "      <td>2</td>\n",
       "      <td>None</td>\n",
       "    </tr>\n",
       "    <tr>\n",
       "      <th>1</th>\n",
       "      <td>1.0</td>\n",
       "      <td>Adult</td>\n",
       "      <td>534817</td>\n",
       "      <td>39.2</td>\n",
       "      <td>88.0</td>\n",
       "      <td>20.0</td>\n",
       "      <td>NaN</td>\n",
       "      <td>NaN</td>\n",
       "      <td>pale cyanotic</td>\n",
       "      <td>&lt; 3 seconds</td>\n",
       "      <td>...</td>\n",
       "      <td>85.0</td>\n",
       "      <td>cloudy</td>\n",
       "      <td>2.0</td>\n",
       "      <td>was euthanized</td>\n",
       "      <td>False</td>\n",
       "      <td>2208</td>\n",
       "      <td>0</td>\n",
       "      <td>0</td>\n",
       "      <td>2</td>\n",
       "      <td>serious circulatory compromise</td>\n",
       "    </tr>\n",
       "    <tr>\n",
       "      <th>2</th>\n",
       "      <td>2.0</td>\n",
       "      <td>Adult</td>\n",
       "      <td>530334</td>\n",
       "      <td>38.3</td>\n",
       "      <td>40.0</td>\n",
       "      <td>24.0</td>\n",
       "      <td>normal</td>\n",
       "      <td>normal</td>\n",
       "      <td>pale pink</td>\n",
       "      <td>&lt; 3 seconds</td>\n",
       "      <td>...</td>\n",
       "      <td>6.7</td>\n",
       "      <td>NaN</td>\n",
       "      <td>NaN</td>\n",
       "      <td>lived</td>\n",
       "      <td>False</td>\n",
       "      <td>0</td>\n",
       "      <td>0</td>\n",
       "      <td>0</td>\n",
       "      <td>1</td>\n",
       "      <td>early chock</td>\n",
       "    </tr>\n",
       "    <tr>\n",
       "      <th>3</th>\n",
       "      <td>1.0</td>\n",
       "      <td>Young</td>\n",
       "      <td>5290409</td>\n",
       "      <td>39.1</td>\n",
       "      <td>164.0</td>\n",
       "      <td>84.0</td>\n",
       "      <td>cold</td>\n",
       "      <td>normal</td>\n",
       "      <td>dark cyanotic</td>\n",
       "      <td>&gt;= 3 seconds</td>\n",
       "      <td>...</td>\n",
       "      <td>7.2</td>\n",
       "      <td>serosanguinous</td>\n",
       "      <td>5.3</td>\n",
       "      <td>died</td>\n",
       "      <td>True</td>\n",
       "      <td>2208</td>\n",
       "      <td>0</td>\n",
       "      <td>0</td>\n",
       "      <td>1</td>\n",
       "      <td>serious circulatory compromise</td>\n",
       "    </tr>\n",
       "    <tr>\n",
       "      <th>4</th>\n",
       "      <td>2.0</td>\n",
       "      <td>Adult</td>\n",
       "      <td>530255</td>\n",
       "      <td>37.3</td>\n",
       "      <td>104.0</td>\n",
       "      <td>35.0</td>\n",
       "      <td>NaN</td>\n",
       "      <td>NaN</td>\n",
       "      <td>dark cyanotic</td>\n",
       "      <td>&gt;= 3 seconds</td>\n",
       "      <td>...</td>\n",
       "      <td>7.4</td>\n",
       "      <td>NaN</td>\n",
       "      <td>NaN</td>\n",
       "      <td>died</td>\n",
       "      <td>False</td>\n",
       "      <td>4300</td>\n",
       "      <td>0</td>\n",
       "      <td>0</td>\n",
       "      <td>2</td>\n",
       "      <td>serious circulatory compromise</td>\n",
       "    </tr>\n",
       "    <tr>\n",
       "      <th>...</th>\n",
       "      <td>...</td>\n",
       "      <td>...</td>\n",
       "      <td>...</td>\n",
       "      <td>...</td>\n",
       "      <td>...</td>\n",
       "      <td>...</td>\n",
       "      <td>...</td>\n",
       "      <td>...</td>\n",
       "      <td>...</td>\n",
       "      <td>...</td>\n",
       "      <td>...</td>\n",
       "      <td>...</td>\n",
       "      <td>...</td>\n",
       "      <td>...</td>\n",
       "      <td>...</td>\n",
       "      <td>...</td>\n",
       "      <td>...</td>\n",
       "      <td>...</td>\n",
       "      <td>...</td>\n",
       "      <td>...</td>\n",
       "      <td>...</td>\n",
       "    </tr>\n",
       "    <tr>\n",
       "      <th>295</th>\n",
       "      <td>1.0</td>\n",
       "      <td>Adult</td>\n",
       "      <td>533886</td>\n",
       "      <td>NaN</td>\n",
       "      <td>120.0</td>\n",
       "      <td>70.0</td>\n",
       "      <td>cold</td>\n",
       "      <td>NaN</td>\n",
       "      <td>pale cyanotic</td>\n",
       "      <td>&gt;= 3 seconds</td>\n",
       "      <td>...</td>\n",
       "      <td>65.0</td>\n",
       "      <td>NaN</td>\n",
       "      <td>NaN</td>\n",
       "      <td>was euthanized</td>\n",
       "      <td>False</td>\n",
       "      <td>3205</td>\n",
       "      <td>0</td>\n",
       "      <td>0</td>\n",
       "      <td>2</td>\n",
       "      <td>serious circulatory compromise</td>\n",
       "    </tr>\n",
       "    <tr>\n",
       "      <th>296</th>\n",
       "      <td>2.0</td>\n",
       "      <td>Adult</td>\n",
       "      <td>527702</td>\n",
       "      <td>37.2</td>\n",
       "      <td>72.0</td>\n",
       "      <td>24.0</td>\n",
       "      <td>cool</td>\n",
       "      <td>increased</td>\n",
       "      <td>pale cyanotic</td>\n",
       "      <td>&gt;= 3 seconds</td>\n",
       "      <td>...</td>\n",
       "      <td>NaN</td>\n",
       "      <td>serosanguinous</td>\n",
       "      <td>3.3</td>\n",
       "      <td>was euthanized</td>\n",
       "      <td>True</td>\n",
       "      <td>2208</td>\n",
       "      <td>0</td>\n",
       "      <td>0</td>\n",
       "      <td>1</td>\n",
       "      <td>serious circulatory compromise</td>\n",
       "    </tr>\n",
       "    <tr>\n",
       "      <th>297</th>\n",
       "      <td>1.0</td>\n",
       "      <td>Adult</td>\n",
       "      <td>529386</td>\n",
       "      <td>37.5</td>\n",
       "      <td>72.0</td>\n",
       "      <td>30.0</td>\n",
       "      <td>cold</td>\n",
       "      <td>reduced</td>\n",
       "      <td>pale cyanotic</td>\n",
       "      <td>&lt; 3 seconds</td>\n",
       "      <td>...</td>\n",
       "      <td>6.8</td>\n",
       "      <td>NaN</td>\n",
       "      <td>NaN</td>\n",
       "      <td>died</td>\n",
       "      <td>True</td>\n",
       "      <td>3205</td>\n",
       "      <td>0</td>\n",
       "      <td>0</td>\n",
       "      <td>2</td>\n",
       "      <td>serious circulatory compromise</td>\n",
       "    </tr>\n",
       "    <tr>\n",
       "      <th>298</th>\n",
       "      <td>1.0</td>\n",
       "      <td>Adult</td>\n",
       "      <td>530612</td>\n",
       "      <td>36.5</td>\n",
       "      <td>100.0</td>\n",
       "      <td>24.0</td>\n",
       "      <td>cool</td>\n",
       "      <td>reduced</td>\n",
       "      <td>pale pink</td>\n",
       "      <td>&lt; 3 seconds</td>\n",
       "      <td>...</td>\n",
       "      <td>6.0</td>\n",
       "      <td>serosanguinous</td>\n",
       "      <td>3.4</td>\n",
       "      <td>lived</td>\n",
       "      <td>True</td>\n",
       "      <td>2208</td>\n",
       "      <td>0</td>\n",
       "      <td>0</td>\n",
       "      <td>1</td>\n",
       "      <td>early chock</td>\n",
       "    </tr>\n",
       "    <tr>\n",
       "      <th>299</th>\n",
       "      <td>1.0</td>\n",
       "      <td>Adult</td>\n",
       "      <td>534618</td>\n",
       "      <td>37.2</td>\n",
       "      <td>40.0</td>\n",
       "      <td>20.0</td>\n",
       "      <td>NaN</td>\n",
       "      <td>NaN</td>\n",
       "      <td>NaN</td>\n",
       "      <td>NaN</td>\n",
       "      <td>...</td>\n",
       "      <td>62.0</td>\n",
       "      <td>clear</td>\n",
       "      <td>1.0</td>\n",
       "      <td>was euthanized</td>\n",
       "      <td>False</td>\n",
       "      <td>6112</td>\n",
       "      <td>0</td>\n",
       "      <td>0</td>\n",
       "      <td>2</td>\n",
       "      <td>None</td>\n",
       "    </tr>\n",
       "  </tbody>\n",
       "</table>\n",
       "<p>300 rows × 29 columns</p>\n",
       "</div>"
      ],
      "text/plain": [
       "    surgery    age  hospital_number  r_temperature  pulse  resp_rate  \\\n",
       "0       2.0  Adult           530101           38.5   66.0       28.0   \n",
       "1       1.0  Adult           534817           39.2   88.0       20.0   \n",
       "2       2.0  Adult           530334           38.3   40.0       24.0   \n",
       "3       1.0  Young          5290409           39.1  164.0       84.0   \n",
       "4       2.0  Adult           530255           37.3  104.0       35.0   \n",
       "..      ...    ...              ...            ...    ...        ...   \n",
       "295     1.0  Adult           533886            NaN  120.0       70.0   \n",
       "296     2.0  Adult           527702           37.2   72.0       24.0   \n",
       "297     1.0  Adult           529386           37.5   72.0       30.0   \n",
       "298     1.0  Adult           530612           36.5  100.0       24.0   \n",
       "299     1.0  Adult           534618           37.2   40.0       20.0   \n",
       "\n",
       "    ext_temperature  per_pulse   muc_membraes  cap_ref_time  ... protein  \\\n",
       "0              cool    reduced            NaN  >= 3 seconds  ...     8.4   \n",
       "1               NaN        NaN  pale cyanotic   < 3 seconds  ...    85.0   \n",
       "2            normal     normal      pale pink   < 3 seconds  ...     6.7   \n",
       "3              cold     normal  dark cyanotic  >= 3 seconds  ...     7.2   \n",
       "4               NaN        NaN  dark cyanotic  >= 3 seconds  ...     7.4   \n",
       "..              ...        ...            ...           ...  ...     ...   \n",
       "295            cold        NaN  pale cyanotic  >= 3 seconds  ...    65.0   \n",
       "296            cool  increased  pale cyanotic  >= 3 seconds  ...     NaN   \n",
       "297            cold    reduced  pale cyanotic   < 3 seconds  ...     6.8   \n",
       "298            cool    reduced      pale pink   < 3 seconds  ...     6.0   \n",
       "299             NaN        NaN            NaN           NaN  ...    62.0   \n",
       "\n",
       "     abd_appearance abd_protein         outcome surgical_lesion  \\\n",
       "0               NaN         NaN            died           False   \n",
       "1            cloudy         2.0  was euthanized           False   \n",
       "2               NaN         NaN           lived           False   \n",
       "3    serosanguinous         5.3            died            True   \n",
       "4               NaN         NaN            died           False   \n",
       "..              ...         ...             ...             ...   \n",
       "295             NaN         NaN  was euthanized           False   \n",
       "296  serosanguinous         3.3  was euthanized            True   \n",
       "297             NaN         NaN            died            True   \n",
       "298  serosanguinous         3.4           lived            True   \n",
       "299           clear         1.0  was euthanized           False   \n",
       "\n",
       "     type_lesion_1 type_lesion_2 type_lesion_3  cp_data  \\\n",
       "0            11300             0             0        2   \n",
       "1             2208             0             0        2   \n",
       "2                0             0             0        1   \n",
       "3             2208             0             0        1   \n",
       "4             4300             0             0        2   \n",
       "..             ...           ...           ...      ...   \n",
       "295           3205             0             0        2   \n",
       "296           2208             0             0        1   \n",
       "297           3205             0             0        2   \n",
       "298           2208             0             0        1   \n",
       "299           6112             0             0        2   \n",
       "\n",
       "                 extra-muc_membraes  \n",
       "0                              None  \n",
       "1    serious circulatory compromise  \n",
       "2                       early chock  \n",
       "3    serious circulatory compromise  \n",
       "4    serious circulatory compromise  \n",
       "..                              ...  \n",
       "295  serious circulatory compromise  \n",
       "296  serious circulatory compromise  \n",
       "297  serious circulatory compromise  \n",
       "298                     early chock  \n",
       "299                            None  \n",
       "\n",
       "[300 rows x 29 columns]"
      ]
     },
     "execution_count": 81,
     "metadata": {},
     "output_type": "execute_result"
    }
   ],
   "source": [
    "df"
   ]
  },
  {
   "cell_type": "markdown",
   "id": "21cdaa54-ca33-4123-9919-5c562e6800b1",
   "metadata": {},
   "source": [
    "## Implementar el modelo"
   ]
  },
  {
   "cell_type": "code",
   "execution_count": 84,
   "id": "a8409fd4-2e6e-4028-8b0b-904c9df8c35c",
   "metadata": {},
   "outputs": [
    {
     "data": {
      "text/plain": [
       "surgery                0.333333\n",
       "age                    0.000000\n",
       "hospital_number        0.000000\n",
       "r_temperature         20.000000\n",
       "pulse                  8.000000\n",
       "resp_rate             19.333333\n",
       "ext_temperature       18.666667\n",
       "per_pulse             23.000000\n",
       "muc_membraes          15.666667\n",
       "cap_ref_time          10.666667\n",
       "pain                  18.333333\n",
       "peristalsis           14.666667\n",
       "abd_distension        18.666667\n",
       "naso_tub              34.666667\n",
       "naso_reflux           35.333333\n",
       "naso_reflux_ph        82.333333\n",
       "rect_exam             34.000000\n",
       "abdomen               39.333333\n",
       "pack_cell_vol          9.666667\n",
       "protein               11.000000\n",
       "abd_appearance        55.000000\n",
       "abd_protein           66.000000\n",
       "outcome                0.333333\n",
       "surgical_lesion        0.000000\n",
       "type_lesion_1          0.000000\n",
       "type_lesion_2          0.000000\n",
       "type_lesion_3          0.000000\n",
       "cp_data                0.000000\n",
       "extra-muc_membraes    15.666667\n",
       "dtype: float64"
      ]
     },
     "execution_count": 84,
     "metadata": {},
     "output_type": "execute_result"
    }
   ],
   "source": [
    "#veamos el nímero de nulos que tienen nuestros datos. \n",
    "df.isnull().mean()*100\n",
    "#Esta forma nos permite ver el porcentaje de entradas que son nulas por cada una de las columnas=>variables"
   ]
  },
  {
   "cell_type": "code",
   "execution_count": 85,
   "id": "1877ae85-ba92-49cf-95a3-ac8705e28519",
   "metadata": {},
   "outputs": [],
   "source": [
    "#el objetivo es revisar cuantos datos nulos hay y seleccionar las columnas que son relevantes para el modelo\n",
    "#En este caso vamos a seleccionar como variables relevantes, aquellas que no tengan más del 50% de datos nulos\n",
    "#entonces vamos ordenar las columnas según su valor de datos nulos"
   ]
  },
  {
   "cell_type": "code",
   "execution_count": 87,
   "id": "1403aa20-a2fb-464a-97c0-e377b8a6b7ea",
   "metadata": {},
   "outputs": [
    {
     "data": {
      "text/html": [
       "<div>\n",
       "<style scoped>\n",
       "    .dataframe tbody tr th:only-of-type {\n",
       "        vertical-align: middle;\n",
       "    }\n",
       "\n",
       "    .dataframe tbody tr th {\n",
       "        vertical-align: top;\n",
       "    }\n",
       "\n",
       "    .dataframe thead th {\n",
       "        text-align: right;\n",
       "    }\n",
       "</style>\n",
       "<table border=\"1\" class=\"dataframe\">\n",
       "  <thead>\n",
       "    <tr style=\"text-align: right;\">\n",
       "      <th></th>\n",
       "      <th>% Nulos</th>\n",
       "    </tr>\n",
       "  </thead>\n",
       "  <tbody>\n",
       "    <tr>\n",
       "      <th>surgery</th>\n",
       "      <td>0.003333</td>\n",
       "    </tr>\n",
       "    <tr>\n",
       "      <th>age</th>\n",
       "      <td>0.000000</td>\n",
       "    </tr>\n",
       "    <tr>\n",
       "      <th>hospital_number</th>\n",
       "      <td>0.000000</td>\n",
       "    </tr>\n",
       "    <tr>\n",
       "      <th>r_temperature</th>\n",
       "      <td>0.200000</td>\n",
       "    </tr>\n",
       "    <tr>\n",
       "      <th>pulse</th>\n",
       "      <td>0.080000</td>\n",
       "    </tr>\n",
       "    <tr>\n",
       "      <th>resp_rate</th>\n",
       "      <td>0.193333</td>\n",
       "    </tr>\n",
       "    <tr>\n",
       "      <th>ext_temperature</th>\n",
       "      <td>0.186667</td>\n",
       "    </tr>\n",
       "    <tr>\n",
       "      <th>per_pulse</th>\n",
       "      <td>0.230000</td>\n",
       "    </tr>\n",
       "    <tr>\n",
       "      <th>muc_membraes</th>\n",
       "      <td>0.156667</td>\n",
       "    </tr>\n",
       "    <tr>\n",
       "      <th>cap_ref_time</th>\n",
       "      <td>0.106667</td>\n",
       "    </tr>\n",
       "    <tr>\n",
       "      <th>pain</th>\n",
       "      <td>0.183333</td>\n",
       "    </tr>\n",
       "    <tr>\n",
       "      <th>peristalsis</th>\n",
       "      <td>0.146667</td>\n",
       "    </tr>\n",
       "    <tr>\n",
       "      <th>abd_distension</th>\n",
       "      <td>0.186667</td>\n",
       "    </tr>\n",
       "    <tr>\n",
       "      <th>naso_tub</th>\n",
       "      <td>0.346667</td>\n",
       "    </tr>\n",
       "    <tr>\n",
       "      <th>naso_reflux</th>\n",
       "      <td>0.353333</td>\n",
       "    </tr>\n",
       "    <tr>\n",
       "      <th>naso_reflux_ph</th>\n",
       "      <td>0.823333</td>\n",
       "    </tr>\n",
       "    <tr>\n",
       "      <th>rect_exam</th>\n",
       "      <td>0.340000</td>\n",
       "    </tr>\n",
       "    <tr>\n",
       "      <th>abdomen</th>\n",
       "      <td>0.393333</td>\n",
       "    </tr>\n",
       "    <tr>\n",
       "      <th>pack_cell_vol</th>\n",
       "      <td>0.096667</td>\n",
       "    </tr>\n",
       "    <tr>\n",
       "      <th>protein</th>\n",
       "      <td>0.110000</td>\n",
       "    </tr>\n",
       "    <tr>\n",
       "      <th>abd_appearance</th>\n",
       "      <td>0.550000</td>\n",
       "    </tr>\n",
       "    <tr>\n",
       "      <th>abd_protein</th>\n",
       "      <td>0.660000</td>\n",
       "    </tr>\n",
       "    <tr>\n",
       "      <th>outcome</th>\n",
       "      <td>0.003333</td>\n",
       "    </tr>\n",
       "    <tr>\n",
       "      <th>surgical_lesion</th>\n",
       "      <td>0.000000</td>\n",
       "    </tr>\n",
       "    <tr>\n",
       "      <th>type_lesion_1</th>\n",
       "      <td>0.000000</td>\n",
       "    </tr>\n",
       "    <tr>\n",
       "      <th>type_lesion_2</th>\n",
       "      <td>0.000000</td>\n",
       "    </tr>\n",
       "    <tr>\n",
       "      <th>type_lesion_3</th>\n",
       "      <td>0.000000</td>\n",
       "    </tr>\n",
       "    <tr>\n",
       "      <th>cp_data</th>\n",
       "      <td>0.000000</td>\n",
       "    </tr>\n",
       "    <tr>\n",
       "      <th>extra-muc_membraes</th>\n",
       "      <td>0.156667</td>\n",
       "    </tr>\n",
       "  </tbody>\n",
       "</table>\n",
       "</div>"
      ],
      "text/plain": [
       "                     % Nulos\n",
       "surgery             0.003333\n",
       "age                 0.000000\n",
       "hospital_number     0.000000\n",
       "r_temperature       0.200000\n",
       "pulse               0.080000\n",
       "resp_rate           0.193333\n",
       "ext_temperature     0.186667\n",
       "per_pulse           0.230000\n",
       "muc_membraes        0.156667\n",
       "cap_ref_time        0.106667\n",
       "pain                0.183333\n",
       "peristalsis         0.146667\n",
       "abd_distension      0.186667\n",
       "naso_tub            0.346667\n",
       "naso_reflux         0.353333\n",
       "naso_reflux_ph      0.823333\n",
       "rect_exam           0.340000\n",
       "abdomen             0.393333\n",
       "pack_cell_vol       0.096667\n",
       "protein             0.110000\n",
       "abd_appearance      0.550000\n",
       "abd_protein         0.660000\n",
       "outcome             0.003333\n",
       "surgical_lesion     0.000000\n",
       "type_lesion_1       0.000000\n",
       "type_lesion_2       0.000000\n",
       "type_lesion_3       0.000000\n",
       "cp_data             0.000000\n",
       "extra-muc_membraes  0.156667"
      ]
     },
     "execution_count": 87,
     "metadata": {},
     "output_type": "execute_result"
    }
   ],
   "source": [
    "#Para eso vamos a crear un dataframe con los valores de datos nulos, que encontramos antes\n",
    "pd.DataFrame(df.isnull().mean(), columns = ['% Nulos'])\n",
    "#el nombre %Nulos es un muy buen nombre si quiero mostrar los datos, pero si quiero exportarlos\n",
    "#como a un CSV o algo similar, lo mejor es no usar nombres raros. Ej: porc_nulos"
   ]
  },
  {
   "cell_type": "code",
   "execution_count": 91,
   "id": "b1ceb9bf-1a87-4acc-8b30-9b14c30282ab",
   "metadata": {},
   "outputs": [],
   "source": [
    "#guardemos el dataframe que acabamos de crear\n",
    "nulos = pd.DataFrame(df.isnull().mean()*100, columns = ['% Nulos'])"
   ]
  },
  {
   "cell_type": "code",
   "execution_count": 92,
   "id": "b10bf2cf-6805-4d94-a679-7d5f87d19f1c",
   "metadata": {},
   "outputs": [
    {
     "data": {
      "text/html": [
       "<div>\n",
       "<style scoped>\n",
       "    .dataframe tbody tr th:only-of-type {\n",
       "        vertical-align: middle;\n",
       "    }\n",
       "\n",
       "    .dataframe tbody tr th {\n",
       "        vertical-align: top;\n",
       "    }\n",
       "\n",
       "    .dataframe thead th {\n",
       "        text-align: right;\n",
       "    }\n",
       "</style>\n",
       "<table border=\"1\" class=\"dataframe\">\n",
       "  <thead>\n",
       "    <tr style=\"text-align: right;\">\n",
       "      <th></th>\n",
       "      <th>% Nulos</th>\n",
       "    </tr>\n",
       "  </thead>\n",
       "  <tbody>\n",
       "    <tr>\n",
       "      <th>age</th>\n",
       "      <td>0.000000</td>\n",
       "    </tr>\n",
       "    <tr>\n",
       "      <th>hospital_number</th>\n",
       "      <td>0.000000</td>\n",
       "    </tr>\n",
       "    <tr>\n",
       "      <th>type_lesion_3</th>\n",
       "      <td>0.000000</td>\n",
       "    </tr>\n",
       "    <tr>\n",
       "      <th>type_lesion_2</th>\n",
       "      <td>0.000000</td>\n",
       "    </tr>\n",
       "    <tr>\n",
       "      <th>type_lesion_1</th>\n",
       "      <td>0.000000</td>\n",
       "    </tr>\n",
       "    <tr>\n",
       "      <th>surgical_lesion</th>\n",
       "      <td>0.000000</td>\n",
       "    </tr>\n",
       "    <tr>\n",
       "      <th>cp_data</th>\n",
       "      <td>0.000000</td>\n",
       "    </tr>\n",
       "    <tr>\n",
       "      <th>surgery</th>\n",
       "      <td>0.333333</td>\n",
       "    </tr>\n",
       "    <tr>\n",
       "      <th>outcome</th>\n",
       "      <td>0.333333</td>\n",
       "    </tr>\n",
       "    <tr>\n",
       "      <th>pulse</th>\n",
       "      <td>8.000000</td>\n",
       "    </tr>\n",
       "    <tr>\n",
       "      <th>pack_cell_vol</th>\n",
       "      <td>9.666667</td>\n",
       "    </tr>\n",
       "    <tr>\n",
       "      <th>cap_ref_time</th>\n",
       "      <td>10.666667</td>\n",
       "    </tr>\n",
       "    <tr>\n",
       "      <th>protein</th>\n",
       "      <td>11.000000</td>\n",
       "    </tr>\n",
       "    <tr>\n",
       "      <th>peristalsis</th>\n",
       "      <td>14.666667</td>\n",
       "    </tr>\n",
       "    <tr>\n",
       "      <th>extra-muc_membraes</th>\n",
       "      <td>15.666667</td>\n",
       "    </tr>\n",
       "    <tr>\n",
       "      <th>muc_membraes</th>\n",
       "      <td>15.666667</td>\n",
       "    </tr>\n",
       "    <tr>\n",
       "      <th>pain</th>\n",
       "      <td>18.333333</td>\n",
       "    </tr>\n",
       "    <tr>\n",
       "      <th>abd_distension</th>\n",
       "      <td>18.666667</td>\n",
       "    </tr>\n",
       "    <tr>\n",
       "      <th>ext_temperature</th>\n",
       "      <td>18.666667</td>\n",
       "    </tr>\n",
       "    <tr>\n",
       "      <th>resp_rate</th>\n",
       "      <td>19.333333</td>\n",
       "    </tr>\n",
       "    <tr>\n",
       "      <th>r_temperature</th>\n",
       "      <td>20.000000</td>\n",
       "    </tr>\n",
       "    <tr>\n",
       "      <th>per_pulse</th>\n",
       "      <td>23.000000</td>\n",
       "    </tr>\n",
       "    <tr>\n",
       "      <th>rect_exam</th>\n",
       "      <td>34.000000</td>\n",
       "    </tr>\n",
       "    <tr>\n",
       "      <th>naso_tub</th>\n",
       "      <td>34.666667</td>\n",
       "    </tr>\n",
       "    <tr>\n",
       "      <th>naso_reflux</th>\n",
       "      <td>35.333333</td>\n",
       "    </tr>\n",
       "    <tr>\n",
       "      <th>abdomen</th>\n",
       "      <td>39.333333</td>\n",
       "    </tr>\n",
       "    <tr>\n",
       "      <th>abd_appearance</th>\n",
       "      <td>55.000000</td>\n",
       "    </tr>\n",
       "    <tr>\n",
       "      <th>abd_protein</th>\n",
       "      <td>66.000000</td>\n",
       "    </tr>\n",
       "    <tr>\n",
       "      <th>naso_reflux_ph</th>\n",
       "      <td>82.333333</td>\n",
       "    </tr>\n",
       "  </tbody>\n",
       "</table>\n",
       "</div>"
      ],
      "text/plain": [
       "                      % Nulos\n",
       "age                  0.000000\n",
       "hospital_number      0.000000\n",
       "type_lesion_3        0.000000\n",
       "type_lesion_2        0.000000\n",
       "type_lesion_1        0.000000\n",
       "surgical_lesion      0.000000\n",
       "cp_data              0.000000\n",
       "surgery              0.333333\n",
       "outcome              0.333333\n",
       "pulse                8.000000\n",
       "pack_cell_vol        9.666667\n",
       "cap_ref_time        10.666667\n",
       "protein             11.000000\n",
       "peristalsis         14.666667\n",
       "extra-muc_membraes  15.666667\n",
       "muc_membraes        15.666667\n",
       "pain                18.333333\n",
       "abd_distension      18.666667\n",
       "ext_temperature     18.666667\n",
       "resp_rate           19.333333\n",
       "r_temperature       20.000000\n",
       "per_pulse           23.000000\n",
       "rect_exam           34.000000\n",
       "naso_tub            34.666667\n",
       "naso_reflux         35.333333\n",
       "abdomen             39.333333\n",
       "abd_appearance      55.000000\n",
       "abd_protein         66.000000\n",
       "naso_reflux_ph      82.333333"
      ]
     },
     "execution_count": 92,
     "metadata": {},
     "output_type": "execute_result"
    }
   ],
   "source": [
    "#ordenamos nuestro nuevo dataframe\n",
    "nulos.sort_values(['% Nulos'])\n",
    "#este método ordena de forma ascendente los valores. \n",
    "#no es necesario poner los paréntesis cuadrados: nulos.sort_values('% Nulos')\n",
    "#sin embargo poner los paréntesis cuadrados nos sirve si queremos ordenar por medio de varias columnas"
   ]
  },
  {
   "cell_type": "code",
   "execution_count": 93,
   "id": "388da0a9-beab-42e2-941f-9b39b6b5597a",
   "metadata": {},
   "outputs": [],
   "source": [
    "#guardamos el orden y lo ponemos de forma descendente\n",
    "nulos = nulos.sort_values(['% Nulos'], ascending = False)"
   ]
  },
  {
   "cell_type": "code",
   "execution_count": 95,
   "id": "f93c305e-9496-4fa7-9464-d9961ea7420f",
   "metadata": {},
   "outputs": [
    {
     "data": {
      "text/html": [
       "<div>\n",
       "<style scoped>\n",
       "    .dataframe tbody tr th:only-of-type {\n",
       "        vertical-align: middle;\n",
       "    }\n",
       "\n",
       "    .dataframe tbody tr th {\n",
       "        vertical-align: top;\n",
       "    }\n",
       "\n",
       "    .dataframe thead th {\n",
       "        text-align: right;\n",
       "    }\n",
       "</style>\n",
       "<table border=\"1\" class=\"dataframe\">\n",
       "  <thead>\n",
       "    <tr style=\"text-align: right;\">\n",
       "      <th></th>\n",
       "      <th>% Nulos</th>\n",
       "    </tr>\n",
       "  </thead>\n",
       "  <tbody>\n",
       "    <tr>\n",
       "      <th>naso_reflux_ph</th>\n",
       "      <td>82.333333</td>\n",
       "    </tr>\n",
       "    <tr>\n",
       "      <th>abd_protein</th>\n",
       "      <td>66.000000</td>\n",
       "    </tr>\n",
       "    <tr>\n",
       "      <th>abd_appearance</th>\n",
       "      <td>55.000000</td>\n",
       "    </tr>\n",
       "    <tr>\n",
       "      <th>abdomen</th>\n",
       "      <td>39.333333</td>\n",
       "    </tr>\n",
       "    <tr>\n",
       "      <th>naso_reflux</th>\n",
       "      <td>35.333333</td>\n",
       "    </tr>\n",
       "    <tr>\n",
       "      <th>naso_tub</th>\n",
       "      <td>34.666667</td>\n",
       "    </tr>\n",
       "    <tr>\n",
       "      <th>rect_exam</th>\n",
       "      <td>34.000000</td>\n",
       "    </tr>\n",
       "    <tr>\n",
       "      <th>per_pulse</th>\n",
       "      <td>23.000000</td>\n",
       "    </tr>\n",
       "    <tr>\n",
       "      <th>r_temperature</th>\n",
       "      <td>20.000000</td>\n",
       "    </tr>\n",
       "    <tr>\n",
       "      <th>resp_rate</th>\n",
       "      <td>19.333333</td>\n",
       "    </tr>\n",
       "    <tr>\n",
       "      <th>ext_temperature</th>\n",
       "      <td>18.666667</td>\n",
       "    </tr>\n",
       "    <tr>\n",
       "      <th>abd_distension</th>\n",
       "      <td>18.666667</td>\n",
       "    </tr>\n",
       "    <tr>\n",
       "      <th>pain</th>\n",
       "      <td>18.333333</td>\n",
       "    </tr>\n",
       "    <tr>\n",
       "      <th>extra-muc_membraes</th>\n",
       "      <td>15.666667</td>\n",
       "    </tr>\n",
       "    <tr>\n",
       "      <th>muc_membraes</th>\n",
       "      <td>15.666667</td>\n",
       "    </tr>\n",
       "    <tr>\n",
       "      <th>peristalsis</th>\n",
       "      <td>14.666667</td>\n",
       "    </tr>\n",
       "    <tr>\n",
       "      <th>protein</th>\n",
       "      <td>11.000000</td>\n",
       "    </tr>\n",
       "    <tr>\n",
       "      <th>cap_ref_time</th>\n",
       "      <td>10.666667</td>\n",
       "    </tr>\n",
       "    <tr>\n",
       "      <th>pack_cell_vol</th>\n",
       "      <td>9.666667</td>\n",
       "    </tr>\n",
       "    <tr>\n",
       "      <th>pulse</th>\n",
       "      <td>8.000000</td>\n",
       "    </tr>\n",
       "    <tr>\n",
       "      <th>outcome</th>\n",
       "      <td>0.333333</td>\n",
       "    </tr>\n",
       "    <tr>\n",
       "      <th>surgery</th>\n",
       "      <td>0.333333</td>\n",
       "    </tr>\n",
       "    <tr>\n",
       "      <th>age</th>\n",
       "      <td>0.000000</td>\n",
       "    </tr>\n",
       "    <tr>\n",
       "      <th>hospital_number</th>\n",
       "      <td>0.000000</td>\n",
       "    </tr>\n",
       "    <tr>\n",
       "      <th>surgical_lesion</th>\n",
       "      <td>0.000000</td>\n",
       "    </tr>\n",
       "    <tr>\n",
       "      <th>type_lesion_1</th>\n",
       "      <td>0.000000</td>\n",
       "    </tr>\n",
       "    <tr>\n",
       "      <th>type_lesion_2</th>\n",
       "      <td>0.000000</td>\n",
       "    </tr>\n",
       "    <tr>\n",
       "      <th>type_lesion_3</th>\n",
       "      <td>0.000000</td>\n",
       "    </tr>\n",
       "    <tr>\n",
       "      <th>cp_data</th>\n",
       "      <td>0.000000</td>\n",
       "    </tr>\n",
       "  </tbody>\n",
       "</table>\n",
       "</div>"
      ],
      "text/plain": [
       "                      % Nulos\n",
       "naso_reflux_ph      82.333333\n",
       "abd_protein         66.000000\n",
       "abd_appearance      55.000000\n",
       "abdomen             39.333333\n",
       "naso_reflux         35.333333\n",
       "naso_tub            34.666667\n",
       "rect_exam           34.000000\n",
       "per_pulse           23.000000\n",
       "r_temperature       20.000000\n",
       "resp_rate           19.333333\n",
       "ext_temperature     18.666667\n",
       "abd_distension      18.666667\n",
       "pain                18.333333\n",
       "extra-muc_membraes  15.666667\n",
       "muc_membraes        15.666667\n",
       "peristalsis         14.666667\n",
       "protein             11.000000\n",
       "cap_ref_time        10.666667\n",
       "pack_cell_vol        9.666667\n",
       "pulse                8.000000\n",
       "outcome              0.333333\n",
       "surgery              0.333333\n",
       "age                  0.000000\n",
       "hospital_number      0.000000\n",
       "surgical_lesion      0.000000\n",
       "type_lesion_1        0.000000\n",
       "type_lesion_2        0.000000\n",
       "type_lesion_3        0.000000\n",
       "cp_data              0.000000"
      ]
     },
     "execution_count": 95,
     "metadata": {},
     "output_type": "execute_result"
    }
   ],
   "source": [
    "#aquí ya tenemos una idea de las columnas que podemos eliminar\n",
    "nulos"
   ]
  },
  {
   "cell_type": "code",
   "execution_count": 113,
   "id": "75177abb-d0aa-4a01-adf4-be66d355850c",
   "metadata": {},
   "outputs": [],
   "source": [
    "#si me equivoco puedo copiar el dataframe, aunque esto no es lo adecuado si tengo muchos datos\n",
    "horses_data = df.copy()"
   ]
  },
  {
   "cell_type": "code",
   "execution_count": 114,
   "id": "bc953afe-6005-433f-b1db-acc5bc9ecdb2",
   "metadata": {},
   "outputs": [],
   "source": [
    "#eliminamos las columnas. Drop primero verifica los valores en los índices, es decir fila por fila. \n",
    "#pero yo no quiero que elimine por las filas, sino por las columnas, y para tenemos dos opciones: \n",
    "#añadir axis = 'columns' OR axis = 1\n",
    "horses_data = horses_data.drop(['naso_reflux_ph',\n",
    "                                'abd_protein',\n",
    "                                'abd_appearance'                   \n",
    "                               ], axis = 'columns')"
   ]
  },
  {
   "cell_type": "code",
   "execution_count": 115,
   "id": "ff52da77-b239-41ba-b75d-3642813c9e7f",
   "metadata": {},
   "outputs": [
    {
     "data": {
      "text/plain": [
       "(300, 26)"
      ]
     },
     "execution_count": 115,
     "metadata": {},
     "output_type": "execute_result"
    }
   ],
   "source": [
    "horses_data.shape"
   ]
  },
  {
   "cell_type": "markdown",
   "id": "1a7eda9e-04df-4076-b863-ab10831763b0",
   "metadata": {},
   "source": [
    "Segunda forma para eliminar las columnas por número de nulos"
   ]
  },
  {
   "cell_type": "code",
   "execution_count": 139,
   "id": "7a9d4c84-e186-4a3f-839d-f117ab9012fa",
   "metadata": {},
   "outputs": [],
   "source": [
    "horses_data = df.copy()"
   ]
  },
  {
   "cell_type": "code",
   "execution_count": 140,
   "id": "1041fd4f-e1a2-4815-a806-1819ed2ba0be",
   "metadata": {},
   "outputs": [
    {
     "data": {
      "text/plain": [
       "Index(['surgery', 'age', 'hospital_number', 'r_temperature', 'pulse',\n",
       "       'resp_rate', 'ext_temperature', 'per_pulse', 'muc_membraes',\n",
       "       'cap_ref_time', 'pain', 'peristalsis', 'abd_distension', 'naso_tub',\n",
       "       'naso_reflux', 'naso_reflux_ph', 'rect_exam', 'abdomen',\n",
       "       'pack_cell_vol', 'protein', 'abd_appearance', 'abd_protein', 'outcome',\n",
       "       'surgical_lesion', 'type_lesion_1', 'type_lesion_2', 'type_lesion_3',\n",
       "       'cp_data', 'extra-muc_membraes'],\n",
       "      dtype='object')"
      ]
     },
     "execution_count": 140,
     "metadata": {},
     "output_type": "execute_result"
    }
   ],
   "source": [
    "#esta función me saca un index que no es un objeto iterable\n",
    "horses_data.columns"
   ]
  },
  {
   "cell_type": "code",
   "execution_count": 107,
   "id": "f7fbc382-3bd8-4d9a-8b9c-e2b4f44fbd18",
   "metadata": {},
   "outputs": [
    {
     "data": {
      "text/plain": [
       "['surgery',\n",
       " 'age',\n",
       " 'hospital_number',\n",
       " 'r_temperature',\n",
       " 'pulse',\n",
       " 'resp_rate',\n",
       " 'ext_temperature',\n",
       " 'per_pulse',\n",
       " 'muc_membraes',\n",
       " 'cap_ref_time',\n",
       " 'pain',\n",
       " 'peristalsis',\n",
       " 'abd_distension',\n",
       " 'naso_tub',\n",
       " 'naso_reflux',\n",
       " 'naso_reflux_ph',\n",
       " 'rect_exam',\n",
       " 'abdomen',\n",
       " 'pack_cell_vol',\n",
       " 'protein',\n",
       " 'abd_appearance',\n",
       " 'abd_protein',\n",
       " 'outcome',\n",
       " 'surgical_lesion',\n",
       " 'type_lesion_1',\n",
       " 'type_lesion_2',\n",
       " 'type_lesion_3',\n",
       " 'cp_data',\n",
       " 'extra-muc_membraes']"
      ]
     },
     "execution_count": 107,
     "metadata": {},
     "output_type": "execute_result"
    }
   ],
   "source": [
    "#para tener un objeto iterable, una lista, tenemos tres opciones: \n",
    "\n",
    "#horses_data.columns.to_list()\n",
    "#list(horses_data.columns)\n",
    "horses_data.columns.tolist()"
   ]
  },
  {
   "cell_type": "code",
   "execution_count": 141,
   "id": "07ef63ab-80c4-44ee-9dea-b8ecd88790fd",
   "metadata": {},
   "outputs": [],
   "source": [
    "for col in horses_data.columns.tolist():\n",
    "    if horses_data[col].isnull().mean() > 0.5:\n",
    "        horses_data = horses_data.drop(col, axis = 1)"
   ]
  },
  {
   "cell_type": "code",
   "execution_count": 142,
   "id": "d2021108-39e1-4be6-bf75-1905033712ea",
   "metadata": {},
   "outputs": [
    {
     "data": {
      "text/plain": [
       "(300, 26)"
      ]
     },
     "execution_count": 142,
     "metadata": {},
     "output_type": "execute_result"
    }
   ],
   "source": [
    "horses_data.shape"
   ]
  },
  {
   "cell_type": "markdown",
   "id": "c16fd449-0da4-4f75-8abf-47b05c4b77e6",
   "metadata": {},
   "source": [
    "Posible tercera forma para eliminar datos nulos (No funcionó, porque elimina las columnas si todos los valores son nulos)"
   ]
  },
  {
   "cell_type": "code",
   "execution_count": 111,
   "id": "e5f043cb-fd29-44c6-9a68-a922be84c177",
   "metadata": {},
   "outputs": [],
   "source": [
    "horses_data = df.copy()"
   ]
  },
  {
   "cell_type": "code",
   "execution_count": 112,
   "id": "fde5dfcf-8543-4819-ab0d-da6d4b7c65a0",
   "metadata": {},
   "outputs": [],
   "source": [
    "\n",
    "horses_data. dropna(axis = 1, inplace = True)"
   ]
  },
  {
   "cell_type": "markdown",
   "id": "fe39680f-c826-4288-bd2a-c4b6d7da8d6b",
   "metadata": {},
   "source": [
    "## Imputación de datos"
   ]
  },
  {
   "cell_type": "markdown",
   "id": "390a3e07-a06d-4c7e-9f1d-0384d4799cfc",
   "metadata": {},
   "source": [
    "Estrategia para reemplazar o eliminar los datos que son nulos en un registro. Dependiendo del número de nulos, el modelo ignora estos valores, entonces podemos darle un valor cualquiera que no afecte el modelo, dado que él se ocupa del comportamiento global y no individual de los datos. \n",
    "\n",
    "Existen formas de imputar datos, haciendo uso de la moda, la mediana o la media según los datos. También podemos usar el k-vecino más cercano. Este último funciona registrando los datos en un plano ( hiperplano si tiene muchas variables) y asigna al valor nulo, el valor de un dato conocido (de una variable) que esté muy cerca a la variable desconocida. Se llama k-vecinos, porque se puede aproximar al primer vecino más cercano, o al segundo o al tercero... k más cercano"
   ]
  },
  {
   "cell_type": "code",
   "execution_count": 116,
   "id": "1a27b39c-2c50-411a-b579-205dd6839adc",
   "metadata": {},
   "outputs": [
    {
     "data": {
      "text/plain": [
       "0.18666666666666668"
      ]
     },
     "execution_count": 116,
     "metadata": {},
     "output_type": "execute_result"
    }
   ],
   "source": [
    "horses_data['ext_temperature'].isnull().mean()"
   ]
  },
  {
   "cell_type": "code",
   "execution_count": 119,
   "id": "f79ed9c7-5b03-44e3-bfa4-6a3b91feb81e",
   "metadata": {},
   "outputs": [
    {
     "data": {
      "image/png": "[encoded data removed]",
      "text/plain": [
       "<Figure size 432x288 with 1 Axes>"
      ]
     },
     "metadata": {
      "needs_background": "light"
     },
     "output_type": "display_data"
    }
   ],
   "source": [
    "sns.histplot(horses_data, x = 'ext_temperature', stat = 'probability');"
   ]
  },
  {
   "cell_type": "code",
   "execution_count": 143,
   "id": "091aee61-a273-4f1f-8b05-8679475ab343",
   "metadata": {},
   "outputs": [],
   "source": [
    "from sklearn.preprocessing import OneHotEncoder"
   ]
  },
  {
   "cell_type": "code",
   "execution_count": 145,
   "id": "2b3c6949-6246-4144-a28a-a2b6cf8a0a63",
   "metadata": {},
   "outputs": [
    {
     "name": "stderr",
     "output_type": "stream",
     "text": [
      "/home/katherine/anaconda3/envs/prediction-horses/lib/python3.9/site-packages/pandas/core/algorithms.py:798: FutureWarning: In a future version, the Index constructor will not infer numeric dtypes when passed object-dtype sequences (matching Series behavior)\n",
      "  uniques = Index(uniques)\n"
     ]
    }
   ],
   "source": [
    "horses_data_tr = pd.get_dummies(horses_data, columns =horses_data.select_dtypes(include = 'object').columns.tolist() )"
   ]
  },
  {
   "cell_type": "code",
   "execution_count": 146,
   "id": "9b61db30-6da3-402c-b547-17068cb93a37",
   "metadata": {},
   "outputs": [],
   "source": [
    "from sklearn.impute import SimpleImputer"
   ]
  },
  {
   "cell_type": "code",
   "execution_count": 147,
   "id": "ebe106ab-1d6f-4a11-aee9-5b396f818223",
   "metadata": {},
   "outputs": [],
   "source": [
    "imp_mean = SimpleImputer(missing_values = np.nan, strategy= 'most_frequent')"
   ]
  },
  {
   "cell_type": "code",
   "execution_count": 148,
   "id": "9f305113-5608-496a-a718-faedca79f180",
   "metadata": {},
   "outputs": [
    {
     "data": {
      "text/plain": [
       "SimpleImputer(strategy='most_frequent')"
      ]
     },
     "execution_count": 148,
     "metadata": {},
     "output_type": "execute_result"
    }
   ],
   "source": [
    "imp_mean.fit(horses_data_tr)"
   ]
  },
  {
   "cell_type": "code",
   "execution_count": 149,
   "id": "b2ed4c29-1710-4fcc-912c-b3be89980ac2",
   "metadata": {},
   "outputs": [],
   "source": [
    "horses_data_imp = imp_mean.transform(horses_data_tr)"
   ]
  },
  {
   "cell_type": "code",
   "execution_count": 150,
   "id": "7c0efa0c-d070-4000-a4b0-6fe956fcb332",
   "metadata": {},
   "outputs": [],
   "source": [
    "horses_data_imp = pd.DataFrame(horses_data_imp, columns=horses_data_tr.columns.tolist(), dtype = 'float64')"
   ]
  },
  {
   "cell_type": "code",
   "execution_count": 152,
   "id": "c1b1b8a0-5c94-4421-80cf-6ea449585086",
   "metadata": {},
   "outputs": [
    {
     "data": {
      "text/html": [
       "<div>\n",
       "<style scoped>\n",
       "    .dataframe tbody tr th:only-of-type {\n",
       "        vertical-align: middle;\n",
       "    }\n",
       "\n",
       "    .dataframe tbody tr th {\n",
       "        vertical-align: top;\n",
       "    }\n",
       "\n",
       "    .dataframe thead th {\n",
       "        text-align: right;\n",
       "    }\n",
       "</style>\n",
       "<table border=\"1\" class=\"dataframe\">\n",
       "  <thead>\n",
       "    <tr style=\"text-align: right;\">\n",
       "      <th></th>\n",
       "      <th>hospital_number</th>\n",
       "      <th>r_temperature</th>\n",
       "      <th>pulse</th>\n",
       "      <th>resp_rate</th>\n",
       "      <th>pack_cell_vol</th>\n",
       "      <th>protein</th>\n",
       "      <th>surgical_lesion</th>\n",
       "      <th>cp_data</th>\n",
       "      <th>surgery_1.0</th>\n",
       "      <th>surgery_2.0</th>\n",
       "      <th>...</th>\n",
       "      <th>type_lesion_2_3111</th>\n",
       "      <th>type_lesion_2_3112</th>\n",
       "      <th>type_lesion_2_6112</th>\n",
       "      <th>type_lesion_2_7111</th>\n",
       "      <th>type_lesion_3_0</th>\n",
       "      <th>type_lesion_3_2209</th>\n",
       "      <th>extra-muc_membraes_early chock</th>\n",
       "      <th>extra-muc_membraes_normal</th>\n",
       "      <th>extra-muc_membraes_septicemia</th>\n",
       "      <th>extra-muc_membraes_serious circulatory compromise</th>\n",
       "    </tr>\n",
       "  </thead>\n",
       "  <tbody>\n",
       "    <tr>\n",
       "      <th>0</th>\n",
       "      <td>530101.0</td>\n",
       "      <td>38.5</td>\n",
       "      <td>66.0</td>\n",
       "      <td>28.0</td>\n",
       "      <td>45.0</td>\n",
       "      <td>8.4</td>\n",
       "      <td>0.0</td>\n",
       "      <td>2.0</td>\n",
       "      <td>0.0</td>\n",
       "      <td>1.0</td>\n",
       "      <td>...</td>\n",
       "      <td>0.0</td>\n",
       "      <td>0.0</td>\n",
       "      <td>0.0</td>\n",
       "      <td>0.0</td>\n",
       "      <td>1.0</td>\n",
       "      <td>0.0</td>\n",
       "      <td>0.0</td>\n",
       "      <td>0.0</td>\n",
       "      <td>0.0</td>\n",
       "      <td>0.0</td>\n",
       "    </tr>\n",
       "    <tr>\n",
       "      <th>1</th>\n",
       "      <td>534817.0</td>\n",
       "      <td>39.2</td>\n",
       "      <td>88.0</td>\n",
       "      <td>20.0</td>\n",
       "      <td>50.0</td>\n",
       "      <td>85.0</td>\n",
       "      <td>0.0</td>\n",
       "      <td>2.0</td>\n",
       "      <td>1.0</td>\n",
       "      <td>0.0</td>\n",
       "      <td>...</td>\n",
       "      <td>0.0</td>\n",
       "      <td>0.0</td>\n",
       "      <td>0.0</td>\n",
       "      <td>0.0</td>\n",
       "      <td>1.0</td>\n",
       "      <td>0.0</td>\n",
       "      <td>0.0</td>\n",
       "      <td>0.0</td>\n",
       "      <td>0.0</td>\n",
       "      <td>1.0</td>\n",
       "    </tr>\n",
       "    <tr>\n",
       "      <th>2</th>\n",
       "      <td>530334.0</td>\n",
       "      <td>38.3</td>\n",
       "      <td>40.0</td>\n",
       "      <td>24.0</td>\n",
       "      <td>33.0</td>\n",
       "      <td>6.7</td>\n",
       "      <td>0.0</td>\n",
       "      <td>1.0</td>\n",
       "      <td>0.0</td>\n",
       "      <td>1.0</td>\n",
       "      <td>...</td>\n",
       "      <td>0.0</td>\n",
       "      <td>0.0</td>\n",
       "      <td>0.0</td>\n",
       "      <td>0.0</td>\n",
       "      <td>1.0</td>\n",
       "      <td>0.0</td>\n",
       "      <td>1.0</td>\n",
       "      <td>0.0</td>\n",
       "      <td>0.0</td>\n",
       "      <td>0.0</td>\n",
       "    </tr>\n",
       "    <tr>\n",
       "      <th>3</th>\n",
       "      <td>5290409.0</td>\n",
       "      <td>39.1</td>\n",
       "      <td>164.0</td>\n",
       "      <td>84.0</td>\n",
       "      <td>48.0</td>\n",
       "      <td>7.2</td>\n",
       "      <td>1.0</td>\n",
       "      <td>1.0</td>\n",
       "      <td>1.0</td>\n",
       "      <td>0.0</td>\n",
       "      <td>...</td>\n",
       "      <td>0.0</td>\n",
       "      <td>0.0</td>\n",
       "      <td>0.0</td>\n",
       "      <td>0.0</td>\n",
       "      <td>1.0</td>\n",
       "      <td>0.0</td>\n",
       "      <td>0.0</td>\n",
       "      <td>0.0</td>\n",
       "      <td>0.0</td>\n",
       "      <td>1.0</td>\n",
       "    </tr>\n",
       "    <tr>\n",
       "      <th>4</th>\n",
       "      <td>530255.0</td>\n",
       "      <td>37.3</td>\n",
       "      <td>104.0</td>\n",
       "      <td>35.0</td>\n",
       "      <td>74.0</td>\n",
       "      <td>7.4</td>\n",
       "      <td>0.0</td>\n",
       "      <td>2.0</td>\n",
       "      <td>0.0</td>\n",
       "      <td>1.0</td>\n",
       "      <td>...</td>\n",
       "      <td>0.0</td>\n",
       "      <td>0.0</td>\n",
       "      <td>0.0</td>\n",
       "      <td>0.0</td>\n",
       "      <td>1.0</td>\n",
       "      <td>0.0</td>\n",
       "      <td>0.0</td>\n",
       "      <td>0.0</td>\n",
       "      <td>0.0</td>\n",
       "      <td>1.0</td>\n",
       "    </tr>\n",
       "  </tbody>\n",
       "</table>\n",
       "<p>5 rows × 133 columns</p>\n",
       "</div>"
      ],
      "text/plain": [
       "   hospital_number  r_temperature  pulse  resp_rate  pack_cell_vol  protein  \\\n",
       "0         530101.0           38.5   66.0       28.0           45.0      8.4   \n",
       "1         534817.0           39.2   88.0       20.0           50.0     85.0   \n",
       "2         530334.0           38.3   40.0       24.0           33.0      6.7   \n",
       "3        5290409.0           39.1  164.0       84.0           48.0      7.2   \n",
       "4         530255.0           37.3  104.0       35.0           74.0      7.4   \n",
       "\n",
       "   surgical_lesion  cp_data  surgery_1.0  surgery_2.0  ...  \\\n",
       "0              0.0      2.0          0.0          1.0  ...   \n",
       "1              0.0      2.0          1.0          0.0  ...   \n",
       "2              0.0      1.0          0.0          1.0  ...   \n",
       "3              1.0      1.0          1.0          0.0  ...   \n",
       "4              0.0      2.0          0.0          1.0  ...   \n",
       "\n",
       "   type_lesion_2_3111  type_lesion_2_3112  type_lesion_2_6112  \\\n",
       "0                 0.0                 0.0                 0.0   \n",
       "1                 0.0                 0.0                 0.0   \n",
       "2                 0.0                 0.0                 0.0   \n",
       "3                 0.0                 0.0                 0.0   \n",
       "4                 0.0                 0.0                 0.0   \n",
       "\n",
       "   type_lesion_2_7111  type_lesion_3_0  type_lesion_3_2209  \\\n",
       "0                 0.0              1.0                 0.0   \n",
       "1                 0.0              1.0                 0.0   \n",
       "2                 0.0              1.0                 0.0   \n",
       "3                 0.0              1.0                 0.0   \n",
       "4                 0.0              1.0                 0.0   \n",
       "\n",
       "   extra-muc_membraes_early chock  extra-muc_membraes_normal  \\\n",
       "0                             0.0                        0.0   \n",
       "1                             0.0                        0.0   \n",
       "2                             1.0                        0.0   \n",
       "3                             0.0                        0.0   \n",
       "4                             0.0                        0.0   \n",
       "\n",
       "   extra-muc_membraes_septicemia  \\\n",
       "0                            0.0   \n",
       "1                            0.0   \n",
       "2                            0.0   \n",
       "3                            0.0   \n",
       "4                            0.0   \n",
       "\n",
       "   extra-muc_membraes_serious circulatory compromise  \n",
       "0                                                0.0  \n",
       "1                                                1.0  \n",
       "2                                                0.0  \n",
       "3                                                1.0  \n",
       "4                                                1.0  \n",
       "\n",
       "[5 rows x 133 columns]"
      ]
     },
     "execution_count": 152,
     "metadata": {},
     "output_type": "execute_result"
    }
   ],
   "source": [
    "horses_data_imp.head()"
   ]
  },
  {
   "cell_type": "code",
   "execution_count": 154,
   "id": "4d2ac00a-e4c9-4545-ad5e-39c4d4b2dbb1",
   "metadata": {},
   "outputs": [
    {
     "data": {
      "text/plain": [
       "['hospital_number',\n",
       " 'r_temperature',\n",
       " 'pulse',\n",
       " 'resp_rate',\n",
       " 'pack_cell_vol',\n",
       " 'protein',\n",
       " 'surgical_lesion',\n",
       " 'cp_data',\n",
       " 'surgery_1.0',\n",
       " 'surgery_2.0',\n",
       " 'age_Adult',\n",
       " 'age_Young',\n",
       " 'ext_temperature_cold',\n",
       " 'ext_temperature_cool',\n",
       " 'ext_temperature_normal',\n",
       " 'ext_temperature_warm',\n",
       " 'per_pulse_absent',\n",
       " 'per_pulse_increased',\n",
       " 'per_pulse_normal',\n",
       " 'per_pulse_reduced',\n",
       " 'muc_membraes_bright pink',\n",
       " 'muc_membraes_bright red / injected',\n",
       " 'muc_membraes_dark cyanotic',\n",
       " 'muc_membraes_normal pink',\n",
       " 'muc_membraes_pale cyanotic',\n",
       " 'muc_membraes_pale pink',\n",
       " 'cap_ref_time_< 3 seconds',\n",
       " 'cap_ref_time_>= 3 seconds',\n",
       " 'cap_ref_time_desconocido',\n",
       " 'pain_alert, no pain',\n",
       " 'pain_continuous severe pain',\n",
       " 'pain_depressed',\n",
       " 'pain_intermittent mild pain',\n",
       " 'pain_intermittent severe pain',\n",
       " 'peristalsis_absent',\n",
       " 'peristalsis_hypermotile',\n",
       " 'peristalsis_hypomotile',\n",
       " 'peristalsis_normal',\n",
       " 'abd_distension_moderate',\n",
       " 'abd_distension_none',\n",
       " 'abd_distension_severe',\n",
       " 'abd_distension_slight',\n",
       " 'naso_tub_none',\n",
       " 'naso_tub_significant',\n",
       " 'naso_tub_slight',\n",
       " 'naso_reflux_< 1 liter',\n",
       " 'naso_reflux_> 1 liter',\n",
       " 'naso_reflux_none',\n",
       " 'rect_exam_absent',\n",
       " 'rect_exam_decreased',\n",
       " 'rect_exam_increased',\n",
       " 'rect_exam_none',\n",
       " 'abdomen_distended large intestine',\n",
       " 'abdomen_distended small intestine',\n",
       " 'abdomen_firm feces in the large intestine',\n",
       " 'abdomen_normal',\n",
       " 'abdomen_other',\n",
       " 'outcome_died',\n",
       " 'outcome_lived',\n",
       " 'outcome_was euthanized',\n",
       " 'type_lesion_1_0',\n",
       " 'type_lesion_1_300',\n",
       " 'type_lesion_1_400',\n",
       " 'type_lesion_1_1111',\n",
       " 'type_lesion_1_1124',\n",
       " 'type_lesion_1_1400',\n",
       " 'type_lesion_1_2111',\n",
       " 'type_lesion_1_2112',\n",
       " 'type_lesion_1_2113',\n",
       " 'type_lesion_1_2124',\n",
       " 'type_lesion_1_2205',\n",
       " 'type_lesion_1_2206',\n",
       " 'type_lesion_1_2207',\n",
       " 'type_lesion_1_2208',\n",
       " 'type_lesion_1_2209',\n",
       " 'type_lesion_1_2300',\n",
       " 'type_lesion_1_2305',\n",
       " 'type_lesion_1_2322',\n",
       " 'type_lesion_1_3025',\n",
       " 'type_lesion_1_3111',\n",
       " 'type_lesion_1_3112',\n",
       " 'type_lesion_1_3113',\n",
       " 'type_lesion_1_3115',\n",
       " 'type_lesion_1_3124',\n",
       " 'type_lesion_1_3133',\n",
       " 'type_lesion_1_3205',\n",
       " 'type_lesion_1_3207',\n",
       " 'type_lesion_1_3209',\n",
       " 'type_lesion_1_3300',\n",
       " 'type_lesion_1_3400',\n",
       " 'type_lesion_1_4111',\n",
       " 'type_lesion_1_4122',\n",
       " 'type_lesion_1_4124',\n",
       " 'type_lesion_1_4205',\n",
       " 'type_lesion_1_4206',\n",
       " 'type_lesion_1_4207',\n",
       " 'type_lesion_1_4300',\n",
       " 'type_lesion_1_5000',\n",
       " 'type_lesion_1_5111',\n",
       " 'type_lesion_1_5124',\n",
       " 'type_lesion_1_5205',\n",
       " 'type_lesion_1_5206',\n",
       " 'type_lesion_1_5400',\n",
       " 'type_lesion_1_6111',\n",
       " 'type_lesion_1_6112',\n",
       " 'type_lesion_1_6209',\n",
       " 'type_lesion_1_7111',\n",
       " 'type_lesion_1_7113',\n",
       " 'type_lesion_1_7209',\n",
       " 'type_lesion_1_7400',\n",
       " 'type_lesion_1_8300',\n",
       " 'type_lesion_1_8400',\n",
       " 'type_lesion_1_9000',\n",
       " 'type_lesion_1_9400',\n",
       " 'type_lesion_1_11124',\n",
       " 'type_lesion_1_11300',\n",
       " 'type_lesion_1_11400',\n",
       " 'type_lesion_1_12208',\n",
       " 'type_lesion_1_21110',\n",
       " 'type_lesion_1_31110',\n",
       " 'type_lesion_1_41110',\n",
       " 'type_lesion_2_0',\n",
       " 'type_lesion_2_1400',\n",
       " 'type_lesion_2_3111',\n",
       " 'type_lesion_2_3112',\n",
       " 'type_lesion_2_6112',\n",
       " 'type_lesion_2_7111',\n",
       " 'type_lesion_3_0',\n",
       " 'type_lesion_3_2209',\n",
       " 'extra-muc_membraes_early chock',\n",
       " 'extra-muc_membraes_normal',\n",
       " 'extra-muc_membraes_septicemia',\n",
       " 'extra-muc_membraes_serious circulatory compromise']"
      ]
     },
     "execution_count": 154,
     "metadata": {},
     "output_type": "execute_result"
    }
   ],
   "source": [
    "horses_data_imp.columns.tolist()"
   ]
  },
  {
   "cell_type": "code",
   "execution_count": 155,
   "id": "55470ae0-21e6-42fe-ac23-4068db2787b6",
   "metadata": {},
   "outputs": [],
   "source": [
    "horses_data_imp = horses_data_imp.drop(['outcome_died', 'outcome_was euthanized'], axis = 1)"
   ]
  },
  {
   "cell_type": "code",
   "execution_count": 156,
   "id": "1915331f-2c51-44a7-a396-b9804e2068b7",
   "metadata": {},
   "outputs": [
    {
     "name": "stdout",
     "output_type": "stream",
     "text": [
      "<class 'pandas.core.frame.DataFrame'>\n",
      "RangeIndex: 300 entries, 0 to 299\n",
      "Columns: 131 entries, hospital_number to extra-muc_membraes_serious circulatory compromise\n",
      "dtypes: float64(131)\n",
      "memory usage: 307.2 KB\n"
     ]
    }
   ],
   "source": [
    "horses_data_imp.info()"
   ]
  },
  {
   "cell_type": "code",
   "execution_count": 157,
   "id": "703f3386-b648-4104-937e-164558e8404b",
   "metadata": {},
   "outputs": [
    {
     "data": {
      "text/plain": [
       "['hospital_number',\n",
       " 'r_temperature',\n",
       " 'pulse',\n",
       " 'resp_rate',\n",
       " 'pack_cell_vol',\n",
       " 'protein',\n",
       " 'surgical_lesion',\n",
       " 'cp_data',\n",
       " 'surgery_1.0',\n",
       " 'surgery_2.0',\n",
       " 'age_Adult',\n",
       " 'age_Young',\n",
       " 'ext_temperature_cold',\n",
       " 'ext_temperature_cool',\n",
       " 'ext_temperature_normal',\n",
       " 'ext_temperature_warm',\n",
       " 'per_pulse_absent',\n",
       " 'per_pulse_increased',\n",
       " 'per_pulse_normal',\n",
       " 'per_pulse_reduced',\n",
       " 'muc_membraes_bright pink',\n",
       " 'muc_membraes_bright red / injected',\n",
       " 'muc_membraes_dark cyanotic',\n",
       " 'muc_membraes_normal pink',\n",
       " 'muc_membraes_pale cyanotic',\n",
       " 'muc_membraes_pale pink',\n",
       " 'cap_ref_time_< 3 seconds',\n",
       " 'cap_ref_time_>= 3 seconds',\n",
       " 'cap_ref_time_desconocido',\n",
       " 'pain_alert, no pain',\n",
       " 'pain_continuous severe pain',\n",
       " 'pain_depressed',\n",
       " 'pain_intermittent mild pain',\n",
       " 'pain_intermittent severe pain',\n",
       " 'peristalsis_absent',\n",
       " 'peristalsis_hypermotile',\n",
       " 'peristalsis_hypomotile',\n",
       " 'peristalsis_normal',\n",
       " 'abd_distension_moderate',\n",
       " 'abd_distension_none',\n",
       " 'abd_distension_severe',\n",
       " 'abd_distension_slight',\n",
       " 'naso_tub_none',\n",
       " 'naso_tub_significant',\n",
       " 'naso_tub_slight',\n",
       " 'naso_reflux_< 1 liter',\n",
       " 'naso_reflux_> 1 liter',\n",
       " 'naso_reflux_none',\n",
       " 'rect_exam_absent',\n",
       " 'rect_exam_decreased',\n",
       " 'rect_exam_increased',\n",
       " 'rect_exam_none',\n",
       " 'abdomen_distended large intestine',\n",
       " 'abdomen_distended small intestine',\n",
       " 'abdomen_firm feces in the large intestine',\n",
       " 'abdomen_normal',\n",
       " 'abdomen_other',\n",
       " 'outcome_lived',\n",
       " 'type_lesion_1_0',\n",
       " 'type_lesion_1_300',\n",
       " 'type_lesion_1_400',\n",
       " 'type_lesion_1_1111',\n",
       " 'type_lesion_1_1124',\n",
       " 'type_lesion_1_1400',\n",
       " 'type_lesion_1_2111',\n",
       " 'type_lesion_1_2112',\n",
       " 'type_lesion_1_2113',\n",
       " 'type_lesion_1_2124',\n",
       " 'type_lesion_1_2205',\n",
       " 'type_lesion_1_2206',\n",
       " 'type_lesion_1_2207',\n",
       " 'type_lesion_1_2208',\n",
       " 'type_lesion_1_2209',\n",
       " 'type_lesion_1_2300',\n",
       " 'type_lesion_1_2305',\n",
       " 'type_lesion_1_2322',\n",
       " 'type_lesion_1_3025',\n",
       " 'type_lesion_1_3111',\n",
       " 'type_lesion_1_3112',\n",
       " 'type_lesion_1_3113',\n",
       " 'type_lesion_1_3115',\n",
       " 'type_lesion_1_3124',\n",
       " 'type_lesion_1_3133',\n",
       " 'type_lesion_1_3205',\n",
       " 'type_lesion_1_3207',\n",
       " 'type_lesion_1_3209',\n",
       " 'type_lesion_1_3300',\n",
       " 'type_lesion_1_3400',\n",
       " 'type_lesion_1_4111',\n",
       " 'type_lesion_1_4122',\n",
       " 'type_lesion_1_4124',\n",
       " 'type_lesion_1_4205',\n",
       " 'type_lesion_1_4206',\n",
       " 'type_lesion_1_4207',\n",
       " 'type_lesion_1_4300',\n",
       " 'type_lesion_1_5000',\n",
       " 'type_lesion_1_5111',\n",
       " 'type_lesion_1_5124',\n",
       " 'type_lesion_1_5205',\n",
       " 'type_lesion_1_5206',\n",
       " 'type_lesion_1_5400',\n",
       " 'type_lesion_1_6111',\n",
       " 'type_lesion_1_6112',\n",
       " 'type_lesion_1_6209',\n",
       " 'type_lesion_1_7111',\n",
       " 'type_lesion_1_7113',\n",
       " 'type_lesion_1_7209',\n",
       " 'type_lesion_1_7400',\n",
       " 'type_lesion_1_8300',\n",
       " 'type_lesion_1_8400',\n",
       " 'type_lesion_1_9000',\n",
       " 'type_lesion_1_9400',\n",
       " 'type_lesion_1_11124',\n",
       " 'type_lesion_1_11300',\n",
       " 'type_lesion_1_11400',\n",
       " 'type_lesion_1_12208',\n",
       " 'type_lesion_1_21110',\n",
       " 'type_lesion_1_31110',\n",
       " 'type_lesion_1_41110',\n",
       " 'type_lesion_2_0',\n",
       " 'type_lesion_2_1400',\n",
       " 'type_lesion_2_3111',\n",
       " 'type_lesion_2_3112',\n",
       " 'type_lesion_2_6112',\n",
       " 'type_lesion_2_7111',\n",
       " 'type_lesion_3_0',\n",
       " 'type_lesion_3_2209',\n",
       " 'extra-muc_membraes_early chock',\n",
       " 'extra-muc_membraes_normal',\n",
       " 'extra-muc_membraes_septicemia',\n",
       " 'extra-muc_membraes_serious circulatory compromise']"
      ]
     },
     "execution_count": 157,
     "metadata": {},
     "output_type": "execute_result"
    }
   ],
   "source": [
    "horses_data_imp.columns.tolist()"
   ]
  },
  {
   "cell_type": "code",
   "execution_count": 158,
   "id": "f3647252-1f5e-415b-b9d8-66364c804704",
   "metadata": {},
   "outputs": [
    {
     "data": {
      "text/plain": [
       "hospital_number                                      0\n",
       "r_temperature                                        0\n",
       "pulse                                                0\n",
       "resp_rate                                            0\n",
       "pack_cell_vol                                        0\n",
       "                                                    ..\n",
       "type_lesion_3_2209                                   0\n",
       "extra-muc_membraes_early chock                       0\n",
       "extra-muc_membraes_normal                            0\n",
       "extra-muc_membraes_septicemia                        0\n",
       "extra-muc_membraes_serious circulatory compromise    0\n",
       "Length: 131, dtype: int64"
      ]
     },
     "execution_count": 158,
     "metadata": {},
     "output_type": "execute_result"
    }
   ],
   "source": [
    "horses_data_imp.isnull().sum()"
   ]
  },
  {
   "cell_type": "code",
   "execution_count": 159,
   "id": "4fe88498-bca1-4d46-95a2-c68cabbcb2ef",
   "metadata": {},
   "outputs": [],
   "source": [
    "from sklearn.naive_bayes import BernoulliNB"
   ]
  },
  {
   "cell_type": "code",
   "execution_count": 160,
   "id": "7c72f280-bcac-4df1-9346-028fbe1d8073",
   "metadata": {},
   "outputs": [],
   "source": [
    "y = horses_data_imp['outcome_lived']\n",
    "x = horses_data_imp.drop('outcome_lived', axis = 1)"
   ]
  },
  {
   "cell_type": "code",
   "execution_count": 161,
   "id": "75c72007-8c74-452f-973e-196cdc7ae3da",
   "metadata": {},
   "outputs": [],
   "source": [
    "##Estimadores\n",
    "##Tienen fit y Predict (algunos tienen predict_proba)\n",
    "clf = BernoulliNB()"
   ]
  },
  {
   "cell_type": "code",
   "execution_count": 162,
   "id": "54114b9e-3bea-4b36-ae78-9cb79f838fde",
   "metadata": {},
   "outputs": [
    {
     "data": {
      "text/plain": [
       "BernoulliNB()"
      ]
     },
     "execution_count": 162,
     "metadata": {},
     "output_type": "execute_result"
    }
   ],
   "source": [
    "clf.fit(x, y)"
   ]
  },
  {
   "cell_type": "code",
   "execution_count": 163,
   "id": "e0238aea-7809-4f50-8744-7da6a4314772",
   "metadata": {},
   "outputs": [],
   "source": [
    "y_pred = clf.predict(x)"
   ]
  },
  {
   "cell_type": "code",
   "execution_count": 164,
   "id": "6aebfe75-a949-4436-b96f-c3403bb07662",
   "metadata": {},
   "outputs": [
    {
     "data": {
      "text/plain": [
       "array([0., 1., 1., 0., 0., 1., 1., 0., 0., 1., 0., 1., 1., 1., 1., 0., 0.,\n",
       "       1., 1., 1., 0., 1., 1., 0., 0., 1., 0., 1., 0., 1., 0., 0., 1., 1.,\n",
       "       0., 0., 0., 1., 1., 0., 0., 1., 1., 0., 0., 0., 0., 1., 0., 0., 1.,\n",
       "       0., 1., 1., 0., 0., 0., 1., 0., 0., 1., 1., 1., 0., 0., 1., 1., 1.,\n",
       "       1., 1., 0., 1., 0., 1., 0., 0., 1., 1., 0., 0., 0., 1., 1., 0., 0.,\n",
       "       1., 0., 1., 1., 1., 1., 0., 1., 0., 1., 1., 1., 0., 1., 0., 1., 0.,\n",
       "       1., 1., 0., 0., 1., 1., 0., 0., 0., 1., 1., 0., 0., 1., 1., 0., 1.,\n",
       "       1., 1., 0., 1., 0., 1., 1., 0., 0., 1., 1., 0., 1., 1., 1., 0., 0.,\n",
       "       0., 1., 1., 1., 1., 0., 0., 1., 0., 1., 0., 1., 0., 1., 1., 0., 0.,\n",
       "       1., 1., 1., 1., 0., 1., 1., 0., 0., 1., 1., 0., 0., 1., 1., 1., 0.,\n",
       "       1., 0., 0., 0., 0., 0., 1., 0., 0., 0., 0., 1., 0., 1., 1., 0., 1.,\n",
       "       0., 1., 1., 1., 1., 1., 0., 1., 1., 1., 0., 1., 1., 1., 0., 0., 1.,\n",
       "       0., 0., 0., 0., 0., 1., 1., 0., 1., 1., 1., 1., 1., 0., 1., 0., 0.,\n",
       "       0., 0., 1., 1., 1., 0., 0., 0., 1., 0., 0., 0., 0., 1., 1., 1., 1.,\n",
       "       0., 0., 0., 1., 0., 0., 1., 0., 0., 0., 0., 1., 0., 1., 0., 0., 0.,\n",
       "       1., 1., 0., 1., 1., 1., 1., 1., 0., 1., 1., 1., 1., 1., 1., 1., 0.,\n",
       "       0., 0., 0., 0., 1., 1., 1., 1., 1., 0., 0., 0., 1., 1., 0., 1., 1.,\n",
       "       1., 1., 0., 1., 0., 1., 0., 0., 0., 0., 1.])"
      ]
     },
     "execution_count": 164,
     "metadata": {},
     "output_type": "execute_result"
    }
   ],
   "source": [
    "y_pred"
   ]
  },
  {
   "cell_type": "code",
   "execution_count": 167,
   "id": "ba9bec4d-1cb7-41de-9bf9-bf9acfbb1e66",
   "metadata": {},
   "outputs": [],
   "source": [
    "from sklearn.metrics import accuracy_score, classification_report"
   ]
  },
  {
   "cell_type": "code",
   "execution_count": 166,
   "id": "62418695-388b-491a-a636-8997f07b76f8",
   "metadata": {},
   "outputs": [
    {
     "data": {
      "text/plain": [
       "0.7666666666666667"
      ]
     },
     "execution_count": 166,
     "metadata": {},
     "output_type": "execute_result"
    }
   ],
   "source": [
    "accuracy_score(y, y_pred)"
   ]
  },
  {
   "cell_type": "code",
   "execution_count": 168,
   "id": "1bb2d0db-76df-46b4-ae28-f819ffc71834",
   "metadata": {},
   "outputs": [
    {
     "name": "stdout",
     "output_type": "stream",
     "text": [
      "              precision    recall  f1-score   support\n",
      "\n",
      "         0.0       0.68      0.80      0.73       122\n",
      "         1.0       0.84      0.75      0.79       178\n",
      "\n",
      "    accuracy                           0.77       300\n",
      "   macro avg       0.76      0.77      0.76       300\n",
      "weighted avg       0.78      0.77      0.77       300\n",
      "\n"
     ]
    }
   ],
   "source": [
    "print(classification_report(y, y_pred))"
   ]
  },
  {
   "cell_type": "code",
   "execution_count": null,
   "id": "68ec1d5c-e5f3-48b9-93c3-204db0107139",
   "metadata": {},
   "outputs": [],
   "source": []
  },
  {
   "cell_type": "code",
   "execution_count": null,
   "id": "6689bcf6-143a-46ed-8329-f71a812ae7b0",
   "metadata": {},
   "outputs": [],
   "source": []
  },
  {
   "cell_type": "code",
   "execution_count": null,
   "id": "9932f4c5-0ad5-4e77-8b5d-50be64501e2c",
   "metadata": {},
   "outputs": [],
   "source": []
  },
  {
   "cell_type": "code",
   "execution_count": null,
   "id": "eb0d888a-701e-4df0-8a60-9d716489b31f",
   "metadata": {},
   "outputs": [],
   "source": []
  },
  {
   "cell_type": "code",
   "execution_count": null,
   "id": "212cefba-4bfb-4415-becf-56ca12f07b41",
   "metadata": {},
   "outputs": [],
   "source": []
  },
  {
   "cell_type": "code",
   "execution_count": null,
   "id": "0bad283f-6515-4a16-8f70-de7f4a7b33fb",
   "metadata": {},
   "outputs": [],
   "source": []
  },
  {
   "cell_type": "code",
   "execution_count": 127,
   "id": "40292ad9-3b2c-4c0d-a2fc-230aba7f46e1",
   "metadata": {},
   "outputs": [],
   "source": [
    "from sklearn.impute import SimpleImputer"
   ]
  },
  {
   "cell_type": "code",
   "execution_count": 131,
   "id": "8597bfdd-4a47-423a-b0bb-817f39d8e76c",
   "metadata": {},
   "outputs": [],
   "source": [
    "imp_mean = SimpleImputer(missing_values = np.nan, strategy= 'most_frequent')"
   ]
  },
  {
   "cell_type": "code",
   "execution_count": 132,
   "id": "5f878077-d798-4d87-9f79-88aa2db18ea7",
   "metadata": {},
   "outputs": [
    {
     "data": {
      "text/plain": [
       "SimpleImputer(strategy='most_frequent')"
      ]
     },
     "execution_count": 132,
     "metadata": {},
     "output_type": "execute_result"
    }
   ],
   "source": [
    "imp_mean.fit(horses_data)"
   ]
  },
  {
   "cell_type": "code",
   "execution_count": 133,
   "id": "c4ddad91-5790-44dc-af80-e9e06b757660",
   "metadata": {},
   "outputs": [
    {
     "data": {
      "text/plain": [
       "array([1.0, 'Adult', 527544, 38.0, 48.0, 20.0, 'cool', 'normal',\n",
       "       'normal pink', '< 3 seconds', 'intermittent mild pain',\n",
       "       'hypomotile', 'none', 'slight', 'none', 'absent',\n",
       "       'distended large intestine', 37.0, 6.5, 'lived', True, 0, 0, 0, 2,\n",
       "       'normal'], dtype=object)"
      ]
     },
     "execution_count": 133,
     "metadata": {},
     "output_type": "execute_result"
    }
   ],
   "source": [
    "imp_mean.statistics_"
   ]
  },
  {
   "cell_type": "code",
   "execution_count": 134,
   "id": "c082f0a3-d1fd-4776-a18e-9473cfa6e3a5",
   "metadata": {},
   "outputs": [],
   "source": [
    "horses_data_tr = imp_mean.transform(horses_data)"
   ]
  },
  {
   "cell_type": "code",
   "execution_count": 135,
   "id": "e7f7c9f5-7787-46c2-8f73-ac7b2dae08df",
   "metadata": {},
   "outputs": [],
   "source": [
    "horses_data_tr = pd.DataFrame(horses_data_tr, columns=horses_data.columns.tolist())"
   ]
  },
  {
   "cell_type": "code",
   "execution_count": 136,
   "id": "2e030eb2-4836-4437-9b13-0b85fa0b4021",
   "metadata": {},
   "outputs": [
    {
     "data": {
      "text/html": [
       "<div>\n",
       "<style scoped>\n",
       "    .dataframe tbody tr th:only-of-type {\n",
       "        vertical-align: middle;\n",
       "    }\n",
       "\n",
       "    .dataframe tbody tr th {\n",
       "        vertical-align: top;\n",
       "    }\n",
       "\n",
       "    .dataframe thead th {\n",
       "        text-align: right;\n",
       "    }\n",
       "</style>\n",
       "<table border=\"1\" class=\"dataframe\">\n",
       "  <thead>\n",
       "    <tr style=\"text-align: right;\">\n",
       "      <th></th>\n",
       "      <th>surgery</th>\n",
       "      <th>age</th>\n",
       "      <th>hospital_number</th>\n",
       "      <th>r_temperature</th>\n",
       "      <th>pulse</th>\n",
       "      <th>resp_rate</th>\n",
       "      <th>ext_temperature</th>\n",
       "      <th>per_pulse</th>\n",
       "      <th>muc_membraes</th>\n",
       "      <th>cap_ref_time</th>\n",
       "      <th>...</th>\n",
       "      <th>abdomen</th>\n",
       "      <th>pack_cell_vol</th>\n",
       "      <th>protein</th>\n",
       "      <th>outcome</th>\n",
       "      <th>surgical_lesion</th>\n",
       "      <th>type_lesion_1</th>\n",
       "      <th>type_lesion_2</th>\n",
       "      <th>type_lesion_3</th>\n",
       "      <th>cp_data</th>\n",
       "      <th>extra-muc_membraes</th>\n",
       "    </tr>\n",
       "  </thead>\n",
       "  <tbody>\n",
       "    <tr>\n",
       "      <th>0</th>\n",
       "      <td>2.0</td>\n",
       "      <td>Adult</td>\n",
       "      <td>530101</td>\n",
       "      <td>38.5</td>\n",
       "      <td>66.0</td>\n",
       "      <td>28.0</td>\n",
       "      <td>cool</td>\n",
       "      <td>reduced</td>\n",
       "      <td>normal pink</td>\n",
       "      <td>&gt;= 3 seconds</td>\n",
       "      <td>...</td>\n",
       "      <td>distended large intestine</td>\n",
       "      <td>45.0</td>\n",
       "      <td>8.4</td>\n",
       "      <td>died</td>\n",
       "      <td>False</td>\n",
       "      <td>11300</td>\n",
       "      <td>0</td>\n",
       "      <td>0</td>\n",
       "      <td>2</td>\n",
       "      <td>None</td>\n",
       "    </tr>\n",
       "    <tr>\n",
       "      <th>1</th>\n",
       "      <td>1.0</td>\n",
       "      <td>Adult</td>\n",
       "      <td>534817</td>\n",
       "      <td>39.2</td>\n",
       "      <td>88.0</td>\n",
       "      <td>20.0</td>\n",
       "      <td>cool</td>\n",
       "      <td>normal</td>\n",
       "      <td>pale cyanotic</td>\n",
       "      <td>&lt; 3 seconds</td>\n",
       "      <td>...</td>\n",
       "      <td>other</td>\n",
       "      <td>50.0</td>\n",
       "      <td>85.0</td>\n",
       "      <td>was euthanized</td>\n",
       "      <td>False</td>\n",
       "      <td>2208</td>\n",
       "      <td>0</td>\n",
       "      <td>0</td>\n",
       "      <td>2</td>\n",
       "      <td>serious circulatory compromise</td>\n",
       "    </tr>\n",
       "    <tr>\n",
       "      <th>2</th>\n",
       "      <td>2.0</td>\n",
       "      <td>Adult</td>\n",
       "      <td>530334</td>\n",
       "      <td>38.3</td>\n",
       "      <td>40.0</td>\n",
       "      <td>24.0</td>\n",
       "      <td>normal</td>\n",
       "      <td>normal</td>\n",
       "      <td>pale pink</td>\n",
       "      <td>&lt; 3 seconds</td>\n",
       "      <td>...</td>\n",
       "      <td>normal</td>\n",
       "      <td>33.0</td>\n",
       "      <td>6.7</td>\n",
       "      <td>lived</td>\n",
       "      <td>False</td>\n",
       "      <td>0</td>\n",
       "      <td>0</td>\n",
       "      <td>0</td>\n",
       "      <td>1</td>\n",
       "      <td>early chock</td>\n",
       "    </tr>\n",
       "    <tr>\n",
       "      <th>3</th>\n",
       "      <td>1.0</td>\n",
       "      <td>Young</td>\n",
       "      <td>5290409</td>\n",
       "      <td>39.1</td>\n",
       "      <td>164.0</td>\n",
       "      <td>84.0</td>\n",
       "      <td>cold</td>\n",
       "      <td>normal</td>\n",
       "      <td>dark cyanotic</td>\n",
       "      <td>&gt;= 3 seconds</td>\n",
       "      <td>...</td>\n",
       "      <td>distended large intestine</td>\n",
       "      <td>48.0</td>\n",
       "      <td>7.2</td>\n",
       "      <td>died</td>\n",
       "      <td>True</td>\n",
       "      <td>2208</td>\n",
       "      <td>0</td>\n",
       "      <td>0</td>\n",
       "      <td>1</td>\n",
       "      <td>serious circulatory compromise</td>\n",
       "    </tr>\n",
       "    <tr>\n",
       "      <th>4</th>\n",
       "      <td>2.0</td>\n",
       "      <td>Adult</td>\n",
       "      <td>530255</td>\n",
       "      <td>37.3</td>\n",
       "      <td>104.0</td>\n",
       "      <td>35.0</td>\n",
       "      <td>cool</td>\n",
       "      <td>normal</td>\n",
       "      <td>dark cyanotic</td>\n",
       "      <td>&gt;= 3 seconds</td>\n",
       "      <td>...</td>\n",
       "      <td>distended large intestine</td>\n",
       "      <td>74.0</td>\n",
       "      <td>7.4</td>\n",
       "      <td>died</td>\n",
       "      <td>False</td>\n",
       "      <td>4300</td>\n",
       "      <td>0</td>\n",
       "      <td>0</td>\n",
       "      <td>2</td>\n",
       "      <td>serious circulatory compromise</td>\n",
       "    </tr>\n",
       "    <tr>\n",
       "      <th>...</th>\n",
       "      <td>...</td>\n",
       "      <td>...</td>\n",
       "      <td>...</td>\n",
       "      <td>...</td>\n",
       "      <td>...</td>\n",
       "      <td>...</td>\n",
       "      <td>...</td>\n",
       "      <td>...</td>\n",
       "      <td>...</td>\n",
       "      <td>...</td>\n",
       "      <td>...</td>\n",
       "      <td>...</td>\n",
       "      <td>...</td>\n",
       "      <td>...</td>\n",
       "      <td>...</td>\n",
       "      <td>...</td>\n",
       "      <td>...</td>\n",
       "      <td>...</td>\n",
       "      <td>...</td>\n",
       "      <td>...</td>\n",
       "      <td>...</td>\n",
       "    </tr>\n",
       "    <tr>\n",
       "      <th>295</th>\n",
       "      <td>1.0</td>\n",
       "      <td>Adult</td>\n",
       "      <td>533886</td>\n",
       "      <td>38.0</td>\n",
       "      <td>120.0</td>\n",
       "      <td>70.0</td>\n",
       "      <td>cold</td>\n",
       "      <td>normal</td>\n",
       "      <td>pale cyanotic</td>\n",
       "      <td>&gt;= 3 seconds</td>\n",
       "      <td>...</td>\n",
       "      <td>distended large intestine</td>\n",
       "      <td>55.0</td>\n",
       "      <td>65.0</td>\n",
       "      <td>was euthanized</td>\n",
       "      <td>False</td>\n",
       "      <td>3205</td>\n",
       "      <td>0</td>\n",
       "      <td>0</td>\n",
       "      <td>2</td>\n",
       "      <td>serious circulatory compromise</td>\n",
       "    </tr>\n",
       "    <tr>\n",
       "      <th>296</th>\n",
       "      <td>2.0</td>\n",
       "      <td>Adult</td>\n",
       "      <td>527702</td>\n",
       "      <td>37.2</td>\n",
       "      <td>72.0</td>\n",
       "      <td>24.0</td>\n",
       "      <td>cool</td>\n",
       "      <td>increased</td>\n",
       "      <td>pale cyanotic</td>\n",
       "      <td>&gt;= 3 seconds</td>\n",
       "      <td>...</td>\n",
       "      <td>distended small intestine</td>\n",
       "      <td>44.0</td>\n",
       "      <td>6.5</td>\n",
       "      <td>was euthanized</td>\n",
       "      <td>True</td>\n",
       "      <td>2208</td>\n",
       "      <td>0</td>\n",
       "      <td>0</td>\n",
       "      <td>1</td>\n",
       "      <td>serious circulatory compromise</td>\n",
       "    </tr>\n",
       "    <tr>\n",
       "      <th>297</th>\n",
       "      <td>1.0</td>\n",
       "      <td>Adult</td>\n",
       "      <td>529386</td>\n",
       "      <td>37.5</td>\n",
       "      <td>72.0</td>\n",
       "      <td>30.0</td>\n",
       "      <td>cold</td>\n",
       "      <td>reduced</td>\n",
       "      <td>pale cyanotic</td>\n",
       "      <td>&lt; 3 seconds</td>\n",
       "      <td>...</td>\n",
       "      <td>distended large intestine</td>\n",
       "      <td>60.0</td>\n",
       "      <td>6.8</td>\n",
       "      <td>died</td>\n",
       "      <td>True</td>\n",
       "      <td>3205</td>\n",
       "      <td>0</td>\n",
       "      <td>0</td>\n",
       "      <td>2</td>\n",
       "      <td>serious circulatory compromise</td>\n",
       "    </tr>\n",
       "    <tr>\n",
       "      <th>298</th>\n",
       "      <td>1.0</td>\n",
       "      <td>Adult</td>\n",
       "      <td>530612</td>\n",
       "      <td>36.5</td>\n",
       "      <td>100.0</td>\n",
       "      <td>24.0</td>\n",
       "      <td>cool</td>\n",
       "      <td>reduced</td>\n",
       "      <td>pale pink</td>\n",
       "      <td>&lt; 3 seconds</td>\n",
       "      <td>...</td>\n",
       "      <td>distended small intestine</td>\n",
       "      <td>50.0</td>\n",
       "      <td>6.0</td>\n",
       "      <td>lived</td>\n",
       "      <td>True</td>\n",
       "      <td>2208</td>\n",
       "      <td>0</td>\n",
       "      <td>0</td>\n",
       "      <td>1</td>\n",
       "      <td>early chock</td>\n",
       "    </tr>\n",
       "    <tr>\n",
       "      <th>299</th>\n",
       "      <td>1.0</td>\n",
       "      <td>Adult</td>\n",
       "      <td>534618</td>\n",
       "      <td>37.2</td>\n",
       "      <td>40.0</td>\n",
       "      <td>20.0</td>\n",
       "      <td>cool</td>\n",
       "      <td>normal</td>\n",
       "      <td>normal pink</td>\n",
       "      <td>&lt; 3 seconds</td>\n",
       "      <td>...</td>\n",
       "      <td>normal</td>\n",
       "      <td>36.0</td>\n",
       "      <td>62.0</td>\n",
       "      <td>was euthanized</td>\n",
       "      <td>False</td>\n",
       "      <td>6112</td>\n",
       "      <td>0</td>\n",
       "      <td>0</td>\n",
       "      <td>2</td>\n",
       "      <td>None</td>\n",
       "    </tr>\n",
       "  </tbody>\n",
       "</table>\n",
       "<p>300 rows × 26 columns</p>\n",
       "</div>"
      ],
      "text/plain": [
       "    surgery    age hospital_number r_temperature  pulse resp_rate  \\\n",
       "0       2.0  Adult          530101          38.5   66.0      28.0   \n",
       "1       1.0  Adult          534817          39.2   88.0      20.0   \n",
       "2       2.0  Adult          530334          38.3   40.0      24.0   \n",
       "3       1.0  Young         5290409          39.1  164.0      84.0   \n",
       "4       2.0  Adult          530255          37.3  104.0      35.0   \n",
       "..      ...    ...             ...           ...    ...       ...   \n",
       "295     1.0  Adult          533886          38.0  120.0      70.0   \n",
       "296     2.0  Adult          527702          37.2   72.0      24.0   \n",
       "297     1.0  Adult          529386          37.5   72.0      30.0   \n",
       "298     1.0  Adult          530612          36.5  100.0      24.0   \n",
       "299     1.0  Adult          534618          37.2   40.0      20.0   \n",
       "\n",
       "    ext_temperature  per_pulse   muc_membraes  cap_ref_time  ...  \\\n",
       "0              cool    reduced    normal pink  >= 3 seconds  ...   \n",
       "1              cool     normal  pale cyanotic   < 3 seconds  ...   \n",
       "2            normal     normal      pale pink   < 3 seconds  ...   \n",
       "3              cold     normal  dark cyanotic  >= 3 seconds  ...   \n",
       "4              cool     normal  dark cyanotic  >= 3 seconds  ...   \n",
       "..              ...        ...            ...           ...  ...   \n",
       "295            cold     normal  pale cyanotic  >= 3 seconds  ...   \n",
       "296            cool  increased  pale cyanotic  >= 3 seconds  ...   \n",
       "297            cold    reduced  pale cyanotic   < 3 seconds  ...   \n",
       "298            cool    reduced      pale pink   < 3 seconds  ...   \n",
       "299            cool     normal    normal pink   < 3 seconds  ...   \n",
       "\n",
       "                       abdomen pack_cell_vol protein         outcome  \\\n",
       "0    distended large intestine          45.0     8.4            died   \n",
       "1                        other          50.0    85.0  was euthanized   \n",
       "2                       normal          33.0     6.7           lived   \n",
       "3    distended large intestine          48.0     7.2            died   \n",
       "4    distended large intestine          74.0     7.4            died   \n",
       "..                         ...           ...     ...             ...   \n",
       "295  distended large intestine          55.0    65.0  was euthanized   \n",
       "296  distended small intestine          44.0     6.5  was euthanized   \n",
       "297  distended large intestine          60.0     6.8            died   \n",
       "298  distended small intestine          50.0     6.0           lived   \n",
       "299                     normal          36.0    62.0  was euthanized   \n",
       "\n",
       "    surgical_lesion type_lesion_1 type_lesion_2 type_lesion_3 cp_data  \\\n",
       "0             False         11300             0             0       2   \n",
       "1             False          2208             0             0       2   \n",
       "2             False             0             0             0       1   \n",
       "3              True          2208             0             0       1   \n",
       "4             False          4300             0             0       2   \n",
       "..              ...           ...           ...           ...     ...   \n",
       "295           False          3205             0             0       2   \n",
       "296            True          2208             0             0       1   \n",
       "297            True          3205             0             0       2   \n",
       "298            True          2208             0             0       1   \n",
       "299           False          6112             0             0       2   \n",
       "\n",
       "                 extra-muc_membraes  \n",
       "0                              None  \n",
       "1    serious circulatory compromise  \n",
       "2                       early chock  \n",
       "3    serious circulatory compromise  \n",
       "4    serious circulatory compromise  \n",
       "..                              ...  \n",
       "295  serious circulatory compromise  \n",
       "296  serious circulatory compromise  \n",
       "297  serious circulatory compromise  \n",
       "298                     early chock  \n",
       "299                            None  \n",
       "\n",
       "[300 rows x 26 columns]"
      ]
     },
     "execution_count": 136,
     "metadata": {},
     "output_type": "execute_result"
    }
   ],
   "source": [
    "horses_data_tr"
   ]
  },
  {
   "cell_type": "code",
   "execution_count": null,
   "id": "c4cf164f-caa9-4fee-b5e8-6a42743afcb7",
   "metadata": {},
   "outputs": [],
   "source": []
  },
  {
   "cell_type": "code",
   "execution_count": 128,
   "id": "5344ef6f-fa63-4aa5-bb87-1cffd61098a3",
   "metadata": {},
   "outputs": [],
   "source": [
    "from sklearn.preprocessing import OneHotEncoder"
   ]
  },
  {
   "cell_type": "markdown",
   "id": "e9ecf19e-121b-4583-b2c5-6b9c915c02e2",
   "metadata": {},
   "source": [
    "Creamos el objeto para el tratamiento con OneHotEncoder"
   ]
  },
  {
   "cell_type": "code",
   "execution_count": 129,
   "id": "756787de-0579-4ba7-959a-6be0638d38a0",
   "metadata": {},
   "outputs": [],
   "source": [
    "ohe = OneHotEncoder()"
   ]
  },
  {
   "cell_type": "code",
   "execution_count": null,
   "id": "7e786c3a-0b39-4fee-9969-cec70a6b9299",
   "metadata": {},
   "outputs": [],
   "source": [
    "#primera forma de hacerlo\n",
    "#pd.get_dummies(horses_data, columns =horses_data.select_dtypes(include = 'object').columns.tolist() )"
   ]
  },
  {
   "cell_type": "code",
   "execution_count": 130,
   "id": "1d113479-a002-4bcc-a254-e07c069c12e5",
   "metadata": {},
   "outputs": [
    {
     "data": {
      "text/html": [
       "<div>\n",
       "<style scoped>\n",
       "    .dataframe tbody tr th:only-of-type {\n",
       "        vertical-align: middle;\n",
       "    }\n",
       "\n",
       "    .dataframe tbody tr th {\n",
       "        vertical-align: top;\n",
       "    }\n",
       "\n",
       "    .dataframe thead th {\n",
       "        text-align: right;\n",
       "    }\n",
       "</style>\n",
       "<table border=\"1\" class=\"dataframe\">\n",
       "  <thead>\n",
       "    <tr style=\"text-align: right;\">\n",
       "      <th></th>\n",
       "      <th>surgery</th>\n",
       "      <th>age</th>\n",
       "      <th>hospital_number</th>\n",
       "      <th>r_temperature</th>\n",
       "      <th>pulse</th>\n",
       "      <th>resp_rate</th>\n",
       "      <th>ext_temperature</th>\n",
       "      <th>per_pulse</th>\n",
       "      <th>muc_membraes</th>\n",
       "      <th>cap_ref_time</th>\n",
       "      <th>...</th>\n",
       "      <th>abdomen</th>\n",
       "      <th>pack_cell_vol</th>\n",
       "      <th>protein</th>\n",
       "      <th>outcome</th>\n",
       "      <th>type_lesion_1</th>\n",
       "      <th>type_lesion_2</th>\n",
       "      <th>type_lesion_3</th>\n",
       "      <th>cp_data</th>\n",
       "      <th>extra-muc_membraes</th>\n",
       "      <th>surgical_lesion_True</th>\n",
       "    </tr>\n",
       "  </thead>\n",
       "  <tbody>\n",
       "    <tr>\n",
       "      <th>0</th>\n",
       "      <td>2.0</td>\n",
       "      <td>Adult</td>\n",
       "      <td>530101</td>\n",
       "      <td>38.5</td>\n",
       "      <td>66.0</td>\n",
       "      <td>28.0</td>\n",
       "      <td>cool</td>\n",
       "      <td>reduced</td>\n",
       "      <td>NaN</td>\n",
       "      <td>&gt;= 3 seconds</td>\n",
       "      <td>...</td>\n",
       "      <td>distended large intestine</td>\n",
       "      <td>45.0</td>\n",
       "      <td>8.4</td>\n",
       "      <td>died</td>\n",
       "      <td>11300</td>\n",
       "      <td>0</td>\n",
       "      <td>0</td>\n",
       "      <td>2</td>\n",
       "      <td>None</td>\n",
       "      <td>0</td>\n",
       "    </tr>\n",
       "    <tr>\n",
       "      <th>1</th>\n",
       "      <td>1.0</td>\n",
       "      <td>Adult</td>\n",
       "      <td>534817</td>\n",
       "      <td>39.2</td>\n",
       "      <td>88.0</td>\n",
       "      <td>20.0</td>\n",
       "      <td>NaN</td>\n",
       "      <td>NaN</td>\n",
       "      <td>pale cyanotic</td>\n",
       "      <td>&lt; 3 seconds</td>\n",
       "      <td>...</td>\n",
       "      <td>other</td>\n",
       "      <td>50.0</td>\n",
       "      <td>85.0</td>\n",
       "      <td>was euthanized</td>\n",
       "      <td>2208</td>\n",
       "      <td>0</td>\n",
       "      <td>0</td>\n",
       "      <td>2</td>\n",
       "      <td>serious circulatory compromise</td>\n",
       "      <td>0</td>\n",
       "    </tr>\n",
       "    <tr>\n",
       "      <th>2</th>\n",
       "      <td>2.0</td>\n",
       "      <td>Adult</td>\n",
       "      <td>530334</td>\n",
       "      <td>38.3</td>\n",
       "      <td>40.0</td>\n",
       "      <td>24.0</td>\n",
       "      <td>normal</td>\n",
       "      <td>normal</td>\n",
       "      <td>pale pink</td>\n",
       "      <td>&lt; 3 seconds</td>\n",
       "      <td>...</td>\n",
       "      <td>normal</td>\n",
       "      <td>33.0</td>\n",
       "      <td>6.7</td>\n",
       "      <td>lived</td>\n",
       "      <td>0</td>\n",
       "      <td>0</td>\n",
       "      <td>0</td>\n",
       "      <td>1</td>\n",
       "      <td>early chock</td>\n",
       "      <td>0</td>\n",
       "    </tr>\n",
       "    <tr>\n",
       "      <th>3</th>\n",
       "      <td>1.0</td>\n",
       "      <td>Young</td>\n",
       "      <td>5290409</td>\n",
       "      <td>39.1</td>\n",
       "      <td>164.0</td>\n",
       "      <td>84.0</td>\n",
       "      <td>cold</td>\n",
       "      <td>normal</td>\n",
       "      <td>dark cyanotic</td>\n",
       "      <td>&gt;= 3 seconds</td>\n",
       "      <td>...</td>\n",
       "      <td>NaN</td>\n",
       "      <td>48.0</td>\n",
       "      <td>7.2</td>\n",
       "      <td>died</td>\n",
       "      <td>2208</td>\n",
       "      <td>0</td>\n",
       "      <td>0</td>\n",
       "      <td>1</td>\n",
       "      <td>serious circulatory compromise</td>\n",
       "      <td>1</td>\n",
       "    </tr>\n",
       "    <tr>\n",
       "      <th>4</th>\n",
       "      <td>2.0</td>\n",
       "      <td>Adult</td>\n",
       "      <td>530255</td>\n",
       "      <td>37.3</td>\n",
       "      <td>104.0</td>\n",
       "      <td>35.0</td>\n",
       "      <td>NaN</td>\n",
       "      <td>NaN</td>\n",
       "      <td>dark cyanotic</td>\n",
       "      <td>&gt;= 3 seconds</td>\n",
       "      <td>...</td>\n",
       "      <td>NaN</td>\n",
       "      <td>74.0</td>\n",
       "      <td>7.4</td>\n",
       "      <td>died</td>\n",
       "      <td>4300</td>\n",
       "      <td>0</td>\n",
       "      <td>0</td>\n",
       "      <td>2</td>\n",
       "      <td>serious circulatory compromise</td>\n",
       "      <td>0</td>\n",
       "    </tr>\n",
       "    <tr>\n",
       "      <th>...</th>\n",
       "      <td>...</td>\n",
       "      <td>...</td>\n",
       "      <td>...</td>\n",
       "      <td>...</td>\n",
       "      <td>...</td>\n",
       "      <td>...</td>\n",
       "      <td>...</td>\n",
       "      <td>...</td>\n",
       "      <td>...</td>\n",
       "      <td>...</td>\n",
       "      <td>...</td>\n",
       "      <td>...</td>\n",
       "      <td>...</td>\n",
       "      <td>...</td>\n",
       "      <td>...</td>\n",
       "      <td>...</td>\n",
       "      <td>...</td>\n",
       "      <td>...</td>\n",
       "      <td>...</td>\n",
       "      <td>...</td>\n",
       "      <td>...</td>\n",
       "    </tr>\n",
       "    <tr>\n",
       "      <th>295</th>\n",
       "      <td>1.0</td>\n",
       "      <td>Adult</td>\n",
       "      <td>533886</td>\n",
       "      <td>NaN</td>\n",
       "      <td>120.0</td>\n",
       "      <td>70.0</td>\n",
       "      <td>cold</td>\n",
       "      <td>NaN</td>\n",
       "      <td>pale cyanotic</td>\n",
       "      <td>&gt;= 3 seconds</td>\n",
       "      <td>...</td>\n",
       "      <td>distended large intestine</td>\n",
       "      <td>55.0</td>\n",
       "      <td>65.0</td>\n",
       "      <td>was euthanized</td>\n",
       "      <td>3205</td>\n",
       "      <td>0</td>\n",
       "      <td>0</td>\n",
       "      <td>2</td>\n",
       "      <td>serious circulatory compromise</td>\n",
       "      <td>0</td>\n",
       "    </tr>\n",
       "    <tr>\n",
       "      <th>296</th>\n",
       "      <td>2.0</td>\n",
       "      <td>Adult</td>\n",
       "      <td>527702</td>\n",
       "      <td>37.2</td>\n",
       "      <td>72.0</td>\n",
       "      <td>24.0</td>\n",
       "      <td>cool</td>\n",
       "      <td>increased</td>\n",
       "      <td>pale cyanotic</td>\n",
       "      <td>&gt;= 3 seconds</td>\n",
       "      <td>...</td>\n",
       "      <td>distended small intestine</td>\n",
       "      <td>44.0</td>\n",
       "      <td>NaN</td>\n",
       "      <td>was euthanized</td>\n",
       "      <td>2208</td>\n",
       "      <td>0</td>\n",
       "      <td>0</td>\n",
       "      <td>1</td>\n",
       "      <td>serious circulatory compromise</td>\n",
       "      <td>1</td>\n",
       "    </tr>\n",
       "    <tr>\n",
       "      <th>297</th>\n",
       "      <td>1.0</td>\n",
       "      <td>Adult</td>\n",
       "      <td>529386</td>\n",
       "      <td>37.5</td>\n",
       "      <td>72.0</td>\n",
       "      <td>30.0</td>\n",
       "      <td>cold</td>\n",
       "      <td>reduced</td>\n",
       "      <td>pale cyanotic</td>\n",
       "      <td>&lt; 3 seconds</td>\n",
       "      <td>...</td>\n",
       "      <td>distended large intestine</td>\n",
       "      <td>60.0</td>\n",
       "      <td>6.8</td>\n",
       "      <td>died</td>\n",
       "      <td>3205</td>\n",
       "      <td>0</td>\n",
       "      <td>0</td>\n",
       "      <td>2</td>\n",
       "      <td>serious circulatory compromise</td>\n",
       "      <td>1</td>\n",
       "    </tr>\n",
       "    <tr>\n",
       "      <th>298</th>\n",
       "      <td>1.0</td>\n",
       "      <td>Adult</td>\n",
       "      <td>530612</td>\n",
       "      <td>36.5</td>\n",
       "      <td>100.0</td>\n",
       "      <td>24.0</td>\n",
       "      <td>cool</td>\n",
       "      <td>reduced</td>\n",
       "      <td>pale pink</td>\n",
       "      <td>&lt; 3 seconds</td>\n",
       "      <td>...</td>\n",
       "      <td>distended small intestine</td>\n",
       "      <td>50.0</td>\n",
       "      <td>6.0</td>\n",
       "      <td>lived</td>\n",
       "      <td>2208</td>\n",
       "      <td>0</td>\n",
       "      <td>0</td>\n",
       "      <td>1</td>\n",
       "      <td>early chock</td>\n",
       "      <td>1</td>\n",
       "    </tr>\n",
       "    <tr>\n",
       "      <th>299</th>\n",
       "      <td>1.0</td>\n",
       "      <td>Adult</td>\n",
       "      <td>534618</td>\n",
       "      <td>37.2</td>\n",
       "      <td>40.0</td>\n",
       "      <td>20.0</td>\n",
       "      <td>NaN</td>\n",
       "      <td>NaN</td>\n",
       "      <td>NaN</td>\n",
       "      <td>NaN</td>\n",
       "      <td>...</td>\n",
       "      <td>normal</td>\n",
       "      <td>36.0</td>\n",
       "      <td>62.0</td>\n",
       "      <td>was euthanized</td>\n",
       "      <td>6112</td>\n",
       "      <td>0</td>\n",
       "      <td>0</td>\n",
       "      <td>2</td>\n",
       "      <td>None</td>\n",
       "      <td>0</td>\n",
       "    </tr>\n",
       "  </tbody>\n",
       "</table>\n",
       "<p>300 rows × 26 columns</p>\n",
       "</div>"
      ],
      "text/plain": [
       "    surgery    age  hospital_number  r_temperature  pulse  resp_rate  \\\n",
       "0       2.0  Adult           530101           38.5   66.0       28.0   \n",
       "1       1.0  Adult           534817           39.2   88.0       20.0   \n",
       "2       2.0  Adult           530334           38.3   40.0       24.0   \n",
       "3       1.0  Young          5290409           39.1  164.0       84.0   \n",
       "4       2.0  Adult           530255           37.3  104.0       35.0   \n",
       "..      ...    ...              ...            ...    ...        ...   \n",
       "295     1.0  Adult           533886            NaN  120.0       70.0   \n",
       "296     2.0  Adult           527702           37.2   72.0       24.0   \n",
       "297     1.0  Adult           529386           37.5   72.0       30.0   \n",
       "298     1.0  Adult           530612           36.5  100.0       24.0   \n",
       "299     1.0  Adult           534618           37.2   40.0       20.0   \n",
       "\n",
       "    ext_temperature  per_pulse   muc_membraes  cap_ref_time  ...  \\\n",
       "0              cool    reduced            NaN  >= 3 seconds  ...   \n",
       "1               NaN        NaN  pale cyanotic   < 3 seconds  ...   \n",
       "2            normal     normal      pale pink   < 3 seconds  ...   \n",
       "3              cold     normal  dark cyanotic  >= 3 seconds  ...   \n",
       "4               NaN        NaN  dark cyanotic  >= 3 seconds  ...   \n",
       "..              ...        ...            ...           ...  ...   \n",
       "295            cold        NaN  pale cyanotic  >= 3 seconds  ...   \n",
       "296            cool  increased  pale cyanotic  >= 3 seconds  ...   \n",
       "297            cold    reduced  pale cyanotic   < 3 seconds  ...   \n",
       "298            cool    reduced      pale pink   < 3 seconds  ...   \n",
       "299             NaN        NaN            NaN           NaN  ...   \n",
       "\n",
       "                       abdomen pack_cell_vol protein         outcome  \\\n",
       "0    distended large intestine          45.0     8.4            died   \n",
       "1                        other          50.0    85.0  was euthanized   \n",
       "2                       normal          33.0     6.7           lived   \n",
       "3                          NaN          48.0     7.2            died   \n",
       "4                          NaN          74.0     7.4            died   \n",
       "..                         ...           ...     ...             ...   \n",
       "295  distended large intestine          55.0    65.0  was euthanized   \n",
       "296  distended small intestine          44.0     NaN  was euthanized   \n",
       "297  distended large intestine          60.0     6.8            died   \n",
       "298  distended small intestine          50.0     6.0           lived   \n",
       "299                     normal          36.0    62.0  was euthanized   \n",
       "\n",
       "    type_lesion_1 type_lesion_2 type_lesion_3  cp_data  \\\n",
       "0           11300             0             0        2   \n",
       "1            2208             0             0        2   \n",
       "2               0             0             0        1   \n",
       "3            2208             0             0        1   \n",
       "4            4300             0             0        2   \n",
       "..            ...           ...           ...      ...   \n",
       "295          3205             0             0        2   \n",
       "296          2208             0             0        1   \n",
       "297          3205             0             0        2   \n",
       "298          2208             0             0        1   \n",
       "299          6112             0             0        2   \n",
       "\n",
       "                 extra-muc_membraes surgical_lesion_True  \n",
       "0                              None                    0  \n",
       "1    serious circulatory compromise                    0  \n",
       "2                       early chock                    0  \n",
       "3    serious circulatory compromise                    1  \n",
       "4    serious circulatory compromise                    0  \n",
       "..                              ...                  ...  \n",
       "295  serious circulatory compromise                    0  \n",
       "296  serious circulatory compromise                    1  \n",
       "297  serious circulatory compromise                    1  \n",
       "298                     early chock                    1  \n",
       "299                            None                    0  \n",
       "\n",
       "[300 rows x 26 columns]"
      ]
     },
     "execution_count": 130,
     "metadata": {},
     "output_type": "execute_result"
    }
   ],
   "source": [
    "#segunda forma de hacerlo drop_first evalúa cuales son las categorías y a la última ya le pone true or false\n",
    "pd.get_dummies(horses_data, columns = ['surgical_lesion'], drop_first = True)"
   ]
  },
  {
   "cell_type": "code",
   "execution_count": null,
   "id": "e50f59f9-ad9a-47fb-ab0e-171292494d3e",
   "metadata": {},
   "outputs": [],
   "source": []
  },
  {
   "cell_type": "code",
   "execution_count": null,
   "id": "43d86b0f-6de4-4d44-8331-4cad04834b43",
   "metadata": {},
   "outputs": [],
   "source": []
  },
  {
   "cell_type": "code",
   "execution_count": null,
   "id": "cc750bf5-18d9-4b50-925d-aeeaa6232f90",
   "metadata": {},
   "outputs": [],
   "source": []
  },
  {
   "cell_type": "code",
   "execution_count": null,
   "id": "114d1c0a-0a56-4e5b-8635-05b3b74c89f8",
   "metadata": {},
   "outputs": [],
   "source": []
  },
  {
   "cell_type": "code",
   "execution_count": null,
   "id": "ff98aec0-415b-4a22-ad96-487523c29654",
   "metadata": {},
   "outputs": [],
   "source": []
  },
  {
   "cell_type": "code",
   "execution_count": null,
   "id": "25cc1fce-9188-41bb-9a40-8ff7570ca156",
   "metadata": {},
   "outputs": [],
   "source": []
  }
 ],
 "metadata": {
  "kernelspec": {
   "display_name": "Python 3 (ipykernel)",
   "language": "python",
   "name": "python3"
  },
  "language_info": {
   "codemirror_mode": {
    "name": "ipython",
    "version": 3
   },
   "file_extension": ".py",
   "mimetype": "text/x-python",
   "name": "python",
   "nbconvert_exporter": "python",
   "pygments_lexer": "ipython3",
   "version": "3.9.7"
  }
 },
 "nbformat": 4,
 "nbformat_minor": 5
}
